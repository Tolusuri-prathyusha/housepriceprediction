{
  "cells": [
    {
      "cell_type": "markdown",
      "id": "76d39ce9",
      "metadata": {
        "id": "76d39ce9"
      },
      "source": [
        "4 Steps in WebScraping :\n",
        "\n",
        "-->Sending a HTTP GET request to the url of the webpage by using requests library\n",
        "\n",
        "-->Fetching and Parsing the data using BeautifulSoup and maintain the data in some dicts/lists\n",
        "\n",
        "-->Analyzing the HTML tags and their attributes\n",
        "\n",
        "-->Output the data in any file format(.csv,.xlsx,.json)"
      ]
    },
    {
      "cell_type": "code",
      "execution_count": null,
      "id": "f5dc500a",
      "metadata": {
        "id": "f5dc500a"
      },
      "outputs": [],
      "source": [
        "#!pip install requests"
      ]
    },
    {
      "cell_type": "code",
      "execution_count": null,
      "id": "a090c051",
      "metadata": {
        "id": "a090c051"
      },
      "outputs": [],
      "source": [
        "#!pip install bs4"
      ]
    },
    {
      "cell_type": "code",
      "execution_count": null,
      "id": "97fb71c2",
      "metadata": {
        "id": "97fb71c2"
      },
      "outputs": [],
      "source": [
        "import requests\n",
        "import bs4\n",
        "#help(bs4)"
      ]
    },
    {
      "cell_type": "code",
      "execution_count": null,
      "id": "e16ded53",
      "metadata": {
        "colab": {
          "base_uri": "https://localhost:8080/"
        },
        "id": "e16ded53",
        "outputId": "0bcd50d8-c5ae-4887-c55a-f2b2da311ad9"
      },
      "outputs": [
        {
          "output_type": "execute_result",
          "data": {
            "text/plain": [
              "<Response [200]>"
            ]
          },
          "metadata": {},
          "execution_count": 2
        }
      ],
      "source": [
        "from bs4 import BeautifulSoup\n",
        "#connect to the url\n",
        "url = \"https://www.makaan.com/vijayawada-residential-property/buy-property-in-vijayawada-city\"\n",
        "data = requests.get(url)\n",
        "data"
      ]
    },
    {
      "cell_type": "code",
      "execution_count": null,
      "id": "8ae4e1df",
      "metadata": {
        "id": "8ae4e1df"
      },
      "outputs": [],
      "source": [
        "#This is where BeautifulSoup comes into action by getting the data\n",
        "soup = BeautifulSoup(data.content,'html')\n",
        "#soup"
      ]
    },
    {
      "cell_type": "code",
      "execution_count": null,
      "id": "6debf0eb",
      "metadata": {
        "id": "6debf0eb"
      },
      "outputs": [],
      "source": [
        "#print(soup.prettify())"
      ]
    },
    {
      "cell_type": "code",
      "execution_count": null,
      "id": "9323cd85",
      "metadata": {
        "colab": {
          "base_uri": "https://localhost:8080/",
          "height": 35
        },
        "id": "9323cd85",
        "outputId": "397162ec-7fe6-42aa-a9fd-6cfa1ac1243d"
      },
      "outputs": [
        {
          "output_type": "execute_result",
          "data": {
            "text/plain": [
              "'3 BHK Apartment in Lakshmi Serenity'"
            ],
            "application/vnd.google.colaboratory.intrinsic+json": {
              "type": "string"
            }
          },
          "metadata": {},
          "execution_count": 5
        }
      ],
      "source": [
        "#extracting Property name\n",
        "soup.find('div',attrs={'class':'title-line'}).text"
      ]
    },
    {
      "cell_type": "code",
      "execution_count": null,
      "id": "39198d71",
      "metadata": {
        "colab": {
          "base_uri": "https://localhost:8080/",
          "height": 35
        },
        "id": "39198d71",
        "outputId": "3821026d-e113-49c4-e4fc-58cf58136d7d"
      },
      "outputs": [
        {
          "output_type": "execute_result",
          "data": {
            "text/plain": [
              "'3'"
            ],
            "application/vnd.google.colaboratory.intrinsic+json": {
              "type": "string"
            }
          },
          "metadata": {},
          "execution_count": 6
        }
      ],
      "source": [
        "soup.find('a',attrs={'class':'typelink'}).span.text.strip()"
      ]
    },
    {
      "cell_type": "code",
      "execution_count": null,
      "id": "1183263b",
      "metadata": {
        "colab": {
          "base_uri": "https://localhost:8080/",
          "height": 35
        },
        "id": "1183263b",
        "outputId": "af99a191-38fa-4869-c24a-3b293c85cc11"
      },
      "outputs": [
        {
          "output_type": "execute_result",
          "data": {
            "text/plain": [
              "'Penamaluru'"
            ],
            "application/vnd.google.colaboratory.intrinsic+json": {
              "type": "string"
            }
          },
          "metadata": {},
          "execution_count": 7
        }
      ],
      "source": [
        "soup.find('span',attrs={'itemprop':'addressLocality'}).text"
      ]
    },
    {
      "cell_type": "code",
      "execution_count": null,
      "id": "5a44c2c7",
      "metadata": {
        "colab": {
          "base_uri": "https://localhost:8080/",
          "height": 35
        },
        "id": "5a44c2c7",
        "outputId": "884fd95e-0ea3-423c-e8a0-2f434f462962"
      },
      "outputs": [
        {
          "output_type": "execute_result",
          "data": {
            "text/plain": [
              "'1.08 Cr'"
            ],
            "application/vnd.google.colaboratory.intrinsic+json": {
              "type": "string"
            }
          },
          "metadata": {},
          "execution_count": 8
        }
      ],
      "source": [
        "#find the area and total price\n",
        "soup.find('div',attrs={'data-type':'price-link'}).text.strip()"
      ]
    },
    {
      "cell_type": "code",
      "execution_count": null,
      "id": "31cf1357",
      "metadata": {
        "colab": {
          "base_uri": "https://localhost:8080/",
          "height": 35
        },
        "id": "31cf1357",
        "outputId": "7d26a0d5-f541-4be2-9c1f-9f75afc3ca24"
      },
      "outputs": [
        {
          "output_type": "execute_result",
          "data": {
            "text/plain": [
              "'2161'"
            ],
            "application/vnd.google.colaboratory.intrinsic+json": {
              "type": "string"
            }
          },
          "metadata": {},
          "execution_count": 9
        }
      ],
      "source": [
        "soup.find('td',attrs={'class':'size'}).text.strip()"
      ]
    },
    {
      "cell_type": "code",
      "execution_count": null,
      "id": "9e5aa8c2",
      "metadata": {
        "colab": {
          "base_uri": "https://localhost:8080/",
          "height": 35
        },
        "id": "9e5aa8c2",
        "outputId": "005d727c-42f8-409d-8426-da54902d176c"
      },
      "outputs": [
        {
          "output_type": "execute_result",
          "data": {
            "text/plain": [
              "'Ready to move'"
            ],
            "application/vnd.google.colaboratory.intrinsic+json": {
              "type": "string"
            }
          },
          "metadata": {},
          "execution_count": 10
        }
      ],
      "source": [
        "soup.find('td',attrs={'class':'val'}).text"
      ]
    },
    {
      "cell_type": "code",
      "execution_count": null,
      "id": "ec045d35",
      "metadata": {
        "colab": {
          "base_uri": "https://localhost:8080/",
          "height": 35
        },
        "id": "ec045d35",
        "outputId": "7125e4ef-125e-4b8e-f038-ecb824a26aa7"
      },
      "outputs": [
        {
          "output_type": "execute_result",
          "data": {
            "text/plain": [
              "'0 - 1 year oldNew '"
            ],
            "application/vnd.google.colaboratory.intrinsic+json": {
              "type": "string"
            }
          },
          "metadata": {},
          "execution_count": 11
        }
      ],
      "source": [
        "soup.find('ul',attrs={'class':'listing-details'}).text"
      ]
    },
    {
      "cell_type": "code",
      "execution_count": null,
      "id": "165aa6cd",
      "metadata": {
        "id": "165aa6cd"
      },
      "outputs": [],
      "source": [
        "#now we will extract details from the entire first page\n",
        "#find_all()\n",
        "#soup.find_all('div',attrs={'class':'title-line'}).text"
      ]
    },
    {
      "cell_type": "code",
      "execution_count": null,
      "id": "1b9fd221",
      "metadata": {
        "colab": {
          "base_uri": "https://localhost:8080/"
        },
        "id": "1b9fd221",
        "outputId": "d08c776c-cf96-441d-d270-63ee6f879d3c"
      },
      "outputs": [
        {
          "output_type": "stream",
          "name": "stdout",
          "text": [
            "['3 BHK Apartment in Lakshmi Serenity', '2 BHK Apartment in Vishwa Ayodhya Gated Community', '3 BHK Apartment in Lakshmi Serenity', '2 BHK Apartment in Vishwa Ayodhya Gated Community', '3 BHK Apartment in Lakshmi Serenity', '3 BHK Apartment in Vishwa Ayodhya Gated Community', '5 BHK Independent House', '5 BHK Independent House', '4 BHK Apartment in Invicon Navah', '2 BHK Apartment', 'Residential Plot', '8 BHK Independent House', '3 BHK Apartment', '3 BHK Villa', 'Residential Plot', '3 BHK Villa in Emerald Sri Nivasam', 'Residential Plot in Greenagri Amaravati Plots', 'Residential Plot in Project', '3 BHK Villa', 'Residential Plot in Project']\n",
            "20\n"
          ]
        }
      ],
      "source": [
        "#as find_all() to be used for multiple entries we go for iterations\n",
        "a = soup.find_all('div',attrs={'class':'title-line'})\n",
        "names = [] #this list will have property names\n",
        "for i in a:\n",
        "    #print(i.text)\n",
        "    names.append(i.text)\n",
        "print(names)\n",
        "print(len(names))"
      ]
    },
    {
      "cell_type": "code",
      "execution_count": null,
      "id": "cd08101a",
      "metadata": {
        "colab": {
          "base_uri": "https://localhost:8080/"
        },
        "id": "cd08101a",
        "outputId": "972c0e69-a238-4564-ecc7-ae535b064fd9"
      },
      "outputs": [
        {
          "output_type": "stream",
          "name": "stdout",
          "text": [
            "['Penamaluru', 'Gannavaram', 'Penamaluru', 'Gannavaram', 'Penamaluru', 'Gannavaram', 'Ramalingeswara Nagar', 'PNT Colony', 'Kanuru', 'Gollapudi', 'Penamaluru', 'Currency Nagar', 'Gannavaram', 'Kankipadu', 'Ramavarapadu', 'Rajiv Bhargav Colony', 'Ibrahimpatnam', 'Nunna', 'Payakapuram', 'Nunna']\n",
            "20\n"
          ]
        }
      ],
      "source": [
        "b = soup.find_all('span',attrs={'itemprop':'addressLocality'})\n",
        "#optimized way -->List Comprehension\n",
        "#syntax is --> [exprsn for var in collection/function]\n",
        "places = [i.text for i in b]\n",
        "print(places)\n",
        "print(len(places))"
      ]
    },
    {
      "cell_type": "code",
      "execution_count": null,
      "id": "841d95b9",
      "metadata": {
        "colab": {
          "base_uri": "https://localhost:8080/"
        },
        "id": "841d95b9",
        "outputId": "b50a2bfa-b9d0-4300-83cc-adfcdb6c5267"
      },
      "outputs": [
        {
          "output_type": "stream",
          "name": "stdout",
          "text": [
            "['1.08 Cr', '28 L', '90.51 L', '28 L', '1 Cr', '53 L', '1.1 Cr', '1.5 Cr', '2.15 Cr', '43 L', '42 L', '3.5 Cr', '75 L', '68 L', '22.5 L', '1.42 Cr', '1.11 Cr', '49.99 L', '1.3 Cr', '46 L']\n",
            "20\n"
          ]
        }
      ],
      "source": [
        "#extracting price\n",
        "c = soup.find_all('div',attrs={'data-type':'price-link'})\n",
        "d = [i.text.strip() for i in c]\n",
        "print(d)\n",
        "print(len(d))"
      ]
    },
    {
      "cell_type": "code",
      "execution_count": null,
      "id": "61ba2600",
      "metadata": {
        "colab": {
          "base_uri": "https://localhost:8080/"
        },
        "id": "61ba2600",
        "outputId": "8755b2f6-632c-444a-fab5-b1fbb1e865e4"
      },
      "outputs": [
        {
          "output_type": "stream",
          "name": "stdout",
          "text": [
            "[108.0, 28.0, 90.51, 28.0, 100.0, 53.0, 110.00000000000001, 150.0, 215.0, 43.0, 42.0, 350.0, 75.0, 68.0, 22.5, 142.0, 111.00000000000001, 49.99, 130.0, 46.0]\n",
            "20\n"
          ]
        }
      ],
      "source": [
        "#Now we need to remove 'L' and 'Cr' from the above price\n",
        "#As prices are in Lakhs and Crores we start removing them\n",
        "Price = []\n",
        "for i in c:\n",
        "    i = i.text.strip()\n",
        "    if \"Cr\" in i:\n",
        "        i = i.replace(\" Cr\",'') #replacing with empty string\n",
        "        i = float(i) * 100 #converting into lakhs\n",
        "    else:\n",
        "        i = i.replace(\" L\",\"\")\n",
        "        i = float(i)\n",
        "    Price.append(i)\n",
        "print(Price)\n",
        "print(len(Price))"
      ]
    },
    {
      "cell_type": "code",
      "execution_count": null,
      "id": "ec47abbe",
      "metadata": {
        "colab": {
          "base_uri": "https://localhost:8080/"
        },
        "id": "ec47abbe",
        "outputId": "9673f67f-63b2-42f9-e16c-7c7ca4a46366"
      },
      "outputs": [
        {
          "output_type": "stream",
          "name": "stdout",
          "text": [
            "['2161', '1120', '2012', '1120', '2014', '2120', '2550', '3000', '2715', '1040', '200', '6500', '2158', '1650', '167', '2585', '3150', '1360', '2650', '1800']\n",
            "20\n"
          ]
        }
      ],
      "source": [
        "d = soup.find_all('td',attrs={'class':'size'})\n",
        "area = [i.text.strip() for i in d]\n",
        "print(area)\n",
        "print(len(area))"
      ]
    },
    {
      "cell_type": "code",
      "execution_count": null,
      "id": "8729a3c1",
      "metadata": {
        "colab": {
          "base_uri": "https://localhost:8080/"
        },
        "id": "8729a3c1",
        "outputId": "1ea159e6-228c-41ea-eff1-0cd23a89e811"
      },
      "outputs": [
        {
          "output_type": "stream",
          "name": "stdout",
          "text": [
            "['Apartment', 'Apartment', 'Apartment', 'Apartment', 'Apartment', 'Apartment', 'Independent House', 'Independent House', 'Apartment', 'Apartment', 'Residential Plot', 'Independent House', 'Apartment', 'Villa', 'Residential Plot', 'Villa', 'Residential Plot', 'Residential Plot', 'Villa', 'Residential Plot']\n",
            "20\n"
          ]
        }
      ],
      "source": [
        "#Getting the house type along with information about bathrooms/facing\n",
        "property_types = ['Apartment','Builder Floor','Villa',\n",
        "                  'Residential Plot','Independent House',\n",
        "                  'Independent Floor','Studio Apartment']\n",
        "f = soup.find_all('div',attrs={'class':'title-line'})\n",
        "Type = []\n",
        "for i in f:\n",
        "    i = i.text\n",
        "    for p_type in property_types:\n",
        "        if p_type in i:\n",
        "            Type.append(p_type)\n",
        "print(Type)\n",
        "print(len(Type))"
      ]
    },
    {
      "cell_type": "code",
      "execution_count": null,
      "id": "7d61ec02",
      "metadata": {
        "colab": {
          "base_uri": "https://localhost:8080/"
        },
        "id": "7d61ec02",
        "outputId": "94bb170c-0be5-4f0a-90be-68a5092506e0"
      },
      "outputs": [
        {
          "output_type": "stream",
          "name": "stdout",
          "text": [
            "['3', '2', '3', '2', '3', '3', '5', '5', '4', '2', '0', '8', '3', '3', '0', '3', '0', '0', '3', '0']\n",
            "20\n"
          ]
        }
      ],
      "source": [
        "#Now for the number of BHK we will replace Residential plot with '0'\n",
        "f = soup.find_all('div',attrs={'class':'title-line'})\n",
        "Rooms = []\n",
        "for i in f:\n",
        "    i = i.span.text\n",
        "    #print(i)\n",
        "    i = i.replace(\"Residential Plot\",'0').replace(' ','')\n",
        "    Rooms.append(i)\n",
        "print(Rooms)\n",
        "print(len(Rooms))"
      ]
    },
    {
      "cell_type": "code",
      "execution_count": null,
      "id": "3512a2ea",
      "metadata": {
        "colab": {
          "base_uri": "https://localhost:8080/"
        },
        "id": "3512a2ea",
        "outputId": "2dc12f90-1713-4b0b-ffdd-5f653d11ee30"
      },
      "outputs": [
        {
          "output_type": "stream",
          "name": "stdout",
          "text": [
            "['Ready to move', 'Ready to move', 'Ready to move', 'Ready to move', 'Ready to move', 'Ready to move', 'Ready to move', 'Under Construction', 'Ready to move', 'Ready to move', 'Resale', 'Ready to move', 'Under Construction', 'Under Construction', 'Resale', 'Under Construction', 'New', 'New', 'Ready to move', 'New']\n",
            "20\n"
          ]
        }
      ],
      "source": [
        "#checking status type\n",
        "s = soup.find_all('td',attrs={'class':'val'})\n",
        "status = [i.text for i in s]\n",
        "print(status)\n",
        "print(len(status))"
      ]
    },
    {
      "cell_type": "code",
      "execution_count": null,
      "id": "0ea65c41",
      "metadata": {
        "colab": {
          "base_uri": "https://localhost:8080/"
        },
        "id": "0ea65c41",
        "outputId": "4811c0ef-353c-48ae-cc05-cd7f3d0d8632"
      },
      "outputs": [
        {
          "output_type": "stream",
          "name": "stdout",
          "text": [
            "['0 - 1 year oldNew ', '0 - 1 year oldNew ', '0 - 1 year oldNew ', '0 - 1 year oldNew ', '0 - 1 year oldNew ', '0 - 1 year oldNew ', '4 - 5 years old5 BathroomsResale ', '5 BathroomsResale ', '4 BathroomsResale East facing', '2 BathroomsResale ', '8 - 9 years old1 open sides', '8 years old7 BathroomsResale ', '3 BathroomsResale ', '2 BathroomsResale ', '4 - 5 years old1 open sides', 'Possession by Feb 2025New ', 'Possession by Jun 2025', '1 open sidesEast facing', '6 - 7 years old4 BathroomsNew ', '4 open sidesEast facing']\n",
            "20\n"
          ]
        }
      ],
      "source": [
        "#details of the property\n",
        "d = soup.find_all('ul',attrs={'class':'listing-details'})\n",
        "details = [i.text for i in d]\n",
        "print(details)\n",
        "print(len(details))"
      ]
    },
    {
      "cell_type": "code",
      "execution_count": null,
      "id": "d79c669b",
      "metadata": {
        "colab": {
          "base_uri": "https://localhost:8080/"
        },
        "id": "d79c669b",
        "outputId": "bdd29942-e9cd-42ad-b07b-2cb37e8e0568"
      },
      "outputs": [
        {
          "output_type": "stream",
          "name": "stdout",
          "text": [
            "['None', 'None', 'None', 'None', 'None', 'None', 'None', 'None', 'East', 'None', 'None', 'None', 'None', 'None', 'None', 'None', 'None', 'East', 'None', 'East']\n",
            "[0, 0, 0, 0, 0, 0, 5, 5, 4, 2, 0, 7, 3, 2, 0, 0, 0, 0, 4, 0]\n"
          ]
        }
      ],
      "source": [
        "#So we finally separate Bathrooms and Type of Facing listings\n",
        "#Regular Expressions -->re\n",
        "import re #pattern matching\n",
        "d = soup.find_all('ul',attrs={'class':'listing-details'})\n",
        "Bathrooms = []\n",
        "Facing = []\n",
        "for i in d:\n",
        "    i = i.text\n",
        "    bathroom_count = re.findall(r'(\\d+) Bathrooms',i)#\\d -->digits\n",
        "    if bathroom_count:\n",
        "        Bathrooms.append(int(bathroom_count[0]))\n",
        "    else:\n",
        "        Bathrooms.append(0)\n",
        "    facing_direction = re.findall(r'(North|South|East|West|NorthEast|NorthWest|SouthEast|SouthWest) facing',\n",
        "                                  i)\n",
        "    if facing_direction:\n",
        "        Facing.append(facing_direction[0])\n",
        "    else:\n",
        "        Facing.append('None')\n",
        "print(Facing)\n",
        "print(Bathrooms)"
      ]
    },
    {
      "cell_type": "code",
      "execution_count": null,
      "id": "64bf7ad2",
      "metadata": {
        "id": "64bf7ad2"
      },
      "outputs": [],
      "source": [
        "#now we will use the same above logic to extract for the entire page\n",
        "#ipython -->Interactive Python\n",
        "#!pip install ipython"
      ]
    },
    {
      "cell_type": "code",
      "execution_count": null,
      "id": "dbdebdd6",
      "metadata": {
        "colab": {
          "base_uri": "https://localhost:8080/"
        },
        "id": "dbdebdd6",
        "outputId": "3bc57b08-cb85-4ebc-9ea5-371db624c1f1"
      },
      "outputs": [
        {
          "output_type": "stream",
          "name": "stdout",
          "text": [
            "https://www.makaan.com/vijayawada-residential-property/buy-property-in-vijayawada-city?page=1\n",
            "https://www.makaan.com/vijayawada-residential-property/buy-property-in-vijayawada-city?page=2\n",
            "https://www.makaan.com/vijayawada-residential-property/buy-property-in-vijayawada-city?page=3\n",
            "https://www.makaan.com/vijayawada-residential-property/buy-property-in-vijayawada-city?page=4\n",
            "https://www.makaan.com/vijayawada-residential-property/buy-property-in-vijayawada-city?page=5\n",
            "https://www.makaan.com/vijayawada-residential-property/buy-property-in-vijayawada-city?page=6\n",
            "https://www.makaan.com/vijayawada-residential-property/buy-property-in-vijayawada-city?page=7\n",
            "https://www.makaan.com/vijayawada-residential-property/buy-property-in-vijayawada-city?page=8\n",
            "https://www.makaan.com/vijayawada-residential-property/buy-property-in-vijayawada-city?page=9\n",
            "https://www.makaan.com/vijayawada-residential-property/buy-property-in-vijayawada-city?page=10\n",
            "https://www.makaan.com/vijayawada-residential-property/buy-property-in-vijayawada-city?page=11\n",
            "https://www.makaan.com/vijayawada-residential-property/buy-property-in-vijayawada-city?page=12\n",
            "https://www.makaan.com/vijayawada-residential-property/buy-property-in-vijayawada-city?page=13\n",
            "https://www.makaan.com/vijayawada-residential-property/buy-property-in-vijayawada-city?page=14\n",
            "https://www.makaan.com/vijayawada-residential-property/buy-property-in-vijayawada-city?page=15\n",
            "https://www.makaan.com/vijayawada-residential-property/buy-property-in-vijayawada-city?page=16\n",
            "https://www.makaan.com/vijayawada-residential-property/buy-property-in-vijayawada-city?page=17\n",
            "https://www.makaan.com/vijayawada-residential-property/buy-property-in-vijayawada-city?page=18\n",
            "https://www.makaan.com/vijayawada-residential-property/buy-property-in-vijayawada-city?page=19\n",
            "https://www.makaan.com/vijayawada-residential-property/buy-property-in-vijayawada-city?page=20\n",
            "https://www.makaan.com/vijayawada-residential-property/buy-property-in-vijayawada-city?page=21\n",
            "https://www.makaan.com/vijayawada-residential-property/buy-property-in-vijayawada-city?page=22\n",
            "https://www.makaan.com/vijayawada-residential-property/buy-property-in-vijayawada-city?page=23\n",
            "https://www.makaan.com/vijayawada-residential-property/buy-property-in-vijayawada-city?page=24\n",
            "https://www.makaan.com/vijayawada-residential-property/buy-property-in-vijayawada-city?page=25\n",
            "https://www.makaan.com/vijayawada-residential-property/buy-property-in-vijayawada-city?page=26\n",
            "https://www.makaan.com/vijayawada-residential-property/buy-property-in-vijayawada-city?page=27\n",
            "https://www.makaan.com/vijayawada-residential-property/buy-property-in-vijayawada-city?page=28\n",
            "https://www.makaan.com/vijayawada-residential-property/buy-property-in-vijayawada-city?page=29\n",
            "https://www.makaan.com/vijayawada-residential-property/buy-property-in-vijayawada-city?page=30\n",
            "https://www.makaan.com/vijayawada-residential-property/buy-property-in-vijayawada-city?page=31\n",
            "https://www.makaan.com/vijayawada-residential-property/buy-property-in-vijayawada-city?page=32\n",
            "https://www.makaan.com/vijayawada-residential-property/buy-property-in-vijayawada-city?page=33\n",
            "https://www.makaan.com/vijayawada-residential-property/buy-property-in-vijayawada-city?page=34\n",
            "https://www.makaan.com/vijayawada-residential-property/buy-property-in-vijayawada-city?page=35\n",
            "https://www.makaan.com/vijayawada-residential-property/buy-property-in-vijayawada-city?page=36\n",
            "https://www.makaan.com/vijayawada-residential-property/buy-property-in-vijayawada-city?page=37\n",
            "https://www.makaan.com/vijayawada-residential-property/buy-property-in-vijayawada-city?page=38\n",
            "https://www.makaan.com/vijayawada-residential-property/buy-property-in-vijayawada-city?page=39\n",
            "https://www.makaan.com/vijayawada-residential-property/buy-property-in-vijayawada-city?page=40\n",
            "https://www.makaan.com/vijayawada-residential-property/buy-property-in-vijayawada-city?page=41\n",
            "https://www.makaan.com/vijayawada-residential-property/buy-property-in-vijayawada-city?page=42\n",
            "https://www.makaan.com/vijayawada-residential-property/buy-property-in-vijayawada-city?page=43\n",
            "https://www.makaan.com/vijayawada-residential-property/buy-property-in-vijayawada-city?page=44\n",
            "https://www.makaan.com/vijayawada-residential-property/buy-property-in-vijayawada-city?page=45\n",
            "https://www.makaan.com/vijayawada-residential-property/buy-property-in-vijayawada-city?page=46\n",
            "https://www.makaan.com/vijayawada-residential-property/buy-property-in-vijayawada-city?page=47\n",
            "https://www.makaan.com/vijayawada-residential-property/buy-property-in-vijayawada-city?page=48\n",
            "https://www.makaan.com/vijayawada-residential-property/buy-property-in-vijayawada-city?page=49\n",
            "https://www.makaan.com/vijayawada-residential-property/buy-property-in-vijayawada-city?page=50\n"
          ]
        }
      ],
      "source": [
        "base_url = \"https://www.makaan.com/vijayawada-residential-property/buy-property-in-vijayawada-city?page=\"\n",
        "for i in range(1,51):\n",
        "    url = base_url+str(i)\n",
        "    print(url)"
      ]
    },
    {
      "cell_type": "code",
      "execution_count": null,
      "id": "f74ab96b",
      "metadata": {
        "id": "f74ab96b"
      },
      "outputs": [],
      "source": [
        "#pip install ipython\n",
        "from IPython.display import clear_output\n",
        "import time"
      ]
    },
    {
      "cell_type": "markdown",
      "id": "36c384ba",
      "metadata": {
        "id": "36c384ba"
      },
      "source": [
        "## Scraping from multiple pages from the website"
      ]
    },
    {
      "cell_type": "code",
      "execution_count": null,
      "id": "99d42a7f",
      "metadata": {
        "colab": {
          "base_uri": "https://localhost:8080/"
        },
        "id": "99d42a7f",
        "outputId": "6569a173-5373-49b8-b55d-2c018ea41e87"
      },
      "outputs": [
        {
          "output_type": "stream",
          "name": "stdout",
          "text": [
            "Scraping Info from Page --> 53\n"
          ]
        }
      ],
      "source": [
        "Bedrooms = [];Bathrooms = []\n",
        "Location = [];Price = []\n",
        "Size = [];Status = []\n",
        "Facing = [];Type = []\n",
        "\n",
        "property_types = ['Apartment', 'Independent House',\n",
        "                  'Independent Floor',\n",
        "                  'Villa', 'Studio Apartment',\n",
        "                  'Residential Plot', 'Builder Floor']\n",
        "\n",
        "for i in range(1, 54):\n",
        "  url = f'https://www.makaan.com/vijayawada-residential-property/buy-property-in-vijayawada-city?propertyType=apartment,builder-floor,villa,residential-plot,independent-house,studio-apartment&page={i}'\n",
        "  print(f'Scraping Info from Page --> {i}')\n",
        "  clear_output(wait=True)\n",
        "  time.sleep(3) #waiting time to move from one page to other\n",
        "\n",
        "  d = requests.get(url)\n",
        "  soup = BeautifulSoup(d.content, 'html')\n",
        "\n",
        "  a = soup.find_all('a', attrs={'class':'typelink'})\n",
        "  for i in a:\n",
        "    i = i.span.text #you need only number which is present in start\n",
        "    i = i.replace('Residential Plot', '0').replace(' ', '')\n",
        "    Bedrooms.append(i)\n",
        "\n",
        "  b = soup.find_all('span', attrs={'itemprop':'addressLocality'})\n",
        "  for i in b:\n",
        "    Location.append(i.text)\n",
        "\n",
        "  c = soup.find_all('div', attrs={'data-type':'price-link'})\n",
        "  for i in c:\n",
        "    i = i.text.strip()\n",
        "    if 'Cr' in i:\n",
        "      i = i.replace(' Cr', '')\n",
        "      i = float(i) * 100 #converting into Lakhs\n",
        "    else:\n",
        "      i = i.replace(' L', '')\n",
        "      i = float(i)\n",
        "    Price.append(i)\n",
        "\n",
        "  #Extracting Area\n",
        "  d = soup.find_all('td', attrs={'class':'size'})\n",
        "  for i in d:\n",
        "    i = i.text.strip()\n",
        "    Size.append(i)\n",
        "\n",
        "  #Extracting construction status\n",
        "  e = soup.find_all('td', attrs={'class':'val'})\n",
        "  for i in e:\n",
        "    i = i.text\n",
        "    Status.append(i)\n",
        "\n",
        "  #Extracting Bathrooms and Facing Type\n",
        "  f = soup.find_all('ul', attrs={'class':'listing-details'})\n",
        "  for i in f:\n",
        "    i = i.text\n",
        "    bathroom_count = re.findall(r'(\\d+) Bathrooms', i)\n",
        "    if bathroom_count:\n",
        "      Bathrooms.append(int(bathroom_count[0]))\n",
        "    else:\n",
        "      Bathrooms.append('0')\n",
        "    facing_direction = re.findall(r'(North|South|East|West|NorthEast|NorthWest|SouthEast|SouthWest) facing', i)\n",
        "    if facing_direction:\n",
        "      Facing.append(facing_direction[0])\n",
        "    else:\n",
        "      Facing.append('None')\n",
        "\n",
        "  g = soup.find_all('div', attrs={'class':'title-line'})\n",
        "  for i in g:\n",
        "    i = i.text\n",
        "    for p_type in property_types:\n",
        "      if p_type in i:\n",
        "        Type.append(p_type)"
      ]
    },
    {
      "cell_type": "code",
      "execution_count": null,
      "id": "5de881a7",
      "metadata": {
        "colab": {
          "base_uri": "https://localhost:8080/"
        },
        "id": "5de881a7",
        "outputId": "f8ae5c2e-b915-4250-d395-b8c8c36e1a7a"
      },
      "outputs": [
        {
          "output_type": "stream",
          "name": "stdout",
          "text": [
            "1003\n",
            "1003\n",
            "1003\n",
            "1003\n",
            "1003\n",
            "1003\n",
            "1003\n",
            "1008\n"
          ]
        }
      ],
      "source": [
        "print(len(Bathrooms))\n",
        "print(len(Bedrooms))\n",
        "print(len(Status))\n",
        "print(len(Size))\n",
        "print(len(Location))\n",
        "print(len(Price))\n",
        "print(len(Facing))\n",
        "print(len(Type))"
      ]
    },
    {
      "cell_type": "code",
      "execution_count": null,
      "id": "994e186c",
      "metadata": {
        "id": "994e186c"
      },
      "outputs": [],
      "source": [
        "#let's create a dataframe from above data\n",
        "data_dict = {'Bedrooms':Bedrooms,\n",
        "            'Bathrooms':Bathrooms,\n",
        "            'Status':Status,\n",
        "            'Size':Size,\n",
        "            'Location':Location,\n",
        "            'Price':Price,\n",
        "            'Facing':Facing,\n",
        "            'Type':Type}\n",
        "#data_dict"
      ]
    },
    {
      "cell_type": "code",
      "execution_count": null,
      "id": "f7b98480",
      "metadata": {
        "colab": {
          "base_uri": "https://localhost:8080/",
          "height": 424
        },
        "id": "f7b98480",
        "outputId": "e5f27c20-6f04-4e93-f8a8-54ee054e14fb"
      },
      "outputs": [
        {
          "output_type": "execute_result",
          "data": {
            "text/plain": [
              "     Bedrooms Bathrooms         Status  Size    Location   Price Facing  \\\n",
              "0           3         0  Ready to move  2161  Penamaluru  108.00   None   \n",
              "1           2         0  Ready to move  1120  Gannavaram   28.00   None   \n",
              "2           3         0  Ready to move  2012  Penamaluru   90.51   None   \n",
              "3           2         0  Ready to move  1120  Gannavaram   28.00   None   \n",
              "4           3         0  Ready to move  2014  Penamaluru  100.00   None   \n",
              "...       ...       ...            ...   ...         ...     ...    ...   \n",
              "1003     None      None           None  None        None     NaN   None   \n",
              "1004     None      None           None  None        None     NaN   None   \n",
              "1005     None      None           None  None        None     NaN   None   \n",
              "1006     None      None           None  None        None     NaN   None   \n",
              "1007     None      None           None  None        None     NaN   None   \n",
              "\n",
              "                  Type  \n",
              "0            Apartment  \n",
              "1            Apartment  \n",
              "2            Apartment  \n",
              "3            Apartment  \n",
              "4            Apartment  \n",
              "...                ...  \n",
              "1003  Residential Plot  \n",
              "1004  Residential Plot  \n",
              "1005  Residential Plot  \n",
              "1006  Residential Plot  \n",
              "1007  Residential Plot  \n",
              "\n",
              "[1008 rows x 8 columns]"
            ],
            "text/html": [
              "\n",
              "  <div id=\"df-8062db69-bd7e-4286-8ef5-60dd610f6942\" class=\"colab-df-container\">\n",
              "    <div>\n",
              "<style scoped>\n",
              "    .dataframe tbody tr th:only-of-type {\n",
              "        vertical-align: middle;\n",
              "    }\n",
              "\n",
              "    .dataframe tbody tr th {\n",
              "        vertical-align: top;\n",
              "    }\n",
              "\n",
              "    .dataframe thead th {\n",
              "        text-align: right;\n",
              "    }\n",
              "</style>\n",
              "<table border=\"1\" class=\"dataframe\">\n",
              "  <thead>\n",
              "    <tr style=\"text-align: right;\">\n",
              "      <th></th>\n",
              "      <th>Bedrooms</th>\n",
              "      <th>Bathrooms</th>\n",
              "      <th>Status</th>\n",
              "      <th>Size</th>\n",
              "      <th>Location</th>\n",
              "      <th>Price</th>\n",
              "      <th>Facing</th>\n",
              "      <th>Type</th>\n",
              "    </tr>\n",
              "  </thead>\n",
              "  <tbody>\n",
              "    <tr>\n",
              "      <th>0</th>\n",
              "      <td>3</td>\n",
              "      <td>0</td>\n",
              "      <td>Ready to move</td>\n",
              "      <td>2161</td>\n",
              "      <td>Penamaluru</td>\n",
              "      <td>108.00</td>\n",
              "      <td>None</td>\n",
              "      <td>Apartment</td>\n",
              "    </tr>\n",
              "    <tr>\n",
              "      <th>1</th>\n",
              "      <td>2</td>\n",
              "      <td>0</td>\n",
              "      <td>Ready to move</td>\n",
              "      <td>1120</td>\n",
              "      <td>Gannavaram</td>\n",
              "      <td>28.00</td>\n",
              "      <td>None</td>\n",
              "      <td>Apartment</td>\n",
              "    </tr>\n",
              "    <tr>\n",
              "      <th>2</th>\n",
              "      <td>3</td>\n",
              "      <td>0</td>\n",
              "      <td>Ready to move</td>\n",
              "      <td>2012</td>\n",
              "      <td>Penamaluru</td>\n",
              "      <td>90.51</td>\n",
              "      <td>None</td>\n",
              "      <td>Apartment</td>\n",
              "    </tr>\n",
              "    <tr>\n",
              "      <th>3</th>\n",
              "      <td>2</td>\n",
              "      <td>0</td>\n",
              "      <td>Ready to move</td>\n",
              "      <td>1120</td>\n",
              "      <td>Gannavaram</td>\n",
              "      <td>28.00</td>\n",
              "      <td>None</td>\n",
              "      <td>Apartment</td>\n",
              "    </tr>\n",
              "    <tr>\n",
              "      <th>4</th>\n",
              "      <td>3</td>\n",
              "      <td>0</td>\n",
              "      <td>Ready to move</td>\n",
              "      <td>2014</td>\n",
              "      <td>Penamaluru</td>\n",
              "      <td>100.00</td>\n",
              "      <td>None</td>\n",
              "      <td>Apartment</td>\n",
              "    </tr>\n",
              "    <tr>\n",
              "      <th>...</th>\n",
              "      <td>...</td>\n",
              "      <td>...</td>\n",
              "      <td>...</td>\n",
              "      <td>...</td>\n",
              "      <td>...</td>\n",
              "      <td>...</td>\n",
              "      <td>...</td>\n",
              "      <td>...</td>\n",
              "    </tr>\n",
              "    <tr>\n",
              "      <th>1003</th>\n",
              "      <td>None</td>\n",
              "      <td>None</td>\n",
              "      <td>None</td>\n",
              "      <td>None</td>\n",
              "      <td>None</td>\n",
              "      <td>NaN</td>\n",
              "      <td>None</td>\n",
              "      <td>Residential Plot</td>\n",
              "    </tr>\n",
              "    <tr>\n",
              "      <th>1004</th>\n",
              "      <td>None</td>\n",
              "      <td>None</td>\n",
              "      <td>None</td>\n",
              "      <td>None</td>\n",
              "      <td>None</td>\n",
              "      <td>NaN</td>\n",
              "      <td>None</td>\n",
              "      <td>Residential Plot</td>\n",
              "    </tr>\n",
              "    <tr>\n",
              "      <th>1005</th>\n",
              "      <td>None</td>\n",
              "      <td>None</td>\n",
              "      <td>None</td>\n",
              "      <td>None</td>\n",
              "      <td>None</td>\n",
              "      <td>NaN</td>\n",
              "      <td>None</td>\n",
              "      <td>Residential Plot</td>\n",
              "    </tr>\n",
              "    <tr>\n",
              "      <th>1006</th>\n",
              "      <td>None</td>\n",
              "      <td>None</td>\n",
              "      <td>None</td>\n",
              "      <td>None</td>\n",
              "      <td>None</td>\n",
              "      <td>NaN</td>\n",
              "      <td>None</td>\n",
              "      <td>Residential Plot</td>\n",
              "    </tr>\n",
              "    <tr>\n",
              "      <th>1007</th>\n",
              "      <td>None</td>\n",
              "      <td>None</td>\n",
              "      <td>None</td>\n",
              "      <td>None</td>\n",
              "      <td>None</td>\n",
              "      <td>NaN</td>\n",
              "      <td>None</td>\n",
              "      <td>Residential Plot</td>\n",
              "    </tr>\n",
              "  </tbody>\n",
              "</table>\n",
              "<p>1008 rows × 8 columns</p>\n",
              "</div>\n",
              "    <div class=\"colab-df-buttons\">\n",
              "\n",
              "  <div class=\"colab-df-container\">\n",
              "    <button class=\"colab-df-convert\" onclick=\"convertToInteractive('df-8062db69-bd7e-4286-8ef5-60dd610f6942')\"\n",
              "            title=\"Convert this dataframe to an interactive table.\"\n",
              "            style=\"display:none;\">\n",
              "\n",
              "  <svg xmlns=\"http://www.w3.org/2000/svg\" height=\"24px\" viewBox=\"0 -960 960 960\">\n",
              "    <path d=\"M120-120v-720h720v720H120Zm60-500h600v-160H180v160Zm220 220h160v-160H400v160Zm0 220h160v-160H400v160ZM180-400h160v-160H180v160Zm440 0h160v-160H620v160ZM180-180h160v-160H180v160Zm440 0h160v-160H620v160Z\"/>\n",
              "  </svg>\n",
              "    </button>\n",
              "\n",
              "  <style>\n",
              "    .colab-df-container {\n",
              "      display:flex;\n",
              "      gap: 12px;\n",
              "    }\n",
              "\n",
              "    .colab-df-convert {\n",
              "      background-color: #E8F0FE;\n",
              "      border: none;\n",
              "      border-radius: 50%;\n",
              "      cursor: pointer;\n",
              "      display: none;\n",
              "      fill: #1967D2;\n",
              "      height: 32px;\n",
              "      padding: 0 0 0 0;\n",
              "      width: 32px;\n",
              "    }\n",
              "\n",
              "    .colab-df-convert:hover {\n",
              "      background-color: #E2EBFA;\n",
              "      box-shadow: 0px 1px 2px rgba(60, 64, 67, 0.3), 0px 1px 3px 1px rgba(60, 64, 67, 0.15);\n",
              "      fill: #174EA6;\n",
              "    }\n",
              "\n",
              "    .colab-df-buttons div {\n",
              "      margin-bottom: 4px;\n",
              "    }\n",
              "\n",
              "    [theme=dark] .colab-df-convert {\n",
              "      background-color: #3B4455;\n",
              "      fill: #D2E3FC;\n",
              "    }\n",
              "\n",
              "    [theme=dark] .colab-df-convert:hover {\n",
              "      background-color: #434B5C;\n",
              "      box-shadow: 0px 1px 3px 1px rgba(0, 0, 0, 0.15);\n",
              "      filter: drop-shadow(0px 1px 2px rgba(0, 0, 0, 0.3));\n",
              "      fill: #FFFFFF;\n",
              "    }\n",
              "  </style>\n",
              "\n",
              "    <script>\n",
              "      const buttonEl =\n",
              "        document.querySelector('#df-8062db69-bd7e-4286-8ef5-60dd610f6942 button.colab-df-convert');\n",
              "      buttonEl.style.display =\n",
              "        google.colab.kernel.accessAllowed ? 'block' : 'none';\n",
              "\n",
              "      async function convertToInteractive(key) {\n",
              "        const element = document.querySelector('#df-8062db69-bd7e-4286-8ef5-60dd610f6942');\n",
              "        const dataTable =\n",
              "          await google.colab.kernel.invokeFunction('convertToInteractive',\n",
              "                                                    [key], {});\n",
              "        if (!dataTable) return;\n",
              "\n",
              "        const docLinkHtml = 'Like what you see? Visit the ' +\n",
              "          '<a target=\"_blank\" href=https://colab.research.google.com/notebooks/data_table.ipynb>data table notebook</a>'\n",
              "          + ' to learn more about interactive tables.';\n",
              "        element.innerHTML = '';\n",
              "        dataTable['output_type'] = 'display_data';\n",
              "        await google.colab.output.renderOutput(dataTable, element);\n",
              "        const docLink = document.createElement('div');\n",
              "        docLink.innerHTML = docLinkHtml;\n",
              "        element.appendChild(docLink);\n",
              "      }\n",
              "    </script>\n",
              "  </div>\n",
              "\n",
              "\n",
              "<div id=\"df-965a9f8c-7c61-4699-8200-09fc61fb948f\">\n",
              "  <button class=\"colab-df-quickchart\" onclick=\"quickchart('df-965a9f8c-7c61-4699-8200-09fc61fb948f')\"\n",
              "            title=\"Suggest charts\"\n",
              "            style=\"display:none;\">\n",
              "\n",
              "<svg xmlns=\"http://www.w3.org/2000/svg\" height=\"24px\"viewBox=\"0 0 24 24\"\n",
              "     width=\"24px\">\n",
              "    <g>\n",
              "        <path d=\"M19 3H5c-1.1 0-2 .9-2 2v14c0 1.1.9 2 2 2h14c1.1 0 2-.9 2-2V5c0-1.1-.9-2-2-2zM9 17H7v-7h2v7zm4 0h-2V7h2v10zm4 0h-2v-4h2v4z\"/>\n",
              "    </g>\n",
              "</svg>\n",
              "  </button>\n",
              "\n",
              "<style>\n",
              "  .colab-df-quickchart {\n",
              "      --bg-color: #E8F0FE;\n",
              "      --fill-color: #1967D2;\n",
              "      --hover-bg-color: #E2EBFA;\n",
              "      --hover-fill-color: #174EA6;\n",
              "      --disabled-fill-color: #AAA;\n",
              "      --disabled-bg-color: #DDD;\n",
              "  }\n",
              "\n",
              "  [theme=dark] .colab-df-quickchart {\n",
              "      --bg-color: #3B4455;\n",
              "      --fill-color: #D2E3FC;\n",
              "      --hover-bg-color: #434B5C;\n",
              "      --hover-fill-color: #FFFFFF;\n",
              "      --disabled-bg-color: #3B4455;\n",
              "      --disabled-fill-color: #666;\n",
              "  }\n",
              "\n",
              "  .colab-df-quickchart {\n",
              "    background-color: var(--bg-color);\n",
              "    border: none;\n",
              "    border-radius: 50%;\n",
              "    cursor: pointer;\n",
              "    display: none;\n",
              "    fill: var(--fill-color);\n",
              "    height: 32px;\n",
              "    padding: 0;\n",
              "    width: 32px;\n",
              "  }\n",
              "\n",
              "  .colab-df-quickchart:hover {\n",
              "    background-color: var(--hover-bg-color);\n",
              "    box-shadow: 0 1px 2px rgba(60, 64, 67, 0.3), 0 1px 3px 1px rgba(60, 64, 67, 0.15);\n",
              "    fill: var(--button-hover-fill-color);\n",
              "  }\n",
              "\n",
              "  .colab-df-quickchart-complete:disabled,\n",
              "  .colab-df-quickchart-complete:disabled:hover {\n",
              "    background-color: var(--disabled-bg-color);\n",
              "    fill: var(--disabled-fill-color);\n",
              "    box-shadow: none;\n",
              "  }\n",
              "\n",
              "  .colab-df-spinner {\n",
              "    border: 2px solid var(--fill-color);\n",
              "    border-color: transparent;\n",
              "    border-bottom-color: var(--fill-color);\n",
              "    animation:\n",
              "      spin 1s steps(1) infinite;\n",
              "  }\n",
              "\n",
              "  @keyframes spin {\n",
              "    0% {\n",
              "      border-color: transparent;\n",
              "      border-bottom-color: var(--fill-color);\n",
              "      border-left-color: var(--fill-color);\n",
              "    }\n",
              "    20% {\n",
              "      border-color: transparent;\n",
              "      border-left-color: var(--fill-color);\n",
              "      border-top-color: var(--fill-color);\n",
              "    }\n",
              "    30% {\n",
              "      border-color: transparent;\n",
              "      border-left-color: var(--fill-color);\n",
              "      border-top-color: var(--fill-color);\n",
              "      border-right-color: var(--fill-color);\n",
              "    }\n",
              "    40% {\n",
              "      border-color: transparent;\n",
              "      border-right-color: var(--fill-color);\n",
              "      border-top-color: var(--fill-color);\n",
              "    }\n",
              "    60% {\n",
              "      border-color: transparent;\n",
              "      border-right-color: var(--fill-color);\n",
              "    }\n",
              "    80% {\n",
              "      border-color: transparent;\n",
              "      border-right-color: var(--fill-color);\n",
              "      border-bottom-color: var(--fill-color);\n",
              "    }\n",
              "    90% {\n",
              "      border-color: transparent;\n",
              "      border-bottom-color: var(--fill-color);\n",
              "    }\n",
              "  }\n",
              "</style>\n",
              "\n",
              "  <script>\n",
              "    async function quickchart(key) {\n",
              "      const quickchartButtonEl =\n",
              "        document.querySelector('#' + key + ' button');\n",
              "      quickchartButtonEl.disabled = true;  // To prevent multiple clicks.\n",
              "      quickchartButtonEl.classList.add('colab-df-spinner');\n",
              "      try {\n",
              "        const charts = await google.colab.kernel.invokeFunction(\n",
              "            'suggestCharts', [key], {});\n",
              "      } catch (error) {\n",
              "        console.error('Error during call to suggestCharts:', error);\n",
              "      }\n",
              "      quickchartButtonEl.classList.remove('colab-df-spinner');\n",
              "      quickchartButtonEl.classList.add('colab-df-quickchart-complete');\n",
              "    }\n",
              "    (() => {\n",
              "      let quickchartButtonEl =\n",
              "        document.querySelector('#df-965a9f8c-7c61-4699-8200-09fc61fb948f button');\n",
              "      quickchartButtonEl.style.display =\n",
              "        google.colab.kernel.accessAllowed ? 'block' : 'none';\n",
              "    })();\n",
              "  </script>\n",
              "</div>\n",
              "\n",
              "  <div id=\"id_9048dcba-ec66-4d05-b92d-0d9a504c31f7\">\n",
              "    <style>\n",
              "      .colab-df-generate {\n",
              "        background-color: #E8F0FE;\n",
              "        border: none;\n",
              "        border-radius: 50%;\n",
              "        cursor: pointer;\n",
              "        display: none;\n",
              "        fill: #1967D2;\n",
              "        height: 32px;\n",
              "        padding: 0 0 0 0;\n",
              "        width: 32px;\n",
              "      }\n",
              "\n",
              "      .colab-df-generate:hover {\n",
              "        background-color: #E2EBFA;\n",
              "        box-shadow: 0px 1px 2px rgba(60, 64, 67, 0.3), 0px 1px 3px 1px rgba(60, 64, 67, 0.15);\n",
              "        fill: #174EA6;\n",
              "      }\n",
              "\n",
              "      [theme=dark] .colab-df-generate {\n",
              "        background-color: #3B4455;\n",
              "        fill: #D2E3FC;\n",
              "      }\n",
              "\n",
              "      [theme=dark] .colab-df-generate:hover {\n",
              "        background-color: #434B5C;\n",
              "        box-shadow: 0px 1px 3px 1px rgba(0, 0, 0, 0.15);\n",
              "        filter: drop-shadow(0px 1px 2px rgba(0, 0, 0, 0.3));\n",
              "        fill: #FFFFFF;\n",
              "      }\n",
              "    </style>\n",
              "    <button class=\"colab-df-generate\" onclick=\"generateWithVariable('data')\"\n",
              "            title=\"Generate code using this dataframe.\"\n",
              "            style=\"display:none;\">\n",
              "\n",
              "  <svg xmlns=\"http://www.w3.org/2000/svg\" height=\"24px\"viewBox=\"0 0 24 24\"\n",
              "       width=\"24px\">\n",
              "    <path d=\"M7,19H8.4L18.45,9,17,7.55,7,17.6ZM5,21V16.75L18.45,3.32a2,2,0,0,1,2.83,0l1.4,1.43a1.91,1.91,0,0,1,.58,1.4,1.91,1.91,0,0,1-.58,1.4L9.25,21ZM18.45,9,17,7.55Zm-12,3A5.31,5.31,0,0,0,4.9,8.1,5.31,5.31,0,0,0,1,6.5,5.31,5.31,0,0,0,4.9,4.9,5.31,5.31,0,0,0,6.5,1,5.31,5.31,0,0,0,8.1,4.9,5.31,5.31,0,0,0,12,6.5,5.46,5.46,0,0,0,6.5,12Z\"/>\n",
              "  </svg>\n",
              "    </button>\n",
              "    <script>\n",
              "      (() => {\n",
              "      const buttonEl =\n",
              "        document.querySelector('#id_9048dcba-ec66-4d05-b92d-0d9a504c31f7 button.colab-df-generate');\n",
              "      buttonEl.style.display =\n",
              "        google.colab.kernel.accessAllowed ? 'block' : 'none';\n",
              "\n",
              "      buttonEl.onclick = () => {\n",
              "        google.colab.notebook.generateWithVariable('data');\n",
              "      }\n",
              "      })();\n",
              "    </script>\n",
              "  </div>\n",
              "\n",
              "    </div>\n",
              "  </div>\n"
            ],
            "application/vnd.google.colaboratory.intrinsic+json": {
              "type": "dataframe",
              "variable_name": "data",
              "summary": "{\n  \"name\": \"data\",\n  \"rows\": 1008,\n  \"fields\": [\n    {\n      \"column\": \"Bedrooms\",\n      \"properties\": {\n        \"dtype\": \"category\",\n        \"num_unique_values\": 7,\n        \"samples\": [\n          \"3\",\n          \"2\",\n          \"8\"\n        ],\n        \"semantic_type\": \"\",\n        \"description\": \"\"\n      }\n    },\n    {\n      \"column\": \"Bathrooms\",\n      \"properties\": {\n        \"dtype\": \"category\",\n        \"num_unique_values\": 16,\n        \"samples\": [\n          \"0\",\n          5,\n          3\n        ],\n        \"semantic_type\": \"\",\n        \"description\": \"\"\n      }\n    },\n    {\n      \"column\": \"Status\",\n      \"properties\": {\n        \"dtype\": \"category\",\n        \"num_unique_values\": 4,\n        \"samples\": [\n          \"Under Construction\",\n          \"New\",\n          \"Ready to move\"\n        ],\n        \"semantic_type\": \"\",\n        \"description\": \"\"\n      }\n    },\n    {\n      \"column\": \"Size\",\n      \"properties\": {\n        \"dtype\": \"category\",\n        \"num_unique_values\": 251,\n        \"samples\": [\n          \"1494\",\n          \"3000\",\n          \"173\"\n        ],\n        \"semantic_type\": \"\",\n        \"description\": \"\"\n      }\n    },\n    {\n      \"column\": \"Location\",\n      \"properties\": {\n        \"dtype\": \"category\",\n        \"num_unique_values\": 73,\n        \"samples\": [\n          \"Kanuru\",\n          \"Andhra Prabha Colony Road\",\n          \"Kesarapalle\"\n        ],\n        \"semantic_type\": \"\",\n        \"description\": \"\"\n      }\n    },\n    {\n      \"column\": \"Price\",\n      \"properties\": {\n        \"dtype\": \"number\",\n        \"std\": 49.24459110805048,\n        \"min\": 1.6,\n        \"max\": 505.99999999999994,\n        \"num_unique_values\": 428,\n        \"samples\": [\n          38.5,\n          57.0,\n          32.43\n        ],\n        \"semantic_type\": \"\",\n        \"description\": \"\"\n      }\n    },\n    {\n      \"column\": \"Facing\",\n      \"properties\": {\n        \"dtype\": \"category\",\n        \"num_unique_values\": 9,\n        \"samples\": [\n          \"South\",\n          \"East\",\n          \"North\"\n        ],\n        \"semantic_type\": \"\",\n        \"description\": \"\"\n      }\n    },\n    {\n      \"column\": \"Type\",\n      \"properties\": {\n        \"dtype\": \"category\",\n        \"num_unique_values\": 6,\n        \"samples\": [\n          \"Apartment\",\n          \"Independent House\",\n          \"Studio Apartment\"\n        ],\n        \"semantic_type\": \"\",\n        \"description\": \"\"\n      }\n    }\n  ]\n}"
            }
          },
          "metadata": {},
          "execution_count": 28
        }
      ],
      "source": [
        "#Now as we have different values in all columns we write a logic\n",
        "#to create a dataframe keeping max_length as 1070 in above case\n",
        "import pandas as pd\n",
        "max_length = 1008 #dependng on your data scraped above\n",
        "\n",
        "for key in data_dict.keys():\n",
        "    data_dict[key] += [None] * (max_length - len(data_dict[key]))\n",
        "\n",
        "data = pd.DataFrame(data_dict)\n",
        "data\n",
        "#data.isnull().sum()"
      ]
    },
    {
      "cell_type": "code",
      "execution_count": null,
      "id": "d8885fd7",
      "metadata": {
        "colab": {
          "base_uri": "https://localhost:8080/",
          "height": 335
        },
        "id": "d8885fd7",
        "outputId": "3dca2171-0df5-4d54-d125-0b90edad636d"
      },
      "outputs": [
        {
          "output_type": "execute_result",
          "data": {
            "text/plain": [
              "Bedrooms     5\n",
              "Bathrooms    5\n",
              "Status       5\n",
              "Size         5\n",
              "Location     5\n",
              "Price        5\n",
              "Facing       5\n",
              "Type         0\n",
              "dtype: int64"
            ],
            "text/html": [
              "<div>\n",
              "<style scoped>\n",
              "    .dataframe tbody tr th:only-of-type {\n",
              "        vertical-align: middle;\n",
              "    }\n",
              "\n",
              "    .dataframe tbody tr th {\n",
              "        vertical-align: top;\n",
              "    }\n",
              "\n",
              "    .dataframe thead th {\n",
              "        text-align: right;\n",
              "    }\n",
              "</style>\n",
              "<table border=\"1\" class=\"dataframe\">\n",
              "  <thead>\n",
              "    <tr style=\"text-align: right;\">\n",
              "      <th></th>\n",
              "      <th>0</th>\n",
              "    </tr>\n",
              "  </thead>\n",
              "  <tbody>\n",
              "    <tr>\n",
              "      <th>Bedrooms</th>\n",
              "      <td>5</td>\n",
              "    </tr>\n",
              "    <tr>\n",
              "      <th>Bathrooms</th>\n",
              "      <td>5</td>\n",
              "    </tr>\n",
              "    <tr>\n",
              "      <th>Status</th>\n",
              "      <td>5</td>\n",
              "    </tr>\n",
              "    <tr>\n",
              "      <th>Size</th>\n",
              "      <td>5</td>\n",
              "    </tr>\n",
              "    <tr>\n",
              "      <th>Location</th>\n",
              "      <td>5</td>\n",
              "    </tr>\n",
              "    <tr>\n",
              "      <th>Price</th>\n",
              "      <td>5</td>\n",
              "    </tr>\n",
              "    <tr>\n",
              "      <th>Facing</th>\n",
              "      <td>5</td>\n",
              "    </tr>\n",
              "    <tr>\n",
              "      <th>Type</th>\n",
              "      <td>0</td>\n",
              "    </tr>\n",
              "  </tbody>\n",
              "</table>\n",
              "</div><br><label><b>dtype:</b> int64</label>"
            ]
          },
          "metadata": {},
          "execution_count": 29
        }
      ],
      "source": [
        "data.isnull().sum()"
      ]
    },
    {
      "cell_type": "code",
      "execution_count": null,
      "id": "2141be86",
      "metadata": {
        "id": "2141be86"
      },
      "outputs": [],
      "source": [
        "#we have created missing values in all other columns so we drop those values\n",
        "data.dropna(inplace=True)"
      ]
    },
    {
      "cell_type": "code",
      "execution_count": null,
      "id": "55ccb183",
      "metadata": {
        "colab": {
          "base_uri": "https://localhost:8080/"
        },
        "id": "55ccb183",
        "outputId": "8167e229-8adb-40d2-ffd6-0b4beeaa1290"
      },
      "outputs": [
        {
          "output_type": "stream",
          "name": "stdout",
          "text": [
            "<class 'pandas.core.frame.DataFrame'>\n",
            "Index: 1003 entries, 0 to 1002\n",
            "Data columns (total 8 columns):\n",
            " #   Column     Non-Null Count  Dtype  \n",
            "---  ------     --------------  -----  \n",
            " 0   Bedrooms   1003 non-null   object \n",
            " 1   Bathrooms  1003 non-null   object \n",
            " 2   Status     1003 non-null   object \n",
            " 3   Size       1003 non-null   object \n",
            " 4   Location   1003 non-null   object \n",
            " 5   Price      1003 non-null   float64\n",
            " 6   Facing     1003 non-null   object \n",
            " 7   Type       1003 non-null   object \n",
            "dtypes: float64(1), object(7)\n",
            "memory usage: 70.5+ KB\n"
          ]
        }
      ],
      "source": [
        "data.info()"
      ]
    },
    {
      "cell_type": "code",
      "execution_count": null,
      "id": "445712dd",
      "metadata": {
        "colab": {
          "base_uri": "https://localhost:8080/",
          "height": 300
        },
        "id": "445712dd",
        "outputId": "172c2477-7809-4cb8-f795-fcbc6ac32432"
      },
      "outputs": [
        {
          "output_type": "execute_result",
          "data": {
            "text/plain": [
              "            count unique               top freq       mean        std  min  \\\n",
              "Bedrooms     1003      7                 0  777        NaN        NaN  NaN   \n",
              "Bathrooms    1003     16                 0  812        NaN        NaN  NaN   \n",
              "Status       1003      4               New  759        NaN        NaN  NaN   \n",
              "Size         1003    251              1350   58        NaN        NaN  NaN   \n",
              "Location     1003     73        Edupugallu  295        NaN        NaN  NaN   \n",
              "Price      1003.0    NaN               NaN  NaN  46.603529  49.244591  1.6   \n",
              "Facing       1003      9              None  363        NaN        NaN  NaN   \n",
              "Type         1003      6  Residential Plot  772        NaN        NaN  NaN   \n",
              "\n",
              "            25%    50%     75%    max  \n",
              "Bedrooms    NaN    NaN     NaN    NaN  \n",
              "Bathrooms   NaN    NaN     NaN    NaN  \n",
              "Status      NaN    NaN     NaN    NaN  \n",
              "Size        NaN    NaN     NaN    NaN  \n",
              "Location    NaN    NaN     NaN    NaN  \n",
              "Price      23.0  34.88  50.785  506.0  \n",
              "Facing      NaN    NaN     NaN    NaN  \n",
              "Type        NaN    NaN     NaN    NaN  "
            ],
            "text/html": [
              "\n",
              "  <div id=\"df-0c219da3-c6f3-4c1d-b4e8-a4ad9acc3742\" class=\"colab-df-container\">\n",
              "    <div>\n",
              "<style scoped>\n",
              "    .dataframe tbody tr th:only-of-type {\n",
              "        vertical-align: middle;\n",
              "    }\n",
              "\n",
              "    .dataframe tbody tr th {\n",
              "        vertical-align: top;\n",
              "    }\n",
              "\n",
              "    .dataframe thead th {\n",
              "        text-align: right;\n",
              "    }\n",
              "</style>\n",
              "<table border=\"1\" class=\"dataframe\">\n",
              "  <thead>\n",
              "    <tr style=\"text-align: right;\">\n",
              "      <th></th>\n",
              "      <th>count</th>\n",
              "      <th>unique</th>\n",
              "      <th>top</th>\n",
              "      <th>freq</th>\n",
              "      <th>mean</th>\n",
              "      <th>std</th>\n",
              "      <th>min</th>\n",
              "      <th>25%</th>\n",
              "      <th>50%</th>\n",
              "      <th>75%</th>\n",
              "      <th>max</th>\n",
              "    </tr>\n",
              "  </thead>\n",
              "  <tbody>\n",
              "    <tr>\n",
              "      <th>Bedrooms</th>\n",
              "      <td>1003</td>\n",
              "      <td>7</td>\n",
              "      <td>0</td>\n",
              "      <td>777</td>\n",
              "      <td>NaN</td>\n",
              "      <td>NaN</td>\n",
              "      <td>NaN</td>\n",
              "      <td>NaN</td>\n",
              "      <td>NaN</td>\n",
              "      <td>NaN</td>\n",
              "      <td>NaN</td>\n",
              "    </tr>\n",
              "    <tr>\n",
              "      <th>Bathrooms</th>\n",
              "      <td>1003</td>\n",
              "      <td>16</td>\n",
              "      <td>0</td>\n",
              "      <td>812</td>\n",
              "      <td>NaN</td>\n",
              "      <td>NaN</td>\n",
              "      <td>NaN</td>\n",
              "      <td>NaN</td>\n",
              "      <td>NaN</td>\n",
              "      <td>NaN</td>\n",
              "      <td>NaN</td>\n",
              "    </tr>\n",
              "    <tr>\n",
              "      <th>Status</th>\n",
              "      <td>1003</td>\n",
              "      <td>4</td>\n",
              "      <td>New</td>\n",
              "      <td>759</td>\n",
              "      <td>NaN</td>\n",
              "      <td>NaN</td>\n",
              "      <td>NaN</td>\n",
              "      <td>NaN</td>\n",
              "      <td>NaN</td>\n",
              "      <td>NaN</td>\n",
              "      <td>NaN</td>\n",
              "    </tr>\n",
              "    <tr>\n",
              "      <th>Size</th>\n",
              "      <td>1003</td>\n",
              "      <td>251</td>\n",
              "      <td>1350</td>\n",
              "      <td>58</td>\n",
              "      <td>NaN</td>\n",
              "      <td>NaN</td>\n",
              "      <td>NaN</td>\n",
              "      <td>NaN</td>\n",
              "      <td>NaN</td>\n",
              "      <td>NaN</td>\n",
              "      <td>NaN</td>\n",
              "    </tr>\n",
              "    <tr>\n",
              "      <th>Location</th>\n",
              "      <td>1003</td>\n",
              "      <td>73</td>\n",
              "      <td>Edupugallu</td>\n",
              "      <td>295</td>\n",
              "      <td>NaN</td>\n",
              "      <td>NaN</td>\n",
              "      <td>NaN</td>\n",
              "      <td>NaN</td>\n",
              "      <td>NaN</td>\n",
              "      <td>NaN</td>\n",
              "      <td>NaN</td>\n",
              "    </tr>\n",
              "    <tr>\n",
              "      <th>Price</th>\n",
              "      <td>1003.0</td>\n",
              "      <td>NaN</td>\n",
              "      <td>NaN</td>\n",
              "      <td>NaN</td>\n",
              "      <td>46.603529</td>\n",
              "      <td>49.244591</td>\n",
              "      <td>1.6</td>\n",
              "      <td>23.0</td>\n",
              "      <td>34.88</td>\n",
              "      <td>50.785</td>\n",
              "      <td>506.0</td>\n",
              "    </tr>\n",
              "    <tr>\n",
              "      <th>Facing</th>\n",
              "      <td>1003</td>\n",
              "      <td>9</td>\n",
              "      <td>None</td>\n",
              "      <td>363</td>\n",
              "      <td>NaN</td>\n",
              "      <td>NaN</td>\n",
              "      <td>NaN</td>\n",
              "      <td>NaN</td>\n",
              "      <td>NaN</td>\n",
              "      <td>NaN</td>\n",
              "      <td>NaN</td>\n",
              "    </tr>\n",
              "    <tr>\n",
              "      <th>Type</th>\n",
              "      <td>1003</td>\n",
              "      <td>6</td>\n",
              "      <td>Residential Plot</td>\n",
              "      <td>772</td>\n",
              "      <td>NaN</td>\n",
              "      <td>NaN</td>\n",
              "      <td>NaN</td>\n",
              "      <td>NaN</td>\n",
              "      <td>NaN</td>\n",
              "      <td>NaN</td>\n",
              "      <td>NaN</td>\n",
              "    </tr>\n",
              "  </tbody>\n",
              "</table>\n",
              "</div>\n",
              "    <div class=\"colab-df-buttons\">\n",
              "\n",
              "  <div class=\"colab-df-container\">\n",
              "    <button class=\"colab-df-convert\" onclick=\"convertToInteractive('df-0c219da3-c6f3-4c1d-b4e8-a4ad9acc3742')\"\n",
              "            title=\"Convert this dataframe to an interactive table.\"\n",
              "            style=\"display:none;\">\n",
              "\n",
              "  <svg xmlns=\"http://www.w3.org/2000/svg\" height=\"24px\" viewBox=\"0 -960 960 960\">\n",
              "    <path d=\"M120-120v-720h720v720H120Zm60-500h600v-160H180v160Zm220 220h160v-160H400v160Zm0 220h160v-160H400v160ZM180-400h160v-160H180v160Zm440 0h160v-160H620v160ZM180-180h160v-160H180v160Zm440 0h160v-160H620v160Z\"/>\n",
              "  </svg>\n",
              "    </button>\n",
              "\n",
              "  <style>\n",
              "    .colab-df-container {\n",
              "      display:flex;\n",
              "      gap: 12px;\n",
              "    }\n",
              "\n",
              "    .colab-df-convert {\n",
              "      background-color: #E8F0FE;\n",
              "      border: none;\n",
              "      border-radius: 50%;\n",
              "      cursor: pointer;\n",
              "      display: none;\n",
              "      fill: #1967D2;\n",
              "      height: 32px;\n",
              "      padding: 0 0 0 0;\n",
              "      width: 32px;\n",
              "    }\n",
              "\n",
              "    .colab-df-convert:hover {\n",
              "      background-color: #E2EBFA;\n",
              "      box-shadow: 0px 1px 2px rgba(60, 64, 67, 0.3), 0px 1px 3px 1px rgba(60, 64, 67, 0.15);\n",
              "      fill: #174EA6;\n",
              "    }\n",
              "\n",
              "    .colab-df-buttons div {\n",
              "      margin-bottom: 4px;\n",
              "    }\n",
              "\n",
              "    [theme=dark] .colab-df-convert {\n",
              "      background-color: #3B4455;\n",
              "      fill: #D2E3FC;\n",
              "    }\n",
              "\n",
              "    [theme=dark] .colab-df-convert:hover {\n",
              "      background-color: #434B5C;\n",
              "      box-shadow: 0px 1px 3px 1px rgba(0, 0, 0, 0.15);\n",
              "      filter: drop-shadow(0px 1px 2px rgba(0, 0, 0, 0.3));\n",
              "      fill: #FFFFFF;\n",
              "    }\n",
              "  </style>\n",
              "\n",
              "    <script>\n",
              "      const buttonEl =\n",
              "        document.querySelector('#df-0c219da3-c6f3-4c1d-b4e8-a4ad9acc3742 button.colab-df-convert');\n",
              "      buttonEl.style.display =\n",
              "        google.colab.kernel.accessAllowed ? 'block' : 'none';\n",
              "\n",
              "      async function convertToInteractive(key) {\n",
              "        const element = document.querySelector('#df-0c219da3-c6f3-4c1d-b4e8-a4ad9acc3742');\n",
              "        const dataTable =\n",
              "          await google.colab.kernel.invokeFunction('convertToInteractive',\n",
              "                                                    [key], {});\n",
              "        if (!dataTable) return;\n",
              "\n",
              "        const docLinkHtml = 'Like what you see? Visit the ' +\n",
              "          '<a target=\"_blank\" href=https://colab.research.google.com/notebooks/data_table.ipynb>data table notebook</a>'\n",
              "          + ' to learn more about interactive tables.';\n",
              "        element.innerHTML = '';\n",
              "        dataTable['output_type'] = 'display_data';\n",
              "        await google.colab.output.renderOutput(dataTable, element);\n",
              "        const docLink = document.createElement('div');\n",
              "        docLink.innerHTML = docLinkHtml;\n",
              "        element.appendChild(docLink);\n",
              "      }\n",
              "    </script>\n",
              "  </div>\n",
              "\n",
              "\n",
              "<div id=\"df-1ef18912-8611-416a-8bb2-9d06f301c416\">\n",
              "  <button class=\"colab-df-quickchart\" onclick=\"quickchart('df-1ef18912-8611-416a-8bb2-9d06f301c416')\"\n",
              "            title=\"Suggest charts\"\n",
              "            style=\"display:none;\">\n",
              "\n",
              "<svg xmlns=\"http://www.w3.org/2000/svg\" height=\"24px\"viewBox=\"0 0 24 24\"\n",
              "     width=\"24px\">\n",
              "    <g>\n",
              "        <path d=\"M19 3H5c-1.1 0-2 .9-2 2v14c0 1.1.9 2 2 2h14c1.1 0 2-.9 2-2V5c0-1.1-.9-2-2-2zM9 17H7v-7h2v7zm4 0h-2V7h2v10zm4 0h-2v-4h2v4z\"/>\n",
              "    </g>\n",
              "</svg>\n",
              "  </button>\n",
              "\n",
              "<style>\n",
              "  .colab-df-quickchart {\n",
              "      --bg-color: #E8F0FE;\n",
              "      --fill-color: #1967D2;\n",
              "      --hover-bg-color: #E2EBFA;\n",
              "      --hover-fill-color: #174EA6;\n",
              "      --disabled-fill-color: #AAA;\n",
              "      --disabled-bg-color: #DDD;\n",
              "  }\n",
              "\n",
              "  [theme=dark] .colab-df-quickchart {\n",
              "      --bg-color: #3B4455;\n",
              "      --fill-color: #D2E3FC;\n",
              "      --hover-bg-color: #434B5C;\n",
              "      --hover-fill-color: #FFFFFF;\n",
              "      --disabled-bg-color: #3B4455;\n",
              "      --disabled-fill-color: #666;\n",
              "  }\n",
              "\n",
              "  .colab-df-quickchart {\n",
              "    background-color: var(--bg-color);\n",
              "    border: none;\n",
              "    border-radius: 50%;\n",
              "    cursor: pointer;\n",
              "    display: none;\n",
              "    fill: var(--fill-color);\n",
              "    height: 32px;\n",
              "    padding: 0;\n",
              "    width: 32px;\n",
              "  }\n",
              "\n",
              "  .colab-df-quickchart:hover {\n",
              "    background-color: var(--hover-bg-color);\n",
              "    box-shadow: 0 1px 2px rgba(60, 64, 67, 0.3), 0 1px 3px 1px rgba(60, 64, 67, 0.15);\n",
              "    fill: var(--button-hover-fill-color);\n",
              "  }\n",
              "\n",
              "  .colab-df-quickchart-complete:disabled,\n",
              "  .colab-df-quickchart-complete:disabled:hover {\n",
              "    background-color: var(--disabled-bg-color);\n",
              "    fill: var(--disabled-fill-color);\n",
              "    box-shadow: none;\n",
              "  }\n",
              "\n",
              "  .colab-df-spinner {\n",
              "    border: 2px solid var(--fill-color);\n",
              "    border-color: transparent;\n",
              "    border-bottom-color: var(--fill-color);\n",
              "    animation:\n",
              "      spin 1s steps(1) infinite;\n",
              "  }\n",
              "\n",
              "  @keyframes spin {\n",
              "    0% {\n",
              "      border-color: transparent;\n",
              "      border-bottom-color: var(--fill-color);\n",
              "      border-left-color: var(--fill-color);\n",
              "    }\n",
              "    20% {\n",
              "      border-color: transparent;\n",
              "      border-left-color: var(--fill-color);\n",
              "      border-top-color: var(--fill-color);\n",
              "    }\n",
              "    30% {\n",
              "      border-color: transparent;\n",
              "      border-left-color: var(--fill-color);\n",
              "      border-top-color: var(--fill-color);\n",
              "      border-right-color: var(--fill-color);\n",
              "    }\n",
              "    40% {\n",
              "      border-color: transparent;\n",
              "      border-right-color: var(--fill-color);\n",
              "      border-top-color: var(--fill-color);\n",
              "    }\n",
              "    60% {\n",
              "      border-color: transparent;\n",
              "      border-right-color: var(--fill-color);\n",
              "    }\n",
              "    80% {\n",
              "      border-color: transparent;\n",
              "      border-right-color: var(--fill-color);\n",
              "      border-bottom-color: var(--fill-color);\n",
              "    }\n",
              "    90% {\n",
              "      border-color: transparent;\n",
              "      border-bottom-color: var(--fill-color);\n",
              "    }\n",
              "  }\n",
              "</style>\n",
              "\n",
              "  <script>\n",
              "    async function quickchart(key) {\n",
              "      const quickchartButtonEl =\n",
              "        document.querySelector('#' + key + ' button');\n",
              "      quickchartButtonEl.disabled = true;  // To prevent multiple clicks.\n",
              "      quickchartButtonEl.classList.add('colab-df-spinner');\n",
              "      try {\n",
              "        const charts = await google.colab.kernel.invokeFunction(\n",
              "            'suggestCharts', [key], {});\n",
              "      } catch (error) {\n",
              "        console.error('Error during call to suggestCharts:', error);\n",
              "      }\n",
              "      quickchartButtonEl.classList.remove('colab-df-spinner');\n",
              "      quickchartButtonEl.classList.add('colab-df-quickchart-complete');\n",
              "    }\n",
              "    (() => {\n",
              "      let quickchartButtonEl =\n",
              "        document.querySelector('#df-1ef18912-8611-416a-8bb2-9d06f301c416 button');\n",
              "      quickchartButtonEl.style.display =\n",
              "        google.colab.kernel.accessAllowed ? 'block' : 'none';\n",
              "    })();\n",
              "  </script>\n",
              "</div>\n",
              "\n",
              "    </div>\n",
              "  </div>\n"
            ],
            "application/vnd.google.colaboratory.intrinsic+json": {
              "type": "dataframe",
              "summary": "{\n  \"name\": \"data\",\n  \"rows\": 8,\n  \"fields\": [\n    {\n      \"column\": \"count\",\n      \"properties\": {\n        \"dtype\": \"date\",\n        \"min\": \"1003\",\n        \"max\": \"1003\",\n        \"num_unique_values\": 1,\n        \"samples\": [\n          \"1003\"\n        ],\n        \"semantic_type\": \"\",\n        \"description\": \"\"\n      }\n    },\n    {\n      \"column\": \"unique\",\n      \"properties\": {\n        \"dtype\": \"date\",\n        \"min\": 4,\n        \"max\": 251,\n        \"num_unique_values\": 7,\n        \"samples\": [\n          7\n        ],\n        \"semantic_type\": \"\",\n        \"description\": \"\"\n      }\n    },\n    {\n      \"column\": \"top\",\n      \"properties\": {\n        \"dtype\": \"string\",\n        \"num_unique_values\": 6,\n        \"samples\": [\n          \"0\"\n        ],\n        \"semantic_type\": \"\",\n        \"description\": \"\"\n      }\n    },\n    {\n      \"column\": \"freq\",\n      \"properties\": {\n        \"dtype\": \"date\",\n        \"min\": \"58\",\n        \"max\": \"812\",\n        \"num_unique_values\": 7,\n        \"samples\": [\n          \"777\"\n        ],\n        \"semantic_type\": \"\",\n        \"description\": \"\"\n      }\n    },\n    {\n      \"column\": \"mean\",\n      \"properties\": {\n        \"dtype\": \"date\",\n        \"min\": 46.603529411764704,\n        \"max\": 46.603529411764704,\n        \"num_unique_values\": 1,\n        \"samples\": [\n          46.603529411764704\n        ],\n        \"semantic_type\": \"\",\n        \"description\": \"\"\n      }\n    },\n    {\n      \"column\": \"std\",\n      \"properties\": {\n        \"dtype\": \"date\",\n        \"min\": 49.24459110805047,\n        \"max\": 49.24459110805047,\n        \"num_unique_values\": 1,\n        \"samples\": [\n          49.24459110805047\n        ],\n        \"semantic_type\": \"\",\n        \"description\": \"\"\n      }\n    },\n    {\n      \"column\": \"min\",\n      \"properties\": {\n        \"dtype\": \"date\",\n        \"min\": 1.6,\n        \"max\": 1.6,\n        \"num_unique_values\": 1,\n        \"samples\": [\n          1.6\n        ],\n        \"semantic_type\": \"\",\n        \"description\": \"\"\n      }\n    },\n    {\n      \"column\": \"25%\",\n      \"properties\": {\n        \"dtype\": \"date\",\n        \"min\": 23.0,\n        \"max\": 23.0,\n        \"num_unique_values\": 1,\n        \"samples\": [\n          23.0\n        ],\n        \"semantic_type\": \"\",\n        \"description\": \"\"\n      }\n    },\n    {\n      \"column\": \"50%\",\n      \"properties\": {\n        \"dtype\": \"date\",\n        \"min\": 34.88,\n        \"max\": 34.88,\n        \"num_unique_values\": 1,\n        \"samples\": [\n          34.88\n        ],\n        \"semantic_type\": \"\",\n        \"description\": \"\"\n      }\n    },\n    {\n      \"column\": \"75%\",\n      \"properties\": {\n        \"dtype\": \"date\",\n        \"min\": 50.785,\n        \"max\": 50.785,\n        \"num_unique_values\": 1,\n        \"samples\": [\n          50.785\n        ],\n        \"semantic_type\": \"\",\n        \"description\": \"\"\n      }\n    },\n    {\n      \"column\": \"max\",\n      \"properties\": {\n        \"dtype\": \"date\",\n        \"min\": 505.99999999999994,\n        \"max\": 505.99999999999994,\n        \"num_unique_values\": 1,\n        \"samples\": [\n          505.99999999999994\n        ],\n        \"semantic_type\": \"\",\n        \"description\": \"\"\n      }\n    }\n  ]\n}"
            }
          },
          "metadata": {},
          "execution_count": 32
        }
      ],
      "source": [
        "#once we get the final data we perform descriptive statistical information and then check for\n",
        "#outliers\n",
        "type(data)\n",
        "#data.describe()\n",
        "#data.describe(include=\"all\")\n",
        "data.describe(include='all').T"
      ]
    },
    {
      "cell_type": "code",
      "execution_count": null,
      "id": "72cec594",
      "metadata": {
        "colab": {
          "base_uri": "https://localhost:8080/"
        },
        "id": "72cec594",
        "outputId": "2d6c5b36-dd61-41a1-d4de-a1d8b628076f"
      },
      "outputs": [
        {
          "output_type": "execute_result",
          "data": {
            "text/plain": [
              "Index(['Bedrooms', 'Bathrooms', 'Status', 'Size', 'Location', 'Price',\n",
              "       'Facing', 'Type'],\n",
              "      dtype='object')"
            ]
          },
          "metadata": {},
          "execution_count": 33
        }
      ],
      "source": [
        "#before getting into removal of outliers let's have a\n",
        "#complete overview of all columns using plotly\n",
        "import plotly.express as px\n",
        "data.columns"
      ]
    },
    {
      "cell_type": "code",
      "execution_count": null,
      "id": "c26504c8",
      "metadata": {
        "id": "c26504c8"
      },
      "outputs": [],
      "source": [
        "#px.box(data) #As every column is having different type of data\n",
        "#we need to convert those categorical values to numerical values"
      ]
    },
    {
      "cell_type": "code",
      "execution_count": null,
      "id": "2b23e435",
      "metadata": {
        "colab": {
          "base_uri": "https://localhost:8080/"
        },
        "id": "2b23e435",
        "outputId": "48ff2439-61ad-4c64-f4c5-c9a9a6aeda50"
      },
      "outputs": [
        {
          "output_type": "execute_result",
          "data": {
            "text/plain": [
              "array(['Ready to move', 'Under Construction', 'Resale', 'New'],\n",
              "      dtype=object)"
            ]
          },
          "metadata": {},
          "execution_count": 34
        }
      ],
      "source": [
        "data['Status'].unique()"
      ]
    },
    {
      "cell_type": "code",
      "execution_count": null,
      "id": "060a3598",
      "metadata": {
        "colab": {
          "base_uri": "https://localhost:8080/"
        },
        "id": "060a3598",
        "outputId": "ef2efd32-7092-4a84-ff6d-c9909729ccdc"
      },
      "outputs": [
        {
          "output_type": "execute_result",
          "data": {
            "text/plain": [
              "73"
            ]
          },
          "metadata": {},
          "execution_count": 35
        }
      ],
      "source": [
        "#data['Location'].unique()\n",
        "data['Location'].nunique()"
      ]
    },
    {
      "cell_type": "code",
      "execution_count": null,
      "id": "4f66a670",
      "metadata": {
        "colab": {
          "base_uri": "https://localhost:8080/"
        },
        "id": "4f66a670",
        "outputId": "c35f9d12-6e63-46de-d374-ce65ea8abc41"
      },
      "outputs": [
        {
          "output_type": "execute_result",
          "data": {
            "text/plain": [
              "array(['None', 'East', 'NorthWest', 'West', 'NorthEast', 'North',\n",
              "       'SouthEast', 'South', 'SouthWest'], dtype=object)"
            ]
          },
          "metadata": {},
          "execution_count": 36
        }
      ],
      "source": [
        "data['Facing'].unique()"
      ]
    },
    {
      "cell_type": "code",
      "execution_count": null,
      "id": "8ec87eab",
      "metadata": {
        "colab": {
          "base_uri": "https://localhost:8080/"
        },
        "id": "8ec87eab",
        "outputId": "18fbd343-89c8-4894-b31c-e73a4a74a5be"
      },
      "outputs": [
        {
          "output_type": "execute_result",
          "data": {
            "text/plain": [
              "array(['Apartment', 'Independent House', 'Residential Plot', 'Villa',\n",
              "       'Independent Floor', 'Studio Apartment'], dtype=object)"
            ]
          },
          "metadata": {},
          "execution_count": 37
        }
      ],
      "source": [
        "data['Type'].unique()"
      ]
    },
    {
      "cell_type": "code",
      "execution_count": null,
      "id": "89b85f61",
      "metadata": {
        "id": "89b85f61"
      },
      "outputs": [],
      "source": [
        "#we use sklearn for feature encoding\n",
        "from sklearn.preprocessing import LabelEncoder\n",
        "label = LabelEncoder()"
      ]
    },
    {
      "cell_type": "code",
      "execution_count": null,
      "id": "10597f57",
      "metadata": {
        "id": "10597f57"
      },
      "outputs": [],
      "source": [
        "data['Location'] = label.fit_transform(data['Location'])"
      ]
    },
    {
      "cell_type": "code",
      "execution_count": null,
      "id": "21339427",
      "metadata": {
        "colab": {
          "base_uri": "https://localhost:8080/"
        },
        "id": "21339427",
        "outputId": "f4764422-3f20-4ce5-b496-611cf47e48d5"
      },
      "outputs": [
        {
          "output_type": "execute_result",
          "data": {
            "text/plain": [
              "{'Saketh': 85, 'Codegnan': 100, 'Obaid': 65, 'Kesava': 75}"
            ]
          },
          "metadata": {},
          "execution_count": 40
        }
      ],
      "source": [
        "names = ['Saketh','Codegnan','Obaid','Kesava']\n",
        "marks = [85,100,65,75]\n",
        "d = dict(zip(names,marks))\n",
        "d"
      ]
    },
    {
      "cell_type": "code",
      "execution_count": null,
      "id": "e97460bb",
      "metadata": {
        "id": "e97460bb"
      },
      "outputs": [],
      "source": [
        "#data['Location']"
      ]
    },
    {
      "cell_type": "code",
      "execution_count": null,
      "id": "2503a117",
      "metadata": {
        "colab": {
          "base_uri": "https://localhost:8080/"
        },
        "id": "2503a117",
        "outputId": "3abfc3e1-b943-4d6a-cbd8-857766b44853"
      },
      "outputs": [
        {
          "output_type": "stream",
          "name": "stdout",
          "text": [
            "0 - 0\n",
            "1 - 1\n",
            "2 - 2\n",
            "3 - 3\n",
            "4 - 4\n",
            "5 - 5\n",
            "6 - 6\n",
            "7 - 7\n",
            "8 - 8\n",
            "9 - 9\n",
            "10 - 10\n",
            "11 - 11\n",
            "12 - 12\n",
            "13 - 13\n",
            "14 - 14\n",
            "15 - 15\n",
            "16 - 16\n",
            "17 - 17\n",
            "18 - 18\n",
            "19 - 19\n",
            "20 - 20\n",
            "21 - 21\n",
            "22 - 22\n",
            "23 - 23\n",
            "24 - 24\n",
            "25 - 25\n",
            "26 - 26\n",
            "27 - 27\n",
            "28 - 28\n",
            "29 - 29\n",
            "30 - 30\n",
            "31 - 31\n",
            "32 - 32\n",
            "33 - 33\n",
            "34 - 34\n",
            "35 - 35\n",
            "36 - 36\n",
            "37 - 37\n",
            "38 - 38\n",
            "39 - 39\n",
            "40 - 40\n",
            "41 - 41\n",
            "42 - 42\n",
            "43 - 43\n",
            "44 - 44\n",
            "45 - 45\n",
            "46 - 46\n",
            "47 - 47\n",
            "48 - 48\n",
            "49 - 49\n",
            "50 - 50\n",
            "51 - 51\n",
            "52 - 52\n",
            "53 - 53\n",
            "54 - 54\n",
            "55 - 55\n",
            "56 - 56\n",
            "57 - 57\n",
            "58 - 58\n",
            "59 - 59\n",
            "60 - 60\n",
            "61 - 61\n",
            "62 - 62\n",
            "63 - 63\n",
            "64 - 64\n",
            "65 - 65\n",
            "66 - 66\n",
            "67 - 67\n",
            "68 - 68\n",
            "69 - 69\n",
            "70 - 70\n",
            "71 - 71\n",
            "72 - 72\n"
          ]
        }
      ],
      "source": [
        "data['Location'] = label.fit_transform(data['Location'])\n",
        "encoded_to_original = dict(zip(label.transform(label.classes_),\n",
        "                               label.classes_))\n",
        "\n",
        "for encoded_label, original_value in encoded_to_original.items():\n",
        "  print(f'{encoded_label} - {original_value}')"
      ]
    },
    {
      "cell_type": "code",
      "execution_count": null,
      "id": "63521efc",
      "metadata": {
        "colab": {
          "base_uri": "https://localhost:8080/"
        },
        "id": "63521efc",
        "outputId": "ad5636e9-132c-4c8e-e3e9-8b1363165f2f"
      },
      "outputs": [
        {
          "output_type": "stream",
          "name": "stdout",
          "text": [
            "0 - New\n",
            "1 - Ready to move\n",
            "2 - Resale\n",
            "3 - Under Construction\n"
          ]
        }
      ],
      "source": [
        "data['Status'] = label.fit_transform(data['Status'])\n",
        "encoded_to_original = dict(zip(label.transform(label.classes_),\n",
        "                               label.classes_))\n",
        "\n",
        "for encoded_label, original_value in encoded_to_original.items():\n",
        "  print(f'{encoded_label} - {original_value}')"
      ]
    },
    {
      "cell_type": "code",
      "execution_count": null,
      "id": "6c327fe1",
      "metadata": {
        "colab": {
          "base_uri": "https://localhost:8080/"
        },
        "id": "6c327fe1",
        "outputId": "6da14a6c-ea55-4ab0-9c5a-18fc005035da"
      },
      "outputs": [
        {
          "output_type": "stream",
          "name": "stdout",
          "text": [
            "0 - East\n",
            "1 - None\n",
            "2 - North\n",
            "3 - NorthEast\n",
            "4 - NorthWest\n",
            "5 - South\n",
            "6 - SouthEast\n",
            "7 - SouthWest\n",
            "8 - West\n"
          ]
        }
      ],
      "source": [
        "data['Facing'] = label.fit_transform(data['Facing'])\n",
        "encoded_to_original = dict(zip(label.transform(label.classes_),\n",
        "                               label.classes_))\n",
        "\n",
        "for encoded_label, original_value in encoded_to_original.items():\n",
        "  print(f'{encoded_label} - {original_value}')"
      ]
    },
    {
      "cell_type": "code",
      "execution_count": null,
      "id": "9c97a929",
      "metadata": {
        "colab": {
          "base_uri": "https://localhost:8080/"
        },
        "id": "9c97a929",
        "outputId": "ee674855-38a3-40b0-f9a4-f4cbafcdc22f"
      },
      "outputs": [
        {
          "output_type": "stream",
          "name": "stdout",
          "text": [
            "0 - Apartment\n",
            "1 - Independent Floor\n",
            "2 - Independent House\n",
            "3 - Residential Plot\n",
            "4 - Studio Apartment\n",
            "5 - Villa\n"
          ]
        }
      ],
      "source": [
        "data['Type'] = label.fit_transform(data['Type'])\n",
        "encoded_to_original = dict(zip(label.transform(label.classes_),\n",
        "                               label.classes_))\n",
        "\n",
        "for encoded_label, original_value in encoded_to_original.items():\n",
        "  print(f'{encoded_label} - {original_value}')"
      ]
    },
    {
      "cell_type": "code",
      "execution_count": null,
      "id": "a571ab62",
      "metadata": {
        "colab": {
          "base_uri": "https://localhost:8080/"
        },
        "id": "a571ab62",
        "outputId": "7255b2f0-ae02-49e6-e57d-61915a85e63f"
      },
      "outputs": [
        {
          "output_type": "stream",
          "name": "stdout",
          "text": [
            "<class 'pandas.core.frame.DataFrame'>\n",
            "Index: 1003 entries, 0 to 1002\n",
            "Data columns (total 8 columns):\n",
            " #   Column     Non-Null Count  Dtype  \n",
            "---  ------     --------------  -----  \n",
            " 0   Bedrooms   1003 non-null   object \n",
            " 1   Bathrooms  1003 non-null   object \n",
            " 2   Status     1003 non-null   int64  \n",
            " 3   Size       1003 non-null   object \n",
            " 4   Location   1003 non-null   int64  \n",
            " 5   Price      1003 non-null   float64\n",
            " 6   Facing     1003 non-null   int64  \n",
            " 7   Type       1003 non-null   int64  \n",
            "dtypes: float64(1), int64(4), object(3)\n",
            "memory usage: 70.5+ KB\n"
          ]
        }
      ],
      "source": [
        "data.info()"
      ]
    },
    {
      "cell_type": "code",
      "execution_count": null,
      "id": "8e33629e",
      "metadata": {
        "id": "8e33629e"
      },
      "outputs": [],
      "source": [
        "#Converting object dtype into int dtype\n",
        "data['Bathrooms'] = data['Bathrooms'].astype('int64')\n",
        "data['Bedrooms'] = data['Bedrooms'].astype('int64')\n",
        "data['Size'] = data['Size'].astype('int64')"
      ]
    },
    {
      "cell_type": "code",
      "execution_count": null,
      "id": "63523f83",
      "metadata": {
        "colab": {
          "base_uri": "https://localhost:8080/",
          "height": 542
        },
        "id": "63523f83",
        "outputId": "45ae140a-4ede-4abe-f372-dff5f47734e3"
      },
      "outputs": [
        {
          "output_type": "display_data",
          "data": {
            "text/html": [
              "<html>\n",
              "<head><meta charset=\"utf-8\" /></head>\n",
              "<body>\n",
              "    <div>            <script src=\"https://cdnjs.cloudflare.com/ajax/libs/mathjax/2.7.5/MathJax.js?config=TeX-AMS-MML_SVG\"></script><script type=\"text/javascript\">if (window.MathJax && window.MathJax.Hub && window.MathJax.Hub.Config) {window.MathJax.Hub.Config({SVG: {font: \"STIX-Web\"}});}</script>                <script type=\"text/javascript\">window.PlotlyConfig = {MathJaxConfig: 'local'};</script>\n",
              "        <script charset=\"utf-8\" src=\"https://cdn.plot.ly/plotly-2.24.1.min.js\"></script>                <div id=\"d806e63a-8293-4748-9ce2-9543997eef50\" class=\"plotly-graph-div\" style=\"height:525px; width:100%;\"></div>            <script type=\"text/javascript\">                                    window.PLOTLYENV=window.PLOTLYENV || {};                                    if (document.getElementById(\"d806e63a-8293-4748-9ce2-9543997eef50\")) {                    Plotly.newPlot(                        \"d806e63a-8293-4748-9ce2-9543997eef50\",                        [{\"alignmentgroup\":\"True\",\"hovertemplate\":\"variable=%{x}\\u003cbr\\u003evalue=%{y}\\u003cextra\\u003e\\u003c\\u002fextra\\u003e\",\"legendgroup\":\"\",\"marker\":{\"color\":\"#636efa\"},\"name\":\"\",\"notched\":false,\"offsetgroup\":\"\",\"orientation\":\"v\",\"showlegend\":false,\"x\":[\"Bedrooms\",\"Bedrooms\",\"Bedrooms\",\"Bedrooms\",\"Bedrooms\",\"Bedrooms\",\"Bedrooms\",\"Bedrooms\",\"Bedrooms\",\"Bedrooms\",\"Bedrooms\",\"Bedrooms\",\"Bedrooms\",\"Bedrooms\",\"Bedrooms\",\"Bedrooms\",\"Bedrooms\",\"Bedrooms\",\"Bedrooms\",\"Bedrooms\",\"Bedrooms\",\"Bedrooms\",\"Bedrooms\",\"Bedrooms\",\"Bedrooms\",\"Bedrooms\",\"Bedrooms\",\"Bedrooms\",\"Bedrooms\",\"Bedrooms\",\"Bedrooms\",\"Bedrooms\",\"Bedrooms\",\"Bedrooms\",\"Bedrooms\",\"Bedrooms\",\"Bedrooms\",\"Bedrooms\",\"Bedrooms\",\"Bedrooms\",\"Bedrooms\",\"Bedrooms\",\"Bedrooms\",\"Bedrooms\",\"Bedrooms\",\"Bedrooms\",\"Bedrooms\",\"Bedrooms\",\"Bedrooms\",\"Bedrooms\",\"Bedrooms\",\"Bedrooms\",\"Bedrooms\",\"Bedrooms\",\"Bedrooms\",\"Bedrooms\",\"Bedrooms\",\"Bedrooms\",\"Bedrooms\",\"Bedrooms\",\"Bedrooms\",\"Bedrooms\",\"Bedrooms\",\"Bedrooms\",\"Bedrooms\",\"Bedrooms\",\"Bedrooms\",\"Bedrooms\",\"Bedrooms\",\"Bedrooms\",\"Bedrooms\",\"Bedrooms\",\"Bedrooms\",\"Bedrooms\",\"Bedrooms\",\"Bedrooms\",\"Bedrooms\",\"Bedrooms\",\"Bedrooms\",\"Bedrooms\",\"Bedrooms\",\"Bedrooms\",\"Bedrooms\",\"Bedrooms\",\"Bedrooms\",\"Bedrooms\",\"Bedrooms\",\"Bedrooms\",\"Bedrooms\",\"Bedrooms\",\"Bedrooms\",\"Bedrooms\",\"Bedrooms\",\"Bedrooms\",\"Bedrooms\",\"Bedrooms\",\"Bedrooms\",\"Bedrooms\",\"Bedrooms\",\"Bedrooms\",\"Bedrooms\",\"Bedrooms\",\"Bedrooms\",\"Bedrooms\",\"Bedrooms\",\"Bedrooms\",\"Bedrooms\",\"Bedrooms\",\"Bedrooms\",\"Bedrooms\",\"Bedrooms\",\"Bedrooms\",\"Bedrooms\",\"Bedrooms\",\"Bedrooms\",\"Bedrooms\",\"Bedrooms\",\"Bedrooms\",\"Bedrooms\",\"Bedrooms\",\"Bedrooms\",\"Bedrooms\",\"Bedrooms\",\"Bedrooms\",\"Bedrooms\",\"Bedrooms\",\"Bedrooms\",\"Bedrooms\",\"Bedrooms\",\"Bedrooms\",\"Bedrooms\",\"Bedrooms\",\"Bedrooms\",\"Bedrooms\",\"Bedrooms\",\"Bedrooms\",\"Bedrooms\",\"Bedrooms\",\"Bedrooms\",\"Bedrooms\",\"Bedrooms\",\"Bedrooms\",\"Bedrooms\",\"Bedrooms\",\"Bedrooms\",\"Bedrooms\",\"Bedrooms\",\"Bedrooms\",\"Bedrooms\",\"Bedrooms\",\"Bedrooms\",\"Bedrooms\",\"Bedrooms\",\"Bedrooms\",\"Bedrooms\",\"Bedrooms\",\"Bedrooms\",\"Bedrooms\",\"Bedrooms\",\"Bedrooms\",\"Bedrooms\",\"Bedrooms\",\"Bedrooms\",\"Bedrooms\",\"Bedrooms\",\"Bedrooms\",\"Bedrooms\",\"Bedrooms\",\"Bedrooms\",\"Bedrooms\",\"Bedrooms\",\"Bedrooms\",\"Bedrooms\",\"Bedrooms\",\"Bedrooms\",\"Bedrooms\",\"Bedrooms\",\"Bedrooms\",\"Bedrooms\",\"Bedrooms\",\"Bedrooms\",\"Bedrooms\",\"Bedrooms\",\"Bedrooms\",\"Bedrooms\",\"Bedrooms\",\"Bedrooms\",\"Bedrooms\",\"Bedrooms\",\"Bedrooms\",\"Bedrooms\",\"Bedrooms\",\"Bedrooms\",\"Bedrooms\",\"Bedrooms\",\"Bedrooms\",\"Bedrooms\",\"Bedrooms\",\"Bedrooms\",\"Bedrooms\",\"Bedrooms\",\"Bedrooms\",\"Bedrooms\",\"Bedrooms\",\"Bedrooms\",\"Bedrooms\",\"Bedrooms\",\"Bedrooms\",\"Bedrooms\",\"Bedrooms\",\"Bedrooms\",\"Bedrooms\",\"Bedrooms\",\"Bedrooms\",\"Bedrooms\",\"Bedrooms\",\"Bedrooms\",\"Bedrooms\",\"Bedrooms\",\"Bedrooms\",\"Bedrooms\",\"Bedrooms\",\"Bedrooms\",\"Bedrooms\",\"Bedrooms\",\"Bedrooms\",\"Bedrooms\",\"Bedrooms\",\"Bedrooms\",\"Bedrooms\",\"Bedrooms\",\"Bedrooms\",\"Bedrooms\",\"Bedrooms\",\"Bedrooms\",\"Bedrooms\",\"Bedrooms\",\"Bedrooms\",\"Bedrooms\",\"Bedrooms\",\"Bedrooms\",\"Bedrooms\",\"Bedrooms\",\"Bedrooms\",\"Bedrooms\",\"Bedrooms\",\"Bedrooms\",\"Bedrooms\",\"Bedrooms\",\"Bedrooms\",\"Bedrooms\",\"Bedrooms\",\"Bedrooms\",\"Bedrooms\",\"Bedrooms\",\"Bedrooms\",\"Bedrooms\",\"Bedrooms\",\"Bedrooms\",\"Bedrooms\",\"Bedrooms\",\"Bedrooms\",\"Bedrooms\",\"Bedrooms\",\"Bedrooms\",\"Bedrooms\",\"Bedrooms\",\"Bedrooms\",\"Bedrooms\",\"Bedrooms\",\"Bedrooms\",\"Bedrooms\",\"Bedrooms\",\"Bedrooms\",\"Bedrooms\",\"Bedrooms\",\"Bedrooms\",\"Bedrooms\",\"Bedrooms\",\"Bedrooms\",\"Bedrooms\",\"Bedrooms\",\"Bedrooms\",\"Bedrooms\",\"Bedrooms\",\"Bedrooms\",\"Bedrooms\",\"Bedrooms\",\"Bedrooms\",\"Bedrooms\",\"Bedrooms\",\"Bedrooms\",\"Bedrooms\",\"Bedrooms\",\"Bedrooms\",\"Bedrooms\",\"Bedrooms\",\"Bedrooms\",\"Bedrooms\",\"Bedrooms\",\"Bedrooms\",\"Bedrooms\",\"Bedrooms\",\"Bedrooms\",\"Bedrooms\",\"Bedrooms\",\"Bedrooms\",\"Bedrooms\",\"Bedrooms\",\"Bedrooms\",\"Bedrooms\",\"Bedrooms\",\"Bedrooms\",\"Bedrooms\",\"Bedrooms\",\"Bedrooms\",\"Bedrooms\",\"Bedrooms\",\"Bedrooms\",\"Bedrooms\",\"Bedrooms\",\"Bedrooms\",\"Bedrooms\",\"Bedrooms\",\"Bedrooms\",\"Bedrooms\",\"Bedrooms\",\"Bedrooms\",\"Bedrooms\",\"Bedrooms\",\"Bedrooms\",\"Bedrooms\",\"Bedrooms\",\"Bedrooms\",\"Bedrooms\",\"Bedrooms\",\"Bedrooms\",\"Bedrooms\",\"Bedrooms\",\"Bedrooms\",\"Bedrooms\",\"Bedrooms\",\"Bedrooms\",\"Bedrooms\",\"Bedrooms\",\"Bedrooms\",\"Bedrooms\",\"Bedrooms\",\"Bedrooms\",\"Bedrooms\",\"Bedrooms\",\"Bedrooms\",\"Bedrooms\",\"Bedrooms\",\"Bedrooms\",\"Bedrooms\",\"Bedrooms\",\"Bedrooms\",\"Bedrooms\",\"Bedrooms\",\"Bedrooms\",\"Bedrooms\",\"Bedrooms\",\"Bedrooms\",\"Bedrooms\",\"Bedrooms\",\"Bedrooms\",\"Bedrooms\",\"Bedrooms\",\"Bedrooms\",\"Bedrooms\",\"Bedrooms\",\"Bedrooms\",\"Bedrooms\",\"Bedrooms\",\"Bedrooms\",\"Bedrooms\",\"Bedrooms\",\"Bedrooms\",\"Bedrooms\",\"Bedrooms\",\"Bedrooms\",\"Bedrooms\",\"Bedrooms\",\"Bedrooms\",\"Bedrooms\",\"Bedrooms\",\"Bedrooms\",\"Bedrooms\",\"Bedrooms\",\"Bedrooms\",\"Bedrooms\",\"Bedrooms\",\"Bedrooms\",\"Bedrooms\",\"Bedrooms\",\"Bedrooms\",\"Bedrooms\",\"Bedrooms\",\"Bedrooms\",\"Bedrooms\",\"Bedrooms\",\"Bedrooms\",\"Bedrooms\",\"Bedrooms\",\"Bedrooms\",\"Bedrooms\",\"Bedrooms\",\"Bedrooms\",\"Bedrooms\",\"Bedrooms\",\"Bedrooms\",\"Bedrooms\",\"Bedrooms\",\"Bedrooms\",\"Bedrooms\",\"Bedrooms\",\"Bedrooms\",\"Bedrooms\",\"Bedrooms\",\"Bedrooms\",\"Bedrooms\",\"Bedrooms\",\"Bedrooms\",\"Bedrooms\",\"Bedrooms\",\"Bedrooms\",\"Bedrooms\",\"Bedrooms\",\"Bedrooms\",\"Bedrooms\",\"Bedrooms\",\"Bedrooms\",\"Bedrooms\",\"Bedrooms\",\"Bedrooms\",\"Bedrooms\",\"Bedrooms\",\"Bedrooms\",\"Bedrooms\",\"Bedrooms\",\"Bedrooms\",\"Bedrooms\",\"Bedrooms\",\"Bedrooms\",\"Bedrooms\",\"Bedrooms\",\"Bedrooms\",\"Bedrooms\",\"Bedrooms\",\"Bedrooms\",\"Bedrooms\",\"Bedrooms\",\"Bedrooms\",\"Bedrooms\",\"Bedrooms\",\"Bedrooms\",\"Bedrooms\",\"Bedrooms\",\"Bedrooms\",\"Bedrooms\",\"Bedrooms\",\"Bedrooms\",\"Bedrooms\",\"Bedrooms\",\"Bedrooms\",\"Bedrooms\",\"Bedrooms\",\"Bedrooms\",\"Bedrooms\",\"Bedrooms\",\"Bedrooms\",\"Bedrooms\",\"Bedrooms\",\"Bedrooms\",\"Bedrooms\",\"Bedrooms\",\"Bedrooms\",\"Bedrooms\",\"Bedrooms\",\"Bedrooms\",\"Bedrooms\",\"Bedrooms\",\"Bedrooms\",\"Bedrooms\",\"Bedrooms\",\"Bedrooms\",\"Bedrooms\",\"Bedrooms\",\"Bedrooms\",\"Bedrooms\",\"Bedrooms\",\"Bedrooms\",\"Bedrooms\",\"Bedrooms\",\"Bedrooms\",\"Bedrooms\",\"Bedrooms\",\"Bedrooms\",\"Bedrooms\",\"Bedrooms\",\"Bedrooms\",\"Bedrooms\",\"Bedrooms\",\"Bedrooms\",\"Bedrooms\",\"Bedrooms\",\"Bedrooms\",\"Bedrooms\",\"Bedrooms\",\"Bedrooms\",\"Bedrooms\",\"Bedrooms\",\"Bedrooms\",\"Bedrooms\",\"Bedrooms\",\"Bedrooms\",\"Bedrooms\",\"Bedrooms\",\"Bedrooms\",\"Bedrooms\",\"Bedrooms\",\"Bedrooms\",\"Bedrooms\",\"Bedrooms\",\"Bedrooms\",\"Bedrooms\",\"Bedrooms\",\"Bedrooms\",\"Bedrooms\",\"Bedrooms\",\"Bedrooms\",\"Bedrooms\",\"Bedrooms\",\"Bedrooms\",\"Bedrooms\",\"Bedrooms\",\"Bedrooms\",\"Bedrooms\",\"Bedrooms\",\"Bedrooms\",\"Bedrooms\",\"Bedrooms\",\"Bedrooms\",\"Bedrooms\",\"Bedrooms\",\"Bedrooms\",\"Bedrooms\",\"Bedrooms\",\"Bedrooms\",\"Bedrooms\",\"Bedrooms\",\"Bedrooms\",\"Bedrooms\",\"Bedrooms\",\"Bedrooms\",\"Bedrooms\",\"Bedrooms\",\"Bedrooms\",\"Bedrooms\",\"Bedrooms\",\"Bedrooms\",\"Bedrooms\",\"Bedrooms\",\"Bedrooms\",\"Bedrooms\",\"Bedrooms\",\"Bedrooms\",\"Bedrooms\",\"Bedrooms\",\"Bedrooms\",\"Bedrooms\",\"Bedrooms\",\"Bedrooms\",\"Bedrooms\",\"Bedrooms\",\"Bedrooms\",\"Bedrooms\",\"Bedrooms\",\"Bedrooms\",\"Bedrooms\",\"Bedrooms\",\"Bedrooms\",\"Bedrooms\",\"Bedrooms\",\"Bedrooms\",\"Bedrooms\",\"Bedrooms\",\"Bedrooms\",\"Bedrooms\",\"Bedrooms\",\"Bedrooms\",\"Bedrooms\",\"Bedrooms\",\"Bedrooms\",\"Bedrooms\",\"Bedrooms\",\"Bedrooms\",\"Bedrooms\",\"Bedrooms\",\"Bedrooms\",\"Bedrooms\",\"Bedrooms\",\"Bedrooms\",\"Bedrooms\",\"Bedrooms\",\"Bedrooms\",\"Bedrooms\",\"Bedrooms\",\"Bedrooms\",\"Bedrooms\",\"Bedrooms\",\"Bedrooms\",\"Bedrooms\",\"Bedrooms\",\"Bedrooms\",\"Bedrooms\",\"Bedrooms\",\"Bedrooms\",\"Bedrooms\",\"Bedrooms\",\"Bedrooms\",\"Bedrooms\",\"Bedrooms\",\"Bedrooms\",\"Bedrooms\",\"Bedrooms\",\"Bedrooms\",\"Bedrooms\",\"Bedrooms\",\"Bedrooms\",\"Bedrooms\",\"Bedrooms\",\"Bedrooms\",\"Bedrooms\",\"Bedrooms\",\"Bedrooms\",\"Bedrooms\",\"Bedrooms\",\"Bedrooms\",\"Bedrooms\",\"Bedrooms\",\"Bedrooms\",\"Bedrooms\",\"Bedrooms\",\"Bedrooms\",\"Bedrooms\",\"Bedrooms\",\"Bedrooms\",\"Bedrooms\",\"Bedrooms\",\"Bedrooms\",\"Bedrooms\",\"Bedrooms\",\"Bedrooms\",\"Bedrooms\",\"Bedrooms\",\"Bedrooms\",\"Bedrooms\",\"Bedrooms\",\"Bedrooms\",\"Bedrooms\",\"Bedrooms\",\"Bedrooms\",\"Bedrooms\",\"Bedrooms\",\"Bedrooms\",\"Bedrooms\",\"Bedrooms\",\"Bedrooms\",\"Bedrooms\",\"Bedrooms\",\"Bedrooms\",\"Bedrooms\",\"Bedrooms\",\"Bedrooms\",\"Bedrooms\",\"Bedrooms\",\"Bedrooms\",\"Bedrooms\",\"Bedrooms\",\"Bedrooms\",\"Bedrooms\",\"Bedrooms\",\"Bedrooms\",\"Bedrooms\",\"Bedrooms\",\"Bedrooms\",\"Bedrooms\",\"Bedrooms\",\"Bedrooms\",\"Bedrooms\",\"Bedrooms\",\"Bedrooms\",\"Bedrooms\",\"Bedrooms\",\"Bedrooms\",\"Bedrooms\",\"Bedrooms\",\"Bedrooms\",\"Bedrooms\",\"Bedrooms\",\"Bedrooms\",\"Bedrooms\",\"Bedrooms\",\"Bedrooms\",\"Bedrooms\",\"Bedrooms\",\"Bedrooms\",\"Bedrooms\",\"Bedrooms\",\"Bedrooms\",\"Bedrooms\",\"Bedrooms\",\"Bedrooms\",\"Bedrooms\",\"Bedrooms\",\"Bedrooms\",\"Bedrooms\",\"Bedrooms\",\"Bedrooms\",\"Bedrooms\",\"Bedrooms\",\"Bedrooms\",\"Bedrooms\",\"Bedrooms\",\"Bedrooms\",\"Bedrooms\",\"Bedrooms\",\"Bedrooms\",\"Bedrooms\",\"Bedrooms\",\"Bedrooms\",\"Bedrooms\",\"Bedrooms\",\"Bedrooms\",\"Bedrooms\",\"Bedrooms\",\"Bedrooms\",\"Bedrooms\",\"Bedrooms\",\"Bedrooms\",\"Bedrooms\",\"Bedrooms\",\"Bedrooms\",\"Bedrooms\",\"Bedrooms\",\"Bedrooms\",\"Bedrooms\",\"Bedrooms\",\"Bedrooms\",\"Bedrooms\",\"Bedrooms\",\"Bedrooms\",\"Bedrooms\",\"Bedrooms\",\"Bedrooms\",\"Bedrooms\",\"Bedrooms\",\"Bedrooms\",\"Bedrooms\",\"Bedrooms\",\"Bedrooms\",\"Bedrooms\",\"Bedrooms\",\"Bedrooms\",\"Bedrooms\",\"Bedrooms\",\"Bedrooms\",\"Bedrooms\",\"Bedrooms\",\"Bedrooms\",\"Bedrooms\",\"Bedrooms\",\"Bedrooms\",\"Bedrooms\",\"Bedrooms\",\"Bedrooms\",\"Bedrooms\",\"Bedrooms\",\"Bedrooms\",\"Bedrooms\",\"Bedrooms\",\"Bedrooms\",\"Bedrooms\",\"Bedrooms\",\"Bedrooms\",\"Bedrooms\",\"Bedrooms\",\"Bedrooms\",\"Bedrooms\",\"Bedrooms\",\"Bedrooms\",\"Bedrooms\",\"Bedrooms\",\"Bedrooms\",\"Bedrooms\",\"Bedrooms\",\"Bedrooms\",\"Bedrooms\",\"Bedrooms\",\"Bedrooms\",\"Bedrooms\",\"Bedrooms\",\"Bedrooms\",\"Bedrooms\",\"Bedrooms\",\"Bedrooms\",\"Bedrooms\",\"Bedrooms\",\"Bedrooms\",\"Bedrooms\",\"Bedrooms\",\"Bedrooms\",\"Bedrooms\",\"Bedrooms\",\"Bedrooms\",\"Bedrooms\",\"Bedrooms\",\"Bedrooms\",\"Bedrooms\",\"Bedrooms\",\"Bedrooms\",\"Bedrooms\",\"Bedrooms\",\"Bedrooms\",\"Bedrooms\",\"Bedrooms\",\"Bedrooms\",\"Bedrooms\",\"Bedrooms\",\"Bedrooms\",\"Bedrooms\",\"Bedrooms\",\"Bedrooms\",\"Bedrooms\",\"Bedrooms\",\"Bedrooms\",\"Bedrooms\",\"Bedrooms\",\"Bedrooms\",\"Bedrooms\",\"Bedrooms\",\"Bedrooms\",\"Bedrooms\",\"Bedrooms\",\"Bedrooms\",\"Bedrooms\",\"Bedrooms\",\"Bedrooms\",\"Bedrooms\",\"Bedrooms\",\"Bedrooms\",\"Bedrooms\",\"Bedrooms\",\"Bedrooms\",\"Bedrooms\",\"Bedrooms\",\"Bedrooms\",\"Bedrooms\",\"Bedrooms\",\"Bedrooms\",\"Bedrooms\",\"Bedrooms\",\"Bedrooms\",\"Bedrooms\",\"Bedrooms\",\"Bedrooms\",\"Bedrooms\",\"Bedrooms\",\"Bedrooms\",\"Bedrooms\",\"Bedrooms\",\"Bedrooms\",\"Bedrooms\",\"Bedrooms\",\"Bedrooms\",\"Bedrooms\",\"Bedrooms\",\"Bedrooms\",\"Bedrooms\",\"Bedrooms\",\"Bedrooms\",\"Bedrooms\",\"Bedrooms\",\"Bedrooms\",\"Bedrooms\",\"Bedrooms\",\"Bedrooms\",\"Bedrooms\",\"Bedrooms\",\"Bedrooms\",\"Bedrooms\",\"Bedrooms\",\"Bedrooms\",\"Bedrooms\",\"Bedrooms\",\"Bedrooms\",\"Bedrooms\",\"Bedrooms\",\"Bedrooms\",\"Bedrooms\",\"Bedrooms\",\"Bedrooms\",\"Bedrooms\",\"Bedrooms\",\"Bedrooms\",\"Bedrooms\",\"Bedrooms\",\"Bedrooms\",\"Bedrooms\",\"Bedrooms\",\"Bedrooms\",\"Bedrooms\",\"Bedrooms\",\"Bedrooms\",\"Bedrooms\",\"Bedrooms\",\"Bedrooms\",\"Bedrooms\",\"Bedrooms\",\"Bedrooms\",\"Bedrooms\",\"Bedrooms\",\"Bedrooms\",\"Bedrooms\",\"Bedrooms\",\"Bedrooms\",\"Bedrooms\",\"Bedrooms\",\"Bedrooms\",\"Bedrooms\",\"Bedrooms\",\"Bedrooms\",\"Bedrooms\",\"Bedrooms\",\"Bedrooms\",\"Bedrooms\",\"Bedrooms\",\"Bedrooms\",\"Bedrooms\",\"Bedrooms\",\"Bedrooms\",\"Bedrooms\",\"Bedrooms\",\"Bedrooms\",\"Bedrooms\",\"Bedrooms\",\"Bedrooms\",\"Bedrooms\",\"Bedrooms\",\"Bedrooms\",\"Bedrooms\",\"Bedrooms\",\"Bedrooms\",\"Bedrooms\",\"Bedrooms\",\"Bedrooms\",\"Bedrooms\",\"Bedrooms\",\"Bedrooms\",\"Bedrooms\",\"Bedrooms\",\"Bedrooms\",\"Bedrooms\",\"Bedrooms\",\"Bedrooms\",\"Bedrooms\",\"Bedrooms\",\"Bedrooms\",\"Bedrooms\",\"Bedrooms\",\"Bedrooms\",\"Bedrooms\",\"Bedrooms\",\"Bedrooms\",\"Bedrooms\",\"Bedrooms\",\"Bedrooms\",\"Bedrooms\",\"Bedrooms\",\"Bedrooms\",\"Bedrooms\",\"Bedrooms\",\"Bedrooms\",\"Bedrooms\",\"Bedrooms\",\"Bedrooms\",\"Bedrooms\",\"Bedrooms\",\"Bedrooms\",\"Bedrooms\",\"Bedrooms\",\"Bedrooms\",\"Bedrooms\",\"Bedrooms\",\"Bedrooms\",\"Bedrooms\",\"Bedrooms\",\"Bedrooms\",\"Bedrooms\",\"Bedrooms\",\"Bedrooms\",\"Bathrooms\",\"Bathrooms\",\"Bathrooms\",\"Bathrooms\",\"Bathrooms\",\"Bathrooms\",\"Bathrooms\",\"Bathrooms\",\"Bathrooms\",\"Bathrooms\",\"Bathrooms\",\"Bathrooms\",\"Bathrooms\",\"Bathrooms\",\"Bathrooms\",\"Bathrooms\",\"Bathrooms\",\"Bathrooms\",\"Bathrooms\",\"Bathrooms\",\"Bathrooms\",\"Bathrooms\",\"Bathrooms\",\"Bathrooms\",\"Bathrooms\",\"Bathrooms\",\"Bathrooms\",\"Bathrooms\",\"Bathrooms\",\"Bathrooms\",\"Bathrooms\",\"Bathrooms\",\"Bathrooms\",\"Bathrooms\",\"Bathrooms\",\"Bathrooms\",\"Bathrooms\",\"Bathrooms\",\"Bathrooms\",\"Bathrooms\",\"Bathrooms\",\"Bathrooms\",\"Bathrooms\",\"Bathrooms\",\"Bathrooms\",\"Bathrooms\",\"Bathrooms\",\"Bathrooms\",\"Bathrooms\",\"Bathrooms\",\"Bathrooms\",\"Bathrooms\",\"Bathrooms\",\"Bathrooms\",\"Bathrooms\",\"Bathrooms\",\"Bathrooms\",\"Bathrooms\",\"Bathrooms\",\"Bathrooms\",\"Bathrooms\",\"Bathrooms\",\"Bathrooms\",\"Bathrooms\",\"Bathrooms\",\"Bathrooms\",\"Bathrooms\",\"Bathrooms\",\"Bathrooms\",\"Bathrooms\",\"Bathrooms\",\"Bathrooms\",\"Bathrooms\",\"Bathrooms\",\"Bathrooms\",\"Bathrooms\",\"Bathrooms\",\"Bathrooms\",\"Bathrooms\",\"Bathrooms\",\"Bathrooms\",\"Bathrooms\",\"Bathrooms\",\"Bathrooms\",\"Bathrooms\",\"Bathrooms\",\"Bathrooms\",\"Bathrooms\",\"Bathrooms\",\"Bathrooms\",\"Bathrooms\",\"Bathrooms\",\"Bathrooms\",\"Bathrooms\",\"Bathrooms\",\"Bathrooms\",\"Bathrooms\",\"Bathrooms\",\"Bathrooms\",\"Bathrooms\",\"Bathrooms\",\"Bathrooms\",\"Bathrooms\",\"Bathrooms\",\"Bathrooms\",\"Bathrooms\",\"Bathrooms\",\"Bathrooms\",\"Bathrooms\",\"Bathrooms\",\"Bathrooms\",\"Bathrooms\",\"Bathrooms\",\"Bathrooms\",\"Bathrooms\",\"Bathrooms\",\"Bathrooms\",\"Bathrooms\",\"Bathrooms\",\"Bathrooms\",\"Bathrooms\",\"Bathrooms\",\"Bathrooms\",\"Bathrooms\",\"Bathrooms\",\"Bathrooms\",\"Bathrooms\",\"Bathrooms\",\"Bathrooms\",\"Bathrooms\",\"Bathrooms\",\"Bathrooms\",\"Bathrooms\",\"Bathrooms\",\"Bathrooms\",\"Bathrooms\",\"Bathrooms\",\"Bathrooms\",\"Bathrooms\",\"Bathrooms\",\"Bathrooms\",\"Bathrooms\",\"Bathrooms\",\"Bathrooms\",\"Bathrooms\",\"Bathrooms\",\"Bathrooms\",\"Bathrooms\",\"Bathrooms\",\"Bathrooms\",\"Bathrooms\",\"Bathrooms\",\"Bathrooms\",\"Bathrooms\",\"Bathrooms\",\"Bathrooms\",\"Bathrooms\",\"Bathrooms\",\"Bathrooms\",\"Bathrooms\",\"Bathrooms\",\"Bathrooms\",\"Bathrooms\",\"Bathrooms\",\"Bathrooms\",\"Bathrooms\",\"Bathrooms\",\"Bathrooms\",\"Bathrooms\",\"Bathrooms\",\"Bathrooms\",\"Bathrooms\",\"Bathrooms\",\"Bathrooms\",\"Bathrooms\",\"Bathrooms\",\"Bathrooms\",\"Bathrooms\",\"Bathrooms\",\"Bathrooms\",\"Bathrooms\",\"Bathrooms\",\"Bathrooms\",\"Bathrooms\",\"Bathrooms\",\"Bathrooms\",\"Bathrooms\",\"Bathrooms\",\"Bathrooms\",\"Bathrooms\",\"Bathrooms\",\"Bathrooms\",\"Bathrooms\",\"Bathrooms\",\"Bathrooms\",\"Bathrooms\",\"Bathrooms\",\"Bathrooms\",\"Bathrooms\",\"Bathrooms\",\"Bathrooms\",\"Bathrooms\",\"Bathrooms\",\"Bathrooms\",\"Bathrooms\",\"Bathrooms\",\"Bathrooms\",\"Bathrooms\",\"Bathrooms\",\"Bathrooms\",\"Bathrooms\",\"Bathrooms\",\"Bathrooms\",\"Bathrooms\",\"Bathrooms\",\"Bathrooms\",\"Bathrooms\",\"Bathrooms\",\"Bathrooms\",\"Bathrooms\",\"Bathrooms\",\"Bathrooms\",\"Bathrooms\",\"Bathrooms\",\"Bathrooms\",\"Bathrooms\",\"Bathrooms\",\"Bathrooms\",\"Bathrooms\",\"Bathrooms\",\"Bathrooms\",\"Bathrooms\",\"Bathrooms\",\"Bathrooms\",\"Bathrooms\",\"Bathrooms\",\"Bathrooms\",\"Bathrooms\",\"Bathrooms\",\"Bathrooms\",\"Bathrooms\",\"Bathrooms\",\"Bathrooms\",\"Bathrooms\",\"Bathrooms\",\"Bathrooms\",\"Bathrooms\",\"Bathrooms\",\"Bathrooms\",\"Bathrooms\",\"Bathrooms\",\"Bathrooms\",\"Bathrooms\",\"Bathrooms\",\"Bathrooms\",\"Bathrooms\",\"Bathrooms\",\"Bathrooms\",\"Bathrooms\",\"Bathrooms\",\"Bathrooms\",\"Bathrooms\",\"Bathrooms\",\"Bathrooms\",\"Bathrooms\",\"Bathrooms\",\"Bathrooms\",\"Bathrooms\",\"Bathrooms\",\"Bathrooms\",\"Bathrooms\",\"Bathrooms\",\"Bathrooms\",\"Bathrooms\",\"Bathrooms\",\"Bathrooms\",\"Bathrooms\",\"Bathrooms\",\"Bathrooms\",\"Bathrooms\",\"Bathrooms\",\"Bathrooms\",\"Bathrooms\",\"Bathrooms\",\"Bathrooms\",\"Bathrooms\",\"Bathrooms\",\"Bathrooms\",\"Bathrooms\",\"Bathrooms\",\"Bathrooms\",\"Bathrooms\",\"Bathrooms\",\"Bathrooms\",\"Bathrooms\",\"Bathrooms\",\"Bathrooms\",\"Bathrooms\",\"Bathrooms\",\"Bathrooms\",\"Bathrooms\",\"Bathrooms\",\"Bathrooms\",\"Bathrooms\",\"Bathrooms\",\"Bathrooms\",\"Bathrooms\",\"Bathrooms\",\"Bathrooms\",\"Bathrooms\",\"Bathrooms\",\"Bathrooms\",\"Bathrooms\",\"Bathrooms\",\"Bathrooms\",\"Bathrooms\",\"Bathrooms\",\"Bathrooms\",\"Bathrooms\",\"Bathrooms\",\"Bathrooms\",\"Bathrooms\",\"Bathrooms\",\"Bathrooms\",\"Bathrooms\",\"Bathrooms\",\"Bathrooms\",\"Bathrooms\",\"Bathrooms\",\"Bathrooms\",\"Bathrooms\",\"Bathrooms\",\"Bathrooms\",\"Bathrooms\",\"Bathrooms\",\"Bathrooms\",\"Bathrooms\",\"Bathrooms\",\"Bathrooms\",\"Bathrooms\",\"Bathrooms\",\"Bathrooms\",\"Bathrooms\",\"Bathrooms\",\"Bathrooms\",\"Bathrooms\",\"Bathrooms\",\"Bathrooms\",\"Bathrooms\",\"Bathrooms\",\"Bathrooms\",\"Bathrooms\",\"Bathrooms\",\"Bathrooms\",\"Bathrooms\",\"Bathrooms\",\"Bathrooms\",\"Bathrooms\",\"Bathrooms\",\"Bathrooms\",\"Bathrooms\",\"Bathrooms\",\"Bathrooms\",\"Bathrooms\",\"Bathrooms\",\"Bathrooms\",\"Bathrooms\",\"Bathrooms\",\"Bathrooms\",\"Bathrooms\",\"Bathrooms\",\"Bathrooms\",\"Bathrooms\",\"Bathrooms\",\"Bathrooms\",\"Bathrooms\",\"Bathrooms\",\"Bathrooms\",\"Bathrooms\",\"Bathrooms\",\"Bathrooms\",\"Bathrooms\",\"Bathrooms\",\"Bathrooms\",\"Bathrooms\",\"Bathrooms\",\"Bathrooms\",\"Bathrooms\",\"Bathrooms\",\"Bathrooms\",\"Bathrooms\",\"Bathrooms\",\"Bathrooms\",\"Bathrooms\",\"Bathrooms\",\"Bathrooms\",\"Bathrooms\",\"Bathrooms\",\"Bathrooms\",\"Bathrooms\",\"Bathrooms\",\"Bathrooms\",\"Bathrooms\",\"Bathrooms\",\"Bathrooms\",\"Bathrooms\",\"Bathrooms\",\"Bathrooms\",\"Bathrooms\",\"Bathrooms\",\"Bathrooms\",\"Bathrooms\",\"Bathrooms\",\"Bathrooms\",\"Bathrooms\",\"Bathrooms\",\"Bathrooms\",\"Bathrooms\",\"Bathrooms\",\"Bathrooms\",\"Bathrooms\",\"Bathrooms\",\"Bathrooms\",\"Bathrooms\",\"Bathrooms\",\"Bathrooms\",\"Bathrooms\",\"Bathrooms\",\"Bathrooms\",\"Bathrooms\",\"Bathrooms\",\"Bathrooms\",\"Bathrooms\",\"Bathrooms\",\"Bathrooms\",\"Bathrooms\",\"Bathrooms\",\"Bathrooms\",\"Bathrooms\",\"Bathrooms\",\"Bathrooms\",\"Bathrooms\",\"Bathrooms\",\"Bathrooms\",\"Bathrooms\",\"Bathrooms\",\"Bathrooms\",\"Bathrooms\",\"Bathrooms\",\"Bathrooms\",\"Bathrooms\",\"Bathrooms\",\"Bathrooms\",\"Bathrooms\",\"Bathrooms\",\"Bathrooms\",\"Bathrooms\",\"Bathrooms\",\"Bathrooms\",\"Bathrooms\",\"Bathrooms\",\"Bathrooms\",\"Bathrooms\",\"Bathrooms\",\"Bathrooms\",\"Bathrooms\",\"Bathrooms\",\"Bathrooms\",\"Bathrooms\",\"Bathrooms\",\"Bathrooms\",\"Bathrooms\",\"Bathrooms\",\"Bathrooms\",\"Bathrooms\",\"Bathrooms\",\"Bathrooms\",\"Bathrooms\",\"Bathrooms\",\"Bathrooms\",\"Bathrooms\",\"Bathrooms\",\"Bathrooms\",\"Bathrooms\",\"Bathrooms\",\"Bathrooms\",\"Bathrooms\",\"Bathrooms\",\"Bathrooms\",\"Bathrooms\",\"Bathrooms\",\"Bathrooms\",\"Bathrooms\",\"Bathrooms\",\"Bathrooms\",\"Bathrooms\",\"Bathrooms\",\"Bathrooms\",\"Bathrooms\",\"Bathrooms\",\"Bathrooms\",\"Bathrooms\",\"Bathrooms\",\"Bathrooms\",\"Bathrooms\",\"Bathrooms\",\"Bathrooms\",\"Bathrooms\",\"Bathrooms\",\"Bathrooms\",\"Bathrooms\",\"Bathrooms\",\"Bathrooms\",\"Bathrooms\",\"Bathrooms\",\"Bathrooms\",\"Bathrooms\",\"Bathrooms\",\"Bathrooms\",\"Bathrooms\",\"Bathrooms\",\"Bathrooms\",\"Bathrooms\",\"Bathrooms\",\"Bathrooms\",\"Bathrooms\",\"Bathrooms\",\"Bathrooms\",\"Bathrooms\",\"Bathrooms\",\"Bathrooms\",\"Bathrooms\",\"Bathrooms\",\"Bathrooms\",\"Bathrooms\",\"Bathrooms\",\"Bathrooms\",\"Bathrooms\",\"Bathrooms\",\"Bathrooms\",\"Bathrooms\",\"Bathrooms\",\"Bathrooms\",\"Bathrooms\",\"Bathrooms\",\"Bathrooms\",\"Bathrooms\",\"Bathrooms\",\"Bathrooms\",\"Bathrooms\",\"Bathrooms\",\"Bathrooms\",\"Bathrooms\",\"Bathrooms\",\"Bathrooms\",\"Bathrooms\",\"Bathrooms\",\"Bathrooms\",\"Bathrooms\",\"Bathrooms\",\"Bathrooms\",\"Bathrooms\",\"Bathrooms\",\"Bathrooms\",\"Bathrooms\",\"Bathrooms\",\"Bathrooms\",\"Bathrooms\",\"Bathrooms\",\"Bathrooms\",\"Bathrooms\",\"Bathrooms\",\"Bathrooms\",\"Bathrooms\",\"Bathrooms\",\"Bathrooms\",\"Bathrooms\",\"Bathrooms\",\"Bathrooms\",\"Bathrooms\",\"Bathrooms\",\"Bathrooms\",\"Bathrooms\",\"Bathrooms\",\"Bathrooms\",\"Bathrooms\",\"Bathrooms\",\"Bathrooms\",\"Bathrooms\",\"Bathrooms\",\"Bathrooms\",\"Bathrooms\",\"Bathrooms\",\"Bathrooms\",\"Bathrooms\",\"Bathrooms\",\"Bathrooms\",\"Bathrooms\",\"Bathrooms\",\"Bathrooms\",\"Bathrooms\",\"Bathrooms\",\"Bathrooms\",\"Bathrooms\",\"Bathrooms\",\"Bathrooms\",\"Bathrooms\",\"Bathrooms\",\"Bathrooms\",\"Bathrooms\",\"Bathrooms\",\"Bathrooms\",\"Bathrooms\",\"Bathrooms\",\"Bathrooms\",\"Bathrooms\",\"Bathrooms\",\"Bathrooms\",\"Bathrooms\",\"Bathrooms\",\"Bathrooms\",\"Bathrooms\",\"Bathrooms\",\"Bathrooms\",\"Bathrooms\",\"Bathrooms\",\"Bathrooms\",\"Bathrooms\",\"Bathrooms\",\"Bathrooms\",\"Bathrooms\",\"Bathrooms\",\"Bathrooms\",\"Bathrooms\",\"Bathrooms\",\"Bathrooms\",\"Bathrooms\",\"Bathrooms\",\"Bathrooms\",\"Bathrooms\",\"Bathrooms\",\"Bathrooms\",\"Bathrooms\",\"Bathrooms\",\"Bathrooms\",\"Bathrooms\",\"Bathrooms\",\"Bathrooms\",\"Bathrooms\",\"Bathrooms\",\"Bathrooms\",\"Bathrooms\",\"Bathrooms\",\"Bathrooms\",\"Bathrooms\",\"Bathrooms\",\"Bathrooms\",\"Bathrooms\",\"Bathrooms\",\"Bathrooms\",\"Bathrooms\",\"Bathrooms\",\"Bathrooms\",\"Bathrooms\",\"Bathrooms\",\"Bathrooms\",\"Bathrooms\",\"Bathrooms\",\"Bathrooms\",\"Bathrooms\",\"Bathrooms\",\"Bathrooms\",\"Bathrooms\",\"Bathrooms\",\"Bathrooms\",\"Bathrooms\",\"Bathrooms\",\"Bathrooms\",\"Bathrooms\",\"Bathrooms\",\"Bathrooms\",\"Bathrooms\",\"Bathrooms\",\"Bathrooms\",\"Bathrooms\",\"Bathrooms\",\"Bathrooms\",\"Bathrooms\",\"Bathrooms\",\"Bathrooms\",\"Bathrooms\",\"Bathrooms\",\"Bathrooms\",\"Bathrooms\",\"Bathrooms\",\"Bathrooms\",\"Bathrooms\",\"Bathrooms\",\"Bathrooms\",\"Bathrooms\",\"Bathrooms\",\"Bathrooms\",\"Bathrooms\",\"Bathrooms\",\"Bathrooms\",\"Bathrooms\",\"Bathrooms\",\"Bathrooms\",\"Bathrooms\",\"Bathrooms\",\"Bathrooms\",\"Bathrooms\",\"Bathrooms\",\"Bathrooms\",\"Bathrooms\",\"Bathrooms\",\"Bathrooms\",\"Bathrooms\",\"Bathrooms\",\"Bathrooms\",\"Bathrooms\",\"Bathrooms\",\"Bathrooms\",\"Bathrooms\",\"Bathrooms\",\"Bathrooms\",\"Bathrooms\",\"Bathrooms\",\"Bathrooms\",\"Bathrooms\",\"Bathrooms\",\"Bathrooms\",\"Bathrooms\",\"Bathrooms\",\"Bathrooms\",\"Bathrooms\",\"Bathrooms\",\"Bathrooms\",\"Bathrooms\",\"Bathrooms\",\"Bathrooms\",\"Bathrooms\",\"Bathrooms\",\"Bathrooms\",\"Bathrooms\",\"Bathrooms\",\"Bathrooms\",\"Bathrooms\",\"Bathrooms\",\"Bathrooms\",\"Bathrooms\",\"Bathrooms\",\"Bathrooms\",\"Bathrooms\",\"Bathrooms\",\"Bathrooms\",\"Bathrooms\",\"Bathrooms\",\"Bathrooms\",\"Bathrooms\",\"Bathrooms\",\"Bathrooms\",\"Bathrooms\",\"Bathrooms\",\"Bathrooms\",\"Bathrooms\",\"Bathrooms\",\"Bathrooms\",\"Bathrooms\",\"Bathrooms\",\"Bathrooms\",\"Bathrooms\",\"Bathrooms\",\"Bathrooms\",\"Bathrooms\",\"Bathrooms\",\"Bathrooms\",\"Bathrooms\",\"Bathrooms\",\"Bathrooms\",\"Bathrooms\",\"Bathrooms\",\"Bathrooms\",\"Bathrooms\",\"Bathrooms\",\"Bathrooms\",\"Bathrooms\",\"Bathrooms\",\"Bathrooms\",\"Bathrooms\",\"Bathrooms\",\"Bathrooms\",\"Bathrooms\",\"Bathrooms\",\"Bathrooms\",\"Bathrooms\",\"Bathrooms\",\"Bathrooms\",\"Bathrooms\",\"Bathrooms\",\"Bathrooms\",\"Bathrooms\",\"Bathrooms\",\"Bathrooms\",\"Bathrooms\",\"Bathrooms\",\"Bathrooms\",\"Bathrooms\",\"Bathrooms\",\"Bathrooms\",\"Bathrooms\",\"Bathrooms\",\"Bathrooms\",\"Bathrooms\",\"Bathrooms\",\"Bathrooms\",\"Bathrooms\",\"Bathrooms\",\"Bathrooms\",\"Bathrooms\",\"Bathrooms\",\"Bathrooms\",\"Bathrooms\",\"Bathrooms\",\"Bathrooms\",\"Bathrooms\",\"Bathrooms\",\"Bathrooms\",\"Bathrooms\",\"Bathrooms\",\"Bathrooms\",\"Bathrooms\",\"Bathrooms\",\"Bathrooms\",\"Bathrooms\",\"Bathrooms\",\"Bathrooms\",\"Bathrooms\",\"Bathrooms\",\"Bathrooms\",\"Bathrooms\",\"Bathrooms\",\"Bathrooms\",\"Bathrooms\",\"Bathrooms\",\"Bathrooms\",\"Bathrooms\",\"Bathrooms\",\"Bathrooms\",\"Bathrooms\",\"Bathrooms\",\"Bathrooms\",\"Bathrooms\",\"Bathrooms\",\"Bathrooms\",\"Bathrooms\",\"Bathrooms\",\"Bathrooms\",\"Bathrooms\",\"Bathrooms\",\"Bathrooms\",\"Bathrooms\",\"Bathrooms\",\"Bathrooms\",\"Bathrooms\",\"Bathrooms\",\"Bathrooms\",\"Bathrooms\",\"Bathrooms\",\"Bathrooms\",\"Bathrooms\",\"Bathrooms\",\"Bathrooms\",\"Bathrooms\",\"Bathrooms\",\"Bathrooms\",\"Bathrooms\",\"Bathrooms\",\"Bathrooms\",\"Bathrooms\",\"Bathrooms\",\"Bathrooms\",\"Bathrooms\",\"Bathrooms\",\"Bathrooms\",\"Bathrooms\",\"Bathrooms\",\"Bathrooms\",\"Bathrooms\",\"Bathrooms\",\"Bathrooms\",\"Bathrooms\",\"Bathrooms\",\"Bathrooms\",\"Bathrooms\",\"Bathrooms\",\"Bathrooms\",\"Bathrooms\",\"Bathrooms\",\"Bathrooms\",\"Bathrooms\",\"Bathrooms\",\"Bathrooms\",\"Bathrooms\",\"Bathrooms\",\"Bathrooms\",\"Bathrooms\",\"Bathrooms\",\"Bathrooms\",\"Bathrooms\",\"Bathrooms\",\"Bathrooms\",\"Bathrooms\",\"Bathrooms\",\"Bathrooms\",\"Bathrooms\",\"Bathrooms\",\"Bathrooms\",\"Bathrooms\",\"Bathrooms\",\"Bathrooms\",\"Bathrooms\",\"Bathrooms\",\"Bathrooms\",\"Bathrooms\",\"Bathrooms\",\"Bathrooms\",\"Bathrooms\",\"Bathrooms\",\"Bathrooms\",\"Bathrooms\",\"Bathrooms\",\"Bathrooms\",\"Bathrooms\",\"Bathrooms\",\"Bathrooms\",\"Bathrooms\",\"Bathrooms\",\"Bathrooms\",\"Bathrooms\",\"Bathrooms\",\"Bathrooms\",\"Bathrooms\",\"Bathrooms\",\"Bathrooms\",\"Bathrooms\",\"Bathrooms\",\"Bathrooms\",\"Bathrooms\",\"Bathrooms\",\"Bathrooms\",\"Bathrooms\",\"Bathrooms\",\"Bathrooms\",\"Bathrooms\",\"Bathrooms\",\"Bathrooms\",\"Bathrooms\",\"Bathrooms\",\"Bathrooms\",\"Bathrooms\",\"Bathrooms\",\"Bathrooms\",\"Bathrooms\",\"Bathrooms\",\"Bathrooms\",\"Bathrooms\",\"Bathrooms\",\"Bathrooms\",\"Bathrooms\",\"Bathrooms\",\"Bathrooms\",\"Bathrooms\",\"Bathrooms\",\"Bathrooms\",\"Bathrooms\",\"Bathrooms\",\"Bathrooms\",\"Bathrooms\",\"Bathrooms\",\"Bathrooms\",\"Bathrooms\",\"Bathrooms\",\"Bathrooms\",\"Bathrooms\",\"Bathrooms\",\"Bathrooms\",\"Bathrooms\",\"Bathrooms\",\"Bathrooms\",\"Bathrooms\",\"Bathrooms\",\"Bathrooms\",\"Bathrooms\",\"Bathrooms\",\"Bathrooms\",\"Bathrooms\",\"Bathrooms\",\"Bathrooms\",\"Bathrooms\",\"Bathrooms\",\"Bathrooms\",\"Bathrooms\",\"Status\",\"Status\",\"Status\",\"Status\",\"Status\",\"Status\",\"Status\",\"Status\",\"Status\",\"Status\",\"Status\",\"Status\",\"Status\",\"Status\",\"Status\",\"Status\",\"Status\",\"Status\",\"Status\",\"Status\",\"Status\",\"Status\",\"Status\",\"Status\",\"Status\",\"Status\",\"Status\",\"Status\",\"Status\",\"Status\",\"Status\",\"Status\",\"Status\",\"Status\",\"Status\",\"Status\",\"Status\",\"Status\",\"Status\",\"Status\",\"Status\",\"Status\",\"Status\",\"Status\",\"Status\",\"Status\",\"Status\",\"Status\",\"Status\",\"Status\",\"Status\",\"Status\",\"Status\",\"Status\",\"Status\",\"Status\",\"Status\",\"Status\",\"Status\",\"Status\",\"Status\",\"Status\",\"Status\",\"Status\",\"Status\",\"Status\",\"Status\",\"Status\",\"Status\",\"Status\",\"Status\",\"Status\",\"Status\",\"Status\",\"Status\",\"Status\",\"Status\",\"Status\",\"Status\",\"Status\",\"Status\",\"Status\",\"Status\",\"Status\",\"Status\",\"Status\",\"Status\",\"Status\",\"Status\",\"Status\",\"Status\",\"Status\",\"Status\",\"Status\",\"Status\",\"Status\",\"Status\",\"Status\",\"Status\",\"Status\",\"Status\",\"Status\",\"Status\",\"Status\",\"Status\",\"Status\",\"Status\",\"Status\",\"Status\",\"Status\",\"Status\",\"Status\",\"Status\",\"Status\",\"Status\",\"Status\",\"Status\",\"Status\",\"Status\",\"Status\",\"Status\",\"Status\",\"Status\",\"Status\",\"Status\",\"Status\",\"Status\",\"Status\",\"Status\",\"Status\",\"Status\",\"Status\",\"Status\",\"Status\",\"Status\",\"Status\",\"Status\",\"Status\",\"Status\",\"Status\",\"Status\",\"Status\",\"Status\",\"Status\",\"Status\",\"Status\",\"Status\",\"Status\",\"Status\",\"Status\",\"Status\",\"Status\",\"Status\",\"Status\",\"Status\",\"Status\",\"Status\",\"Status\",\"Status\",\"Status\",\"Status\",\"Status\",\"Status\",\"Status\",\"Status\",\"Status\",\"Status\",\"Status\",\"Status\",\"Status\",\"Status\",\"Status\",\"Status\",\"Status\",\"Status\",\"Status\",\"Status\",\"Status\",\"Status\",\"Status\",\"Status\",\"Status\",\"Status\",\"Status\",\"Status\",\"Status\",\"Status\",\"Status\",\"Status\",\"Status\",\"Status\",\"Status\",\"Status\",\"Status\",\"Status\",\"Status\",\"Status\",\"Status\",\"Status\",\"Status\",\"Status\",\"Status\",\"Status\",\"Status\",\"Status\",\"Status\",\"Status\",\"Status\",\"Status\",\"Status\",\"Status\",\"Status\",\"Status\",\"Status\",\"Status\",\"Status\",\"Status\",\"Status\",\"Status\",\"Status\",\"Status\",\"Status\",\"Status\",\"Status\",\"Status\",\"Status\",\"Status\",\"Status\",\"Status\",\"Status\",\"Status\",\"Status\",\"Status\",\"Status\",\"Status\",\"Status\",\"Status\",\"Status\",\"Status\",\"Status\",\"Status\",\"Status\",\"Status\",\"Status\",\"Status\",\"Status\",\"Status\",\"Status\",\"Status\",\"Status\",\"Status\",\"Status\",\"Status\",\"Status\",\"Status\",\"Status\",\"Status\",\"Status\",\"Status\",\"Status\",\"Status\",\"Status\",\"Status\",\"Status\",\"Status\",\"Status\",\"Status\",\"Status\",\"Status\",\"Status\",\"Status\",\"Status\",\"Status\",\"Status\",\"Status\",\"Status\",\"Status\",\"Status\",\"Status\",\"Status\",\"Status\",\"Status\",\"Status\",\"Status\",\"Status\",\"Status\",\"Status\",\"Status\",\"Status\",\"Status\",\"Status\",\"Status\",\"Status\",\"Status\",\"Status\",\"Status\",\"Status\",\"Status\",\"Status\",\"Status\",\"Status\",\"Status\",\"Status\",\"Status\",\"Status\",\"Status\",\"Status\",\"Status\",\"Status\",\"Status\",\"Status\",\"Status\",\"Status\",\"Status\",\"Status\",\"Status\",\"Status\",\"Status\",\"Status\",\"Status\",\"Status\",\"Status\",\"Status\",\"Status\",\"Status\",\"Status\",\"Status\",\"Status\",\"Status\",\"Status\",\"Status\",\"Status\",\"Status\",\"Status\",\"Status\",\"Status\",\"Status\",\"Status\",\"Status\",\"Status\",\"Status\",\"Status\",\"Status\",\"Status\",\"Status\",\"Status\",\"Status\",\"Status\",\"Status\",\"Status\",\"Status\",\"Status\",\"Status\",\"Status\",\"Status\",\"Status\",\"Status\",\"Status\",\"Status\",\"Status\",\"Status\",\"Status\",\"Status\",\"Status\",\"Status\",\"Status\",\"Status\",\"Status\",\"Status\",\"Status\",\"Status\",\"Status\",\"Status\",\"Status\",\"Status\",\"Status\",\"Status\",\"Status\",\"Status\",\"Status\",\"Status\",\"Status\",\"Status\",\"Status\",\"Status\",\"Status\",\"Status\",\"Status\",\"Status\",\"Status\",\"Status\",\"Status\",\"Status\",\"Status\",\"Status\",\"Status\",\"Status\",\"Status\",\"Status\",\"Status\",\"Status\",\"Status\",\"Status\",\"Status\",\"Status\",\"Status\",\"Status\",\"Status\",\"Status\",\"Status\",\"Status\",\"Status\",\"Status\",\"Status\",\"Status\",\"Status\",\"Status\",\"Status\",\"Status\",\"Status\",\"Status\",\"Status\",\"Status\",\"Status\",\"Status\",\"Status\",\"Status\",\"Status\",\"Status\",\"Status\",\"Status\",\"Status\",\"Status\",\"Status\",\"Status\",\"Status\",\"Status\",\"Status\",\"Status\",\"Status\",\"Status\",\"Status\",\"Status\",\"Status\",\"Status\",\"Status\",\"Status\",\"Status\",\"Status\",\"Status\",\"Status\",\"Status\",\"Status\",\"Status\",\"Status\",\"Status\",\"Status\",\"Status\",\"Status\",\"Status\",\"Status\",\"Status\",\"Status\",\"Status\",\"Status\",\"Status\",\"Status\",\"Status\",\"Status\",\"Status\",\"Status\",\"Status\",\"Status\",\"Status\",\"Status\",\"Status\",\"Status\",\"Status\",\"Status\",\"Status\",\"Status\",\"Status\",\"Status\",\"Status\",\"Status\",\"Status\",\"Status\",\"Status\",\"Status\",\"Status\",\"Status\",\"Status\",\"Status\",\"Status\",\"Status\",\"Status\",\"Status\",\"Status\",\"Status\",\"Status\",\"Status\",\"Status\",\"Status\",\"Status\",\"Status\",\"Status\",\"Status\",\"Status\",\"Status\",\"Status\",\"Status\",\"Status\",\"Status\",\"Status\",\"Status\",\"Status\",\"Status\",\"Status\",\"Status\",\"Status\",\"Status\",\"Status\",\"Status\",\"Status\",\"Status\",\"Status\",\"Status\",\"Status\",\"Status\",\"Status\",\"Status\",\"Status\",\"Status\",\"Status\",\"Status\",\"Status\",\"Status\",\"Status\",\"Status\",\"Status\",\"Status\",\"Status\",\"Status\",\"Status\",\"Status\",\"Status\",\"Status\",\"Status\",\"Status\",\"Status\",\"Status\",\"Status\",\"Status\",\"Status\",\"Status\",\"Status\",\"Status\",\"Status\",\"Status\",\"Status\",\"Status\",\"Status\",\"Status\",\"Status\",\"Status\",\"Status\",\"Status\",\"Status\",\"Status\",\"Status\",\"Status\",\"Status\",\"Status\",\"Status\",\"Status\",\"Status\",\"Status\",\"Status\",\"Status\",\"Status\",\"Status\",\"Status\",\"Status\",\"Status\",\"Status\",\"Status\",\"Status\",\"Status\",\"Status\",\"Status\",\"Status\",\"Status\",\"Status\",\"Status\",\"Status\",\"Status\",\"Status\",\"Status\",\"Status\",\"Status\",\"Status\",\"Status\",\"Status\",\"Status\",\"Status\",\"Status\",\"Status\",\"Status\",\"Status\",\"Status\",\"Status\",\"Status\",\"Status\",\"Status\",\"Status\",\"Status\",\"Status\",\"Status\",\"Status\",\"Status\",\"Status\",\"Status\",\"Status\",\"Status\",\"Status\",\"Status\",\"Status\",\"Status\",\"Status\",\"Status\",\"Status\",\"Status\",\"Status\",\"Status\",\"Status\",\"Status\",\"Status\",\"Status\",\"Status\",\"Status\",\"Status\",\"Status\",\"Status\",\"Status\",\"Status\",\"Status\",\"Status\",\"Status\",\"Status\",\"Status\",\"Status\",\"Status\",\"Status\",\"Status\",\"Status\",\"Status\",\"Status\",\"Status\",\"Status\",\"Status\",\"Status\",\"Status\",\"Status\",\"Status\",\"Status\",\"Status\",\"Status\",\"Status\",\"Status\",\"Status\",\"Status\",\"Status\",\"Status\",\"Status\",\"Status\",\"Status\",\"Status\",\"Status\",\"Status\",\"Status\",\"Status\",\"Status\",\"Status\",\"Status\",\"Status\",\"Status\",\"Status\",\"Status\",\"Status\",\"Status\",\"Status\",\"Status\",\"Status\",\"Status\",\"Status\",\"Status\",\"Status\",\"Status\",\"Status\",\"Status\",\"Status\",\"Status\",\"Status\",\"Status\",\"Status\",\"Status\",\"Status\",\"Status\",\"Status\",\"Status\",\"Status\",\"Status\",\"Status\",\"Status\",\"Status\",\"Status\",\"Status\",\"Status\",\"Status\",\"Status\",\"Status\",\"Status\",\"Status\",\"Status\",\"Status\",\"Status\",\"Status\",\"Status\",\"Status\",\"Status\",\"Status\",\"Status\",\"Status\",\"Status\",\"Status\",\"Status\",\"Status\",\"Status\",\"Status\",\"Status\",\"Status\",\"Status\",\"Status\",\"Status\",\"Status\",\"Status\",\"Status\",\"Status\",\"Status\",\"Status\",\"Status\",\"Status\",\"Status\",\"Status\",\"Status\",\"Status\",\"Status\",\"Status\",\"Status\",\"Status\",\"Status\",\"Status\",\"Status\",\"Status\",\"Status\",\"Status\",\"Status\",\"Status\",\"Status\",\"Status\",\"Status\",\"Status\",\"Status\",\"Status\",\"Status\",\"Status\",\"Status\",\"Status\",\"Status\",\"Status\",\"Status\",\"Status\",\"Status\",\"Status\",\"Status\",\"Status\",\"Status\",\"Status\",\"Status\",\"Status\",\"Status\",\"Status\",\"Status\",\"Status\",\"Status\",\"Status\",\"Status\",\"Status\",\"Status\",\"Status\",\"Status\",\"Status\",\"Status\",\"Status\",\"Status\",\"Status\",\"Status\",\"Status\",\"Status\",\"Status\",\"Status\",\"Status\",\"Status\",\"Status\",\"Status\",\"Status\",\"Status\",\"Status\",\"Status\",\"Status\",\"Status\",\"Status\",\"Status\",\"Status\",\"Status\",\"Status\",\"Status\",\"Status\",\"Status\",\"Status\",\"Status\",\"Status\",\"Status\",\"Status\",\"Status\",\"Status\",\"Status\",\"Status\",\"Status\",\"Status\",\"Status\",\"Status\",\"Status\",\"Status\",\"Status\",\"Status\",\"Status\",\"Status\",\"Status\",\"Status\",\"Status\",\"Status\",\"Status\",\"Status\",\"Status\",\"Status\",\"Status\",\"Status\",\"Status\",\"Status\",\"Status\",\"Status\",\"Status\",\"Status\",\"Status\",\"Status\",\"Status\",\"Status\",\"Status\",\"Status\",\"Status\",\"Status\",\"Status\",\"Status\",\"Status\",\"Status\",\"Status\",\"Status\",\"Status\",\"Status\",\"Status\",\"Status\",\"Status\",\"Status\",\"Status\",\"Status\",\"Status\",\"Status\",\"Status\",\"Status\",\"Status\",\"Status\",\"Status\",\"Status\",\"Status\",\"Status\",\"Status\",\"Status\",\"Status\",\"Status\",\"Status\",\"Status\",\"Status\",\"Status\",\"Status\",\"Status\",\"Status\",\"Status\",\"Status\",\"Status\",\"Status\",\"Status\",\"Status\",\"Status\",\"Status\",\"Status\",\"Status\",\"Status\",\"Status\",\"Status\",\"Status\",\"Status\",\"Status\",\"Status\",\"Status\",\"Status\",\"Status\",\"Status\",\"Status\",\"Status\",\"Status\",\"Status\",\"Status\",\"Status\",\"Status\",\"Status\",\"Status\",\"Status\",\"Status\",\"Status\",\"Status\",\"Status\",\"Status\",\"Status\",\"Status\",\"Status\",\"Status\",\"Status\",\"Status\",\"Status\",\"Status\",\"Status\",\"Status\",\"Status\",\"Status\",\"Status\",\"Status\",\"Status\",\"Status\",\"Status\",\"Status\",\"Status\",\"Status\",\"Status\",\"Status\",\"Status\",\"Status\",\"Status\",\"Status\",\"Status\",\"Status\",\"Status\",\"Status\",\"Status\",\"Status\",\"Status\",\"Status\",\"Status\",\"Status\",\"Status\",\"Status\",\"Status\",\"Status\",\"Status\",\"Status\",\"Status\",\"Status\",\"Status\",\"Status\",\"Status\",\"Status\",\"Status\",\"Status\",\"Status\",\"Status\",\"Status\",\"Status\",\"Status\",\"Status\",\"Status\",\"Status\",\"Status\",\"Status\",\"Size\",\"Size\",\"Size\",\"Size\",\"Size\",\"Size\",\"Size\",\"Size\",\"Size\",\"Size\",\"Size\",\"Size\",\"Size\",\"Size\",\"Size\",\"Size\",\"Size\",\"Size\",\"Size\",\"Size\",\"Size\",\"Size\",\"Size\",\"Size\",\"Size\",\"Size\",\"Size\",\"Size\",\"Size\",\"Size\",\"Size\",\"Size\",\"Size\",\"Size\",\"Size\",\"Size\",\"Size\",\"Size\",\"Size\",\"Size\",\"Size\",\"Size\",\"Size\",\"Size\",\"Size\",\"Size\",\"Size\",\"Size\",\"Size\",\"Size\",\"Size\",\"Size\",\"Size\",\"Size\",\"Size\",\"Size\",\"Size\",\"Size\",\"Size\",\"Size\",\"Size\",\"Size\",\"Size\",\"Size\",\"Size\",\"Size\",\"Size\",\"Size\",\"Size\",\"Size\",\"Size\",\"Size\",\"Size\",\"Size\",\"Size\",\"Size\",\"Size\",\"Size\",\"Size\",\"Size\",\"Size\",\"Size\",\"Size\",\"Size\",\"Size\",\"Size\",\"Size\",\"Size\",\"Size\",\"Size\",\"Size\",\"Size\",\"Size\",\"Size\",\"Size\",\"Size\",\"Size\",\"Size\",\"Size\",\"Size\",\"Size\",\"Size\",\"Size\",\"Size\",\"Size\",\"Size\",\"Size\",\"Size\",\"Size\",\"Size\",\"Size\",\"Size\",\"Size\",\"Size\",\"Size\",\"Size\",\"Size\",\"Size\",\"Size\",\"Size\",\"Size\",\"Size\",\"Size\",\"Size\",\"Size\",\"Size\",\"Size\",\"Size\",\"Size\",\"Size\",\"Size\",\"Size\",\"Size\",\"Size\",\"Size\",\"Size\",\"Size\",\"Size\",\"Size\",\"Size\",\"Size\",\"Size\",\"Size\",\"Size\",\"Size\",\"Size\",\"Size\",\"Size\",\"Size\",\"Size\",\"Size\",\"Size\",\"Size\",\"Size\",\"Size\",\"Size\",\"Size\",\"Size\",\"Size\",\"Size\",\"Size\",\"Size\",\"Size\",\"Size\",\"Size\",\"Size\",\"Size\",\"Size\",\"Size\",\"Size\",\"Size\",\"Size\",\"Size\",\"Size\",\"Size\",\"Size\",\"Size\",\"Size\",\"Size\",\"Size\",\"Size\",\"Size\",\"Size\",\"Size\",\"Size\",\"Size\",\"Size\",\"Size\",\"Size\",\"Size\",\"Size\",\"Size\",\"Size\",\"Size\",\"Size\",\"Size\",\"Size\",\"Size\",\"Size\",\"Size\",\"Size\",\"Size\",\"Size\",\"Size\",\"Size\",\"Size\",\"Size\",\"Size\",\"Size\",\"Size\",\"Size\",\"Size\",\"Size\",\"Size\",\"Size\",\"Size\",\"Size\",\"Size\",\"Size\",\"Size\",\"Size\",\"Size\",\"Size\",\"Size\",\"Size\",\"Size\",\"Size\",\"Size\",\"Size\",\"Size\",\"Size\",\"Size\",\"Size\",\"Size\",\"Size\",\"Size\",\"Size\",\"Size\",\"Size\",\"Size\",\"Size\",\"Size\",\"Size\",\"Size\",\"Size\",\"Size\",\"Size\",\"Size\",\"Size\",\"Size\",\"Size\",\"Size\",\"Size\",\"Size\",\"Size\",\"Size\",\"Size\",\"Size\",\"Size\",\"Size\",\"Size\",\"Size\",\"Size\",\"Size\",\"Size\",\"Size\",\"Size\",\"Size\",\"Size\",\"Size\",\"Size\",\"Size\",\"Size\",\"Size\",\"Size\",\"Size\",\"Size\",\"Size\",\"Size\",\"Size\",\"Size\",\"Size\",\"Size\",\"Size\",\"Size\",\"Size\",\"Size\",\"Size\",\"Size\",\"Size\",\"Size\",\"Size\",\"Size\",\"Size\",\"Size\",\"Size\",\"Size\",\"Size\",\"Size\",\"Size\",\"Size\",\"Size\",\"Size\",\"Size\",\"Size\",\"Size\",\"Size\",\"Size\",\"Size\",\"Size\",\"Size\",\"Size\",\"Size\",\"Size\",\"Size\",\"Size\",\"Size\",\"Size\",\"Size\",\"Size\",\"Size\",\"Size\",\"Size\",\"Size\",\"Size\",\"Size\",\"Size\",\"Size\",\"Size\",\"Size\",\"Size\",\"Size\",\"Size\",\"Size\",\"Size\",\"Size\",\"Size\",\"Size\",\"Size\",\"Size\",\"Size\",\"Size\",\"Size\",\"Size\",\"Size\",\"Size\",\"Size\",\"Size\",\"Size\",\"Size\",\"Size\",\"Size\",\"Size\",\"Size\",\"Size\",\"Size\",\"Size\",\"Size\",\"Size\",\"Size\",\"Size\",\"Size\",\"Size\",\"Size\",\"Size\",\"Size\",\"Size\",\"Size\",\"Size\",\"Size\",\"Size\",\"Size\",\"Size\",\"Size\",\"Size\",\"Size\",\"Size\",\"Size\",\"Size\",\"Size\",\"Size\",\"Size\",\"Size\",\"Size\",\"Size\",\"Size\",\"Size\",\"Size\",\"Size\",\"Size\",\"Size\",\"Size\",\"Size\",\"Size\",\"Size\",\"Size\",\"Size\",\"Size\",\"Size\",\"Size\",\"Size\",\"Size\",\"Size\",\"Size\",\"Size\",\"Size\",\"Size\",\"Size\",\"Size\",\"Size\",\"Size\",\"Size\",\"Size\",\"Size\",\"Size\",\"Size\",\"Size\",\"Size\",\"Size\",\"Size\",\"Size\",\"Size\",\"Size\",\"Size\",\"Size\",\"Size\",\"Size\",\"Size\",\"Size\",\"Size\",\"Size\",\"Size\",\"Size\",\"Size\",\"Size\",\"Size\",\"Size\",\"Size\",\"Size\",\"Size\",\"Size\",\"Size\",\"Size\",\"Size\",\"Size\",\"Size\",\"Size\",\"Size\",\"Size\",\"Size\",\"Size\",\"Size\",\"Size\",\"Size\",\"Size\",\"Size\",\"Size\",\"Size\",\"Size\",\"Size\",\"Size\",\"Size\",\"Size\",\"Size\",\"Size\",\"Size\",\"Size\",\"Size\",\"Size\",\"Size\",\"Size\",\"Size\",\"Size\",\"Size\",\"Size\",\"Size\",\"Size\",\"Size\",\"Size\",\"Size\",\"Size\",\"Size\",\"Size\",\"Size\",\"Size\",\"Size\",\"Size\",\"Size\",\"Size\",\"Size\",\"Size\",\"Size\",\"Size\",\"Size\",\"Size\",\"Size\",\"Size\",\"Size\",\"Size\",\"Size\",\"Size\",\"Size\",\"Size\",\"Size\",\"Size\",\"Size\",\"Size\",\"Size\",\"Size\",\"Size\",\"Size\",\"Size\",\"Size\",\"Size\",\"Size\",\"Size\",\"Size\",\"Size\",\"Size\",\"Size\",\"Size\",\"Size\",\"Size\",\"Size\",\"Size\",\"Size\",\"Size\",\"Size\",\"Size\",\"Size\",\"Size\",\"Size\",\"Size\",\"Size\",\"Size\",\"Size\",\"Size\",\"Size\",\"Size\",\"Size\",\"Size\",\"Size\",\"Size\",\"Size\",\"Size\",\"Size\",\"Size\",\"Size\",\"Size\",\"Size\",\"Size\",\"Size\",\"Size\",\"Size\",\"Size\",\"Size\",\"Size\",\"Size\",\"Size\",\"Size\",\"Size\",\"Size\",\"Size\",\"Size\",\"Size\",\"Size\",\"Size\",\"Size\",\"Size\",\"Size\",\"Size\",\"Size\",\"Size\",\"Size\",\"Size\",\"Size\",\"Size\",\"Size\",\"Size\",\"Size\",\"Size\",\"Size\",\"Size\",\"Size\",\"Size\",\"Size\",\"Size\",\"Size\",\"Size\",\"Size\",\"Size\",\"Size\",\"Size\",\"Size\",\"Size\",\"Size\",\"Size\",\"Size\",\"Size\",\"Size\",\"Size\",\"Size\",\"Size\",\"Size\",\"Size\",\"Size\",\"Size\",\"Size\",\"Size\",\"Size\",\"Size\",\"Size\",\"Size\",\"Size\",\"Size\",\"Size\",\"Size\",\"Size\",\"Size\",\"Size\",\"Size\",\"Size\",\"Size\",\"Size\",\"Size\",\"Size\",\"Size\",\"Size\",\"Size\",\"Size\",\"Size\",\"Size\",\"Size\",\"Size\",\"Size\",\"Size\",\"Size\",\"Size\",\"Size\",\"Size\",\"Size\",\"Size\",\"Size\",\"Size\",\"Size\",\"Size\",\"Size\",\"Size\",\"Size\",\"Size\",\"Size\",\"Size\",\"Size\",\"Size\",\"Size\",\"Size\",\"Size\",\"Size\",\"Size\",\"Size\",\"Size\",\"Size\",\"Size\",\"Size\",\"Size\",\"Size\",\"Size\",\"Size\",\"Size\",\"Size\",\"Size\",\"Size\",\"Size\",\"Size\",\"Size\",\"Size\",\"Size\",\"Size\",\"Size\",\"Size\",\"Size\",\"Size\",\"Size\",\"Size\",\"Size\",\"Size\",\"Size\",\"Size\",\"Size\",\"Size\",\"Size\",\"Size\",\"Size\",\"Size\",\"Size\",\"Size\",\"Size\",\"Size\",\"Size\",\"Size\",\"Size\",\"Size\",\"Size\",\"Size\",\"Size\",\"Size\",\"Size\",\"Size\",\"Size\",\"Size\",\"Size\",\"Size\",\"Size\",\"Size\",\"Size\",\"Size\",\"Size\",\"Size\",\"Size\",\"Size\",\"Size\",\"Size\",\"Size\",\"Size\",\"Size\",\"Size\",\"Size\",\"Size\",\"Size\",\"Size\",\"Size\",\"Size\",\"Size\",\"Size\",\"Size\",\"Size\",\"Size\",\"Size\",\"Size\",\"Size\",\"Size\",\"Size\",\"Size\",\"Size\",\"Size\",\"Size\",\"Size\",\"Size\",\"Size\",\"Size\",\"Size\",\"Size\",\"Size\",\"Size\",\"Size\",\"Size\",\"Size\",\"Size\",\"Size\",\"Size\",\"Size\",\"Size\",\"Size\",\"Size\",\"Size\",\"Size\",\"Size\",\"Size\",\"Size\",\"Size\",\"Size\",\"Size\",\"Size\",\"Size\",\"Size\",\"Size\",\"Size\",\"Size\",\"Size\",\"Size\",\"Size\",\"Size\",\"Size\",\"Size\",\"Size\",\"Size\",\"Size\",\"Size\",\"Size\",\"Size\",\"Size\",\"Size\",\"Size\",\"Size\",\"Size\",\"Size\",\"Size\",\"Size\",\"Size\",\"Size\",\"Size\",\"Size\",\"Size\",\"Size\",\"Size\",\"Size\",\"Size\",\"Size\",\"Size\",\"Size\",\"Size\",\"Size\",\"Size\",\"Size\",\"Size\",\"Size\",\"Size\",\"Size\",\"Size\",\"Size\",\"Size\",\"Size\",\"Size\",\"Size\",\"Size\",\"Size\",\"Size\",\"Size\",\"Size\",\"Size\",\"Size\",\"Size\",\"Size\",\"Size\",\"Size\",\"Size\",\"Size\",\"Size\",\"Size\",\"Size\",\"Size\",\"Size\",\"Size\",\"Size\",\"Size\",\"Size\",\"Size\",\"Size\",\"Size\",\"Size\",\"Size\",\"Size\",\"Size\",\"Size\",\"Size\",\"Size\",\"Size\",\"Size\",\"Size\",\"Size\",\"Size\",\"Size\",\"Size\",\"Size\",\"Size\",\"Size\",\"Size\",\"Size\",\"Size\",\"Size\",\"Size\",\"Size\",\"Size\",\"Size\",\"Size\",\"Size\",\"Size\",\"Size\",\"Size\",\"Size\",\"Size\",\"Size\",\"Size\",\"Size\",\"Size\",\"Size\",\"Size\",\"Size\",\"Size\",\"Size\",\"Size\",\"Size\",\"Size\",\"Size\",\"Size\",\"Size\",\"Size\",\"Size\",\"Size\",\"Size\",\"Size\",\"Size\",\"Size\",\"Size\",\"Size\",\"Size\",\"Size\",\"Size\",\"Size\",\"Size\",\"Size\",\"Size\",\"Size\",\"Size\",\"Size\",\"Size\",\"Size\",\"Size\",\"Size\",\"Size\",\"Size\",\"Size\",\"Size\",\"Size\",\"Size\",\"Size\",\"Size\",\"Size\",\"Size\",\"Size\",\"Size\",\"Size\",\"Size\",\"Size\",\"Size\",\"Size\",\"Size\",\"Size\",\"Size\",\"Size\",\"Size\",\"Size\",\"Size\",\"Size\",\"Size\",\"Size\",\"Size\",\"Size\",\"Size\",\"Size\",\"Size\",\"Size\",\"Size\",\"Size\",\"Size\",\"Size\",\"Size\",\"Size\",\"Size\",\"Size\",\"Size\",\"Size\",\"Size\",\"Size\",\"Size\",\"Size\",\"Size\",\"Size\",\"Size\",\"Size\",\"Size\",\"Size\",\"Size\",\"Size\",\"Size\",\"Size\",\"Size\",\"Size\",\"Size\",\"Size\",\"Size\",\"Size\",\"Size\",\"Size\",\"Size\",\"Size\",\"Size\",\"Size\",\"Size\",\"Size\",\"Size\",\"Size\",\"Size\",\"Size\",\"Size\",\"Size\",\"Size\",\"Size\",\"Size\",\"Size\",\"Size\",\"Size\",\"Size\",\"Location\",\"Location\",\"Location\",\"Location\",\"Location\",\"Location\",\"Location\",\"Location\",\"Location\",\"Location\",\"Location\",\"Location\",\"Location\",\"Location\",\"Location\",\"Location\",\"Location\",\"Location\",\"Location\",\"Location\",\"Location\",\"Location\",\"Location\",\"Location\",\"Location\",\"Location\",\"Location\",\"Location\",\"Location\",\"Location\",\"Location\",\"Location\",\"Location\",\"Location\",\"Location\",\"Location\",\"Location\",\"Location\",\"Location\",\"Location\",\"Location\",\"Location\",\"Location\",\"Location\",\"Location\",\"Location\",\"Location\",\"Location\",\"Location\",\"Location\",\"Location\",\"Location\",\"Location\",\"Location\",\"Location\",\"Location\",\"Location\",\"Location\",\"Location\",\"Location\",\"Location\",\"Location\",\"Location\",\"Location\",\"Location\",\"Location\",\"Location\",\"Location\",\"Location\",\"Location\",\"Location\",\"Location\",\"Location\",\"Location\",\"Location\",\"Location\",\"Location\",\"Location\",\"Location\",\"Location\",\"Location\",\"Location\",\"Location\",\"Location\",\"Location\",\"Location\",\"Location\",\"Location\",\"Location\",\"Location\",\"Location\",\"Location\",\"Location\",\"Location\",\"Location\",\"Location\",\"Location\",\"Location\",\"Location\",\"Location\",\"Location\",\"Location\",\"Location\",\"Location\",\"Location\",\"Location\",\"Location\",\"Location\",\"Location\",\"Location\",\"Location\",\"Location\",\"Location\",\"Location\",\"Location\",\"Location\",\"Location\",\"Location\",\"Location\",\"Location\",\"Location\",\"Location\",\"Location\",\"Location\",\"Location\",\"Location\",\"Location\",\"Location\",\"Location\",\"Location\",\"Location\",\"Location\",\"Location\",\"Location\",\"Location\",\"Location\",\"Location\",\"Location\",\"Location\",\"Location\",\"Location\",\"Location\",\"Location\",\"Location\",\"Location\",\"Location\",\"Location\",\"Location\",\"Location\",\"Location\",\"Location\",\"Location\",\"Location\",\"Location\",\"Location\",\"Location\",\"Location\",\"Location\",\"Location\",\"Location\",\"Location\",\"Location\",\"Location\",\"Location\",\"Location\",\"Location\",\"Location\",\"Location\",\"Location\",\"Location\",\"Location\",\"Location\",\"Location\",\"Location\",\"Location\",\"Location\",\"Location\",\"Location\",\"Location\",\"Location\",\"Location\",\"Location\",\"Location\",\"Location\",\"Location\",\"Location\",\"Location\",\"Location\",\"Location\",\"Location\",\"Location\",\"Location\",\"Location\",\"Location\",\"Location\",\"Location\",\"Location\",\"Location\",\"Location\",\"Location\",\"Location\",\"Location\",\"Location\",\"Location\",\"Location\",\"Location\",\"Location\",\"Location\",\"Location\",\"Location\",\"Location\",\"Location\",\"Location\",\"Location\",\"Location\",\"Location\",\"Location\",\"Location\",\"Location\",\"Location\",\"Location\",\"Location\",\"Location\",\"Location\",\"Location\",\"Location\",\"Location\",\"Location\",\"Location\",\"Location\",\"Location\",\"Location\",\"Location\",\"Location\",\"Location\",\"Location\",\"Location\",\"Location\",\"Location\",\"Location\",\"Location\",\"Location\",\"Location\",\"Location\",\"Location\",\"Location\",\"Location\",\"Location\",\"Location\",\"Location\",\"Location\",\"Location\",\"Location\",\"Location\",\"Location\",\"Location\",\"Location\",\"Location\",\"Location\",\"Location\",\"Location\",\"Location\",\"Location\",\"Location\",\"Location\",\"Location\",\"Location\",\"Location\",\"Location\",\"Location\",\"Location\",\"Location\",\"Location\",\"Location\",\"Location\",\"Location\",\"Location\",\"Location\",\"Location\",\"Location\",\"Location\",\"Location\",\"Location\",\"Location\",\"Location\",\"Location\",\"Location\",\"Location\",\"Location\",\"Location\",\"Location\",\"Location\",\"Location\",\"Location\",\"Location\",\"Location\",\"Location\",\"Location\",\"Location\",\"Location\",\"Location\",\"Location\",\"Location\",\"Location\",\"Location\",\"Location\",\"Location\",\"Location\",\"Location\",\"Location\",\"Location\",\"Location\",\"Location\",\"Location\",\"Location\",\"Location\",\"Location\",\"Location\",\"Location\",\"Location\",\"Location\",\"Location\",\"Location\",\"Location\",\"Location\",\"Location\",\"Location\",\"Location\",\"Location\",\"Location\",\"Location\",\"Location\",\"Location\",\"Location\",\"Location\",\"Location\",\"Location\",\"Location\",\"Location\",\"Location\",\"Location\",\"Location\",\"Location\",\"Location\",\"Location\",\"Location\",\"Location\",\"Location\",\"Location\",\"Location\",\"Location\",\"Location\",\"Location\",\"Location\",\"Location\",\"Location\",\"Location\",\"Location\",\"Location\",\"Location\",\"Location\",\"Location\",\"Location\",\"Location\",\"Location\",\"Location\",\"Location\",\"Location\",\"Location\",\"Location\",\"Location\",\"Location\",\"Location\",\"Location\",\"Location\",\"Location\",\"Location\",\"Location\",\"Location\",\"Location\",\"Location\",\"Location\",\"Location\",\"Location\",\"Location\",\"Location\",\"Location\",\"Location\",\"Location\",\"Location\",\"Location\",\"Location\",\"Location\",\"Location\",\"Location\",\"Location\",\"Location\",\"Location\",\"Location\",\"Location\",\"Location\",\"Location\",\"Location\",\"Location\",\"Location\",\"Location\",\"Location\",\"Location\",\"Location\",\"Location\",\"Location\",\"Location\",\"Location\",\"Location\",\"Location\",\"Location\",\"Location\",\"Location\",\"Location\",\"Location\",\"Location\",\"Location\",\"Location\",\"Location\",\"Location\",\"Location\",\"Location\",\"Location\",\"Location\",\"Location\",\"Location\",\"Location\",\"Location\",\"Location\",\"Location\",\"Location\",\"Location\",\"Location\",\"Location\",\"Location\",\"Location\",\"Location\",\"Location\",\"Location\",\"Location\",\"Location\",\"Location\",\"Location\",\"Location\",\"Location\",\"Location\",\"Location\",\"Location\",\"Location\",\"Location\",\"Location\",\"Location\",\"Location\",\"Location\",\"Location\",\"Location\",\"Location\",\"Location\",\"Location\",\"Location\",\"Location\",\"Location\",\"Location\",\"Location\",\"Location\",\"Location\",\"Location\",\"Location\",\"Location\",\"Location\",\"Location\",\"Location\",\"Location\",\"Location\",\"Location\",\"Location\",\"Location\",\"Location\",\"Location\",\"Location\",\"Location\",\"Location\",\"Location\",\"Location\",\"Location\",\"Location\",\"Location\",\"Location\",\"Location\",\"Location\",\"Location\",\"Location\",\"Location\",\"Location\",\"Location\",\"Location\",\"Location\",\"Location\",\"Location\",\"Location\",\"Location\",\"Location\",\"Location\",\"Location\",\"Location\",\"Location\",\"Location\",\"Location\",\"Location\",\"Location\",\"Location\",\"Location\",\"Location\",\"Location\",\"Location\",\"Location\",\"Location\",\"Location\",\"Location\",\"Location\",\"Location\",\"Location\",\"Location\",\"Location\",\"Location\",\"Location\",\"Location\",\"Location\",\"Location\",\"Location\",\"Location\",\"Location\",\"Location\",\"Location\",\"Location\",\"Location\",\"Location\",\"Location\",\"Location\",\"Location\",\"Location\",\"Location\",\"Location\",\"Location\",\"Location\",\"Location\",\"Location\",\"Location\",\"Location\",\"Location\",\"Location\",\"Location\",\"Location\",\"Location\",\"Location\",\"Location\",\"Location\",\"Location\",\"Location\",\"Location\",\"Location\",\"Location\",\"Location\",\"Location\",\"Location\",\"Location\",\"Location\",\"Location\",\"Location\",\"Location\",\"Location\",\"Location\",\"Location\",\"Location\",\"Location\",\"Location\",\"Location\",\"Location\",\"Location\",\"Location\",\"Location\",\"Location\",\"Location\",\"Location\",\"Location\",\"Location\",\"Location\",\"Location\",\"Location\",\"Location\",\"Location\",\"Location\",\"Location\",\"Location\",\"Location\",\"Location\",\"Location\",\"Location\",\"Location\",\"Location\",\"Location\",\"Location\",\"Location\",\"Location\",\"Location\",\"Location\",\"Location\",\"Location\",\"Location\",\"Location\",\"Location\",\"Location\",\"Location\",\"Location\",\"Location\",\"Location\",\"Location\",\"Location\",\"Location\",\"Location\",\"Location\",\"Location\",\"Location\",\"Location\",\"Location\",\"Location\",\"Location\",\"Location\",\"Location\",\"Location\",\"Location\",\"Location\",\"Location\",\"Location\",\"Location\",\"Location\",\"Location\",\"Location\",\"Location\",\"Location\",\"Location\",\"Location\",\"Location\",\"Location\",\"Location\",\"Location\",\"Location\",\"Location\",\"Location\",\"Location\",\"Location\",\"Location\",\"Location\",\"Location\",\"Location\",\"Location\",\"Location\",\"Location\",\"Location\",\"Location\",\"Location\",\"Location\",\"Location\",\"Location\",\"Location\",\"Location\",\"Location\",\"Location\",\"Location\",\"Location\",\"Location\",\"Location\",\"Location\",\"Location\",\"Location\",\"Location\",\"Location\",\"Location\",\"Location\",\"Location\",\"Location\",\"Location\",\"Location\",\"Location\",\"Location\",\"Location\",\"Location\",\"Location\",\"Location\",\"Location\",\"Location\",\"Location\",\"Location\",\"Location\",\"Location\",\"Location\",\"Location\",\"Location\",\"Location\",\"Location\",\"Location\",\"Location\",\"Location\",\"Location\",\"Location\",\"Location\",\"Location\",\"Location\",\"Location\",\"Location\",\"Location\",\"Location\",\"Location\",\"Location\",\"Location\",\"Location\",\"Location\",\"Location\",\"Location\",\"Location\",\"Location\",\"Location\",\"Location\",\"Location\",\"Location\",\"Location\",\"Location\",\"Location\",\"Location\",\"Location\",\"Location\",\"Location\",\"Location\",\"Location\",\"Location\",\"Location\",\"Location\",\"Location\",\"Location\",\"Location\",\"Location\",\"Location\",\"Location\",\"Location\",\"Location\",\"Location\",\"Location\",\"Location\",\"Location\",\"Location\",\"Location\",\"Location\",\"Location\",\"Location\",\"Location\",\"Location\",\"Location\",\"Location\",\"Location\",\"Location\",\"Location\",\"Location\",\"Location\",\"Location\",\"Location\",\"Location\",\"Location\",\"Location\",\"Location\",\"Location\",\"Location\",\"Location\",\"Location\",\"Location\",\"Location\",\"Location\",\"Location\",\"Location\",\"Location\",\"Location\",\"Location\",\"Location\",\"Location\",\"Location\",\"Location\",\"Location\",\"Location\",\"Location\",\"Location\",\"Location\",\"Location\",\"Location\",\"Location\",\"Location\",\"Location\",\"Location\",\"Location\",\"Location\",\"Location\",\"Location\",\"Location\",\"Location\",\"Location\",\"Location\",\"Location\",\"Location\",\"Location\",\"Location\",\"Location\",\"Location\",\"Location\",\"Location\",\"Location\",\"Location\",\"Location\",\"Location\",\"Location\",\"Location\",\"Location\",\"Location\",\"Location\",\"Location\",\"Location\",\"Location\",\"Location\",\"Location\",\"Location\",\"Location\",\"Location\",\"Location\",\"Location\",\"Location\",\"Location\",\"Location\",\"Location\",\"Location\",\"Location\",\"Location\",\"Location\",\"Location\",\"Location\",\"Location\",\"Location\",\"Location\",\"Location\",\"Location\",\"Location\",\"Location\",\"Location\",\"Location\",\"Location\",\"Location\",\"Location\",\"Location\",\"Location\",\"Location\",\"Location\",\"Location\",\"Location\",\"Location\",\"Location\",\"Location\",\"Location\",\"Location\",\"Location\",\"Location\",\"Location\",\"Location\",\"Location\",\"Location\",\"Location\",\"Location\",\"Location\",\"Location\",\"Location\",\"Location\",\"Location\",\"Location\",\"Location\",\"Location\",\"Location\",\"Location\",\"Location\",\"Location\",\"Location\",\"Location\",\"Location\",\"Location\",\"Location\",\"Location\",\"Location\",\"Location\",\"Location\",\"Location\",\"Location\",\"Location\",\"Location\",\"Location\",\"Location\",\"Location\",\"Location\",\"Location\",\"Location\",\"Location\",\"Location\",\"Location\",\"Location\",\"Location\",\"Location\",\"Location\",\"Location\",\"Location\",\"Location\",\"Location\",\"Location\",\"Location\",\"Location\",\"Location\",\"Location\",\"Location\",\"Location\",\"Location\",\"Location\",\"Location\",\"Location\",\"Location\",\"Location\",\"Location\",\"Location\",\"Location\",\"Location\",\"Location\",\"Location\",\"Location\",\"Location\",\"Location\",\"Location\",\"Location\",\"Location\",\"Location\",\"Location\",\"Location\",\"Location\",\"Location\",\"Location\",\"Location\",\"Location\",\"Location\",\"Location\",\"Location\",\"Location\",\"Location\",\"Location\",\"Location\",\"Location\",\"Location\",\"Location\",\"Location\",\"Location\",\"Location\",\"Location\",\"Location\",\"Location\",\"Location\",\"Location\",\"Location\",\"Location\",\"Location\",\"Location\",\"Location\",\"Location\",\"Location\",\"Location\",\"Location\",\"Location\",\"Location\",\"Location\",\"Location\",\"Location\",\"Location\",\"Location\",\"Location\",\"Location\",\"Location\",\"Location\",\"Location\",\"Location\",\"Location\",\"Location\",\"Location\",\"Location\",\"Location\",\"Location\",\"Location\",\"Location\",\"Location\",\"Location\",\"Location\",\"Price\",\"Price\",\"Price\",\"Price\",\"Price\",\"Price\",\"Price\",\"Price\",\"Price\",\"Price\",\"Price\",\"Price\",\"Price\",\"Price\",\"Price\",\"Price\",\"Price\",\"Price\",\"Price\",\"Price\",\"Price\",\"Price\",\"Price\",\"Price\",\"Price\",\"Price\",\"Price\",\"Price\",\"Price\",\"Price\",\"Price\",\"Price\",\"Price\",\"Price\",\"Price\",\"Price\",\"Price\",\"Price\",\"Price\",\"Price\",\"Price\",\"Price\",\"Price\",\"Price\",\"Price\",\"Price\",\"Price\",\"Price\",\"Price\",\"Price\",\"Price\",\"Price\",\"Price\",\"Price\",\"Price\",\"Price\",\"Price\",\"Price\",\"Price\",\"Price\",\"Price\",\"Price\",\"Price\",\"Price\",\"Price\",\"Price\",\"Price\",\"Price\",\"Price\",\"Price\",\"Price\",\"Price\",\"Price\",\"Price\",\"Price\",\"Price\",\"Price\",\"Price\",\"Price\",\"Price\",\"Price\",\"Price\",\"Price\",\"Price\",\"Price\",\"Price\",\"Price\",\"Price\",\"Price\",\"Price\",\"Price\",\"Price\",\"Price\",\"Price\",\"Price\",\"Price\",\"Price\",\"Price\",\"Price\",\"Price\",\"Price\",\"Price\",\"Price\",\"Price\",\"Price\",\"Price\",\"Price\",\"Price\",\"Price\",\"Price\",\"Price\",\"Price\",\"Price\",\"Price\",\"Price\",\"Price\",\"Price\",\"Price\",\"Price\",\"Price\",\"Price\",\"Price\",\"Price\",\"Price\",\"Price\",\"Price\",\"Price\",\"Price\",\"Price\",\"Price\",\"Price\",\"Price\",\"Price\",\"Price\",\"Price\",\"Price\",\"Price\",\"Price\",\"Price\",\"Price\",\"Price\",\"Price\",\"Price\",\"Price\",\"Price\",\"Price\",\"Price\",\"Price\",\"Price\",\"Price\",\"Price\",\"Price\",\"Price\",\"Price\",\"Price\",\"Price\",\"Price\",\"Price\",\"Price\",\"Price\",\"Price\",\"Price\",\"Price\",\"Price\",\"Price\",\"Price\",\"Price\",\"Price\",\"Price\",\"Price\",\"Price\",\"Price\",\"Price\",\"Price\",\"Price\",\"Price\",\"Price\",\"Price\",\"Price\",\"Price\",\"Price\",\"Price\",\"Price\",\"Price\",\"Price\",\"Price\",\"Price\",\"Price\",\"Price\",\"Price\",\"Price\",\"Price\",\"Price\",\"Price\",\"Price\",\"Price\",\"Price\",\"Price\",\"Price\",\"Price\",\"Price\",\"Price\",\"Price\",\"Price\",\"Price\",\"Price\",\"Price\",\"Price\",\"Price\",\"Price\",\"Price\",\"Price\",\"Price\",\"Price\",\"Price\",\"Price\",\"Price\",\"Price\",\"Price\",\"Price\",\"Price\",\"Price\",\"Price\",\"Price\",\"Price\",\"Price\",\"Price\",\"Price\",\"Price\",\"Price\",\"Price\",\"Price\",\"Price\",\"Price\",\"Price\",\"Price\",\"Price\",\"Price\",\"Price\",\"Price\",\"Price\",\"Price\",\"Price\",\"Price\",\"Price\",\"Price\",\"Price\",\"Price\",\"Price\",\"Price\",\"Price\",\"Price\",\"Price\",\"Price\",\"Price\",\"Price\",\"Price\",\"Price\",\"Price\",\"Price\",\"Price\",\"Price\",\"Price\",\"Price\",\"Price\",\"Price\",\"Price\",\"Price\",\"Price\",\"Price\",\"Price\",\"Price\",\"Price\",\"Price\",\"Price\",\"Price\",\"Price\",\"Price\",\"Price\",\"Price\",\"Price\",\"Price\",\"Price\",\"Price\",\"Price\",\"Price\",\"Price\",\"Price\",\"Price\",\"Price\",\"Price\",\"Price\",\"Price\",\"Price\",\"Price\",\"Price\",\"Price\",\"Price\",\"Price\",\"Price\",\"Price\",\"Price\",\"Price\",\"Price\",\"Price\",\"Price\",\"Price\",\"Price\",\"Price\",\"Price\",\"Price\",\"Price\",\"Price\",\"Price\",\"Price\",\"Price\",\"Price\",\"Price\",\"Price\",\"Price\",\"Price\",\"Price\",\"Price\",\"Price\",\"Price\",\"Price\",\"Price\",\"Price\",\"Price\",\"Price\",\"Price\",\"Price\",\"Price\",\"Price\",\"Price\",\"Price\",\"Price\",\"Price\",\"Price\",\"Price\",\"Price\",\"Price\",\"Price\",\"Price\",\"Price\",\"Price\",\"Price\",\"Price\",\"Price\",\"Price\",\"Price\",\"Price\",\"Price\",\"Price\",\"Price\",\"Price\",\"Price\",\"Price\",\"Price\",\"Price\",\"Price\",\"Price\",\"Price\",\"Price\",\"Price\",\"Price\",\"Price\",\"Price\",\"Price\",\"Price\",\"Price\",\"Price\",\"Price\",\"Price\",\"Price\",\"Price\",\"Price\",\"Price\",\"Price\",\"Price\",\"Price\",\"Price\",\"Price\",\"Price\",\"Price\",\"Price\",\"Price\",\"Price\",\"Price\",\"Price\",\"Price\",\"Price\",\"Price\",\"Price\",\"Price\",\"Price\",\"Price\",\"Price\",\"Price\",\"Price\",\"Price\",\"Price\",\"Price\",\"Price\",\"Price\",\"Price\",\"Price\",\"Price\",\"Price\",\"Price\",\"Price\",\"Price\",\"Price\",\"Price\",\"Price\",\"Price\",\"Price\",\"Price\",\"Price\",\"Price\",\"Price\",\"Price\",\"Price\",\"Price\",\"Price\",\"Price\",\"Price\",\"Price\",\"Price\",\"Price\",\"Price\",\"Price\",\"Price\",\"Price\",\"Price\",\"Price\",\"Price\",\"Price\",\"Price\",\"Price\",\"Price\",\"Price\",\"Price\",\"Price\",\"Price\",\"Price\",\"Price\",\"Price\",\"Price\",\"Price\",\"Price\",\"Price\",\"Price\",\"Price\",\"Price\",\"Price\",\"Price\",\"Price\",\"Price\",\"Price\",\"Price\",\"Price\",\"Price\",\"Price\",\"Price\",\"Price\",\"Price\",\"Price\",\"Price\",\"Price\",\"Price\",\"Price\",\"Price\",\"Price\",\"Price\",\"Price\",\"Price\",\"Price\",\"Price\",\"Price\",\"Price\",\"Price\",\"Price\",\"Price\",\"Price\",\"Price\",\"Price\",\"Price\",\"Price\",\"Price\",\"Price\",\"Price\",\"Price\",\"Price\",\"Price\",\"Price\",\"Price\",\"Price\",\"Price\",\"Price\",\"Price\",\"Price\",\"Price\",\"Price\",\"Price\",\"Price\",\"Price\",\"Price\",\"Price\",\"Price\",\"Price\",\"Price\",\"Price\",\"Price\",\"Price\",\"Price\",\"Price\",\"Price\",\"Price\",\"Price\",\"Price\",\"Price\",\"Price\",\"Price\",\"Price\",\"Price\",\"Price\",\"Price\",\"Price\",\"Price\",\"Price\",\"Price\",\"Price\",\"Price\",\"Price\",\"Price\",\"Price\",\"Price\",\"Price\",\"Price\",\"Price\",\"Price\",\"Price\",\"Price\",\"Price\",\"Price\",\"Price\",\"Price\",\"Price\",\"Price\",\"Price\",\"Price\",\"Price\",\"Price\",\"Price\",\"Price\",\"Price\",\"Price\",\"Price\",\"Price\",\"Price\",\"Price\",\"Price\",\"Price\",\"Price\",\"Price\",\"Price\",\"Price\",\"Price\",\"Price\",\"Price\",\"Price\",\"Price\",\"Price\",\"Price\",\"Price\",\"Price\",\"Price\",\"Price\",\"Price\",\"Price\",\"Price\",\"Price\",\"Price\",\"Price\",\"Price\",\"Price\",\"Price\",\"Price\",\"Price\",\"Price\",\"Price\",\"Price\",\"Price\",\"Price\",\"Price\",\"Price\",\"Price\",\"Price\",\"Price\",\"Price\",\"Price\",\"Price\",\"Price\",\"Price\",\"Price\",\"Price\",\"Price\",\"Price\",\"Price\",\"Price\",\"Price\",\"Price\",\"Price\",\"Price\",\"Price\",\"Price\",\"Price\",\"Price\",\"Price\",\"Price\",\"Price\",\"Price\",\"Price\",\"Price\",\"Price\",\"Price\",\"Price\",\"Price\",\"Price\",\"Price\",\"Price\",\"Price\",\"Price\",\"Price\",\"Price\",\"Price\",\"Price\",\"Price\",\"Price\",\"Price\",\"Price\",\"Price\",\"Price\",\"Price\",\"Price\",\"Price\",\"Price\",\"Price\",\"Price\",\"Price\",\"Price\",\"Price\",\"Price\",\"Price\",\"Price\",\"Price\",\"Price\",\"Price\",\"Price\",\"Price\",\"Price\",\"Price\",\"Price\",\"Price\",\"Price\",\"Price\",\"Price\",\"Price\",\"Price\",\"Price\",\"Price\",\"Price\",\"Price\",\"Price\",\"Price\",\"Price\",\"Price\",\"Price\",\"Price\",\"Price\",\"Price\",\"Price\",\"Price\",\"Price\",\"Price\",\"Price\",\"Price\",\"Price\",\"Price\",\"Price\",\"Price\",\"Price\",\"Price\",\"Price\",\"Price\",\"Price\",\"Price\",\"Price\",\"Price\",\"Price\",\"Price\",\"Price\",\"Price\",\"Price\",\"Price\",\"Price\",\"Price\",\"Price\",\"Price\",\"Price\",\"Price\",\"Price\",\"Price\",\"Price\",\"Price\",\"Price\",\"Price\",\"Price\",\"Price\",\"Price\",\"Price\",\"Price\",\"Price\",\"Price\",\"Price\",\"Price\",\"Price\",\"Price\",\"Price\",\"Price\",\"Price\",\"Price\",\"Price\",\"Price\",\"Price\",\"Price\",\"Price\",\"Price\",\"Price\",\"Price\",\"Price\",\"Price\",\"Price\",\"Price\",\"Price\",\"Price\",\"Price\",\"Price\",\"Price\",\"Price\",\"Price\",\"Price\",\"Price\",\"Price\",\"Price\",\"Price\",\"Price\",\"Price\",\"Price\",\"Price\",\"Price\",\"Price\",\"Price\",\"Price\",\"Price\",\"Price\",\"Price\",\"Price\",\"Price\",\"Price\",\"Price\",\"Price\",\"Price\",\"Price\",\"Price\",\"Price\",\"Price\",\"Price\",\"Price\",\"Price\",\"Price\",\"Price\",\"Price\",\"Price\",\"Price\",\"Price\",\"Price\",\"Price\",\"Price\",\"Price\",\"Price\",\"Price\",\"Price\",\"Price\",\"Price\",\"Price\",\"Price\",\"Price\",\"Price\",\"Price\",\"Price\",\"Price\",\"Price\",\"Price\",\"Price\",\"Price\",\"Price\",\"Price\",\"Price\",\"Price\",\"Price\",\"Price\",\"Price\",\"Price\",\"Price\",\"Price\",\"Price\",\"Price\",\"Price\",\"Price\",\"Price\",\"Price\",\"Price\",\"Price\",\"Price\",\"Price\",\"Price\",\"Price\",\"Price\",\"Price\",\"Price\",\"Price\",\"Price\",\"Price\",\"Price\",\"Price\",\"Price\",\"Price\",\"Price\",\"Price\",\"Price\",\"Price\",\"Price\",\"Price\",\"Price\",\"Price\",\"Price\",\"Price\",\"Price\",\"Price\",\"Price\",\"Price\",\"Price\",\"Price\",\"Price\",\"Price\",\"Price\",\"Price\",\"Price\",\"Price\",\"Price\",\"Price\",\"Price\",\"Price\",\"Price\",\"Price\",\"Price\",\"Price\",\"Price\",\"Price\",\"Price\",\"Price\",\"Price\",\"Price\",\"Price\",\"Price\",\"Price\",\"Price\",\"Price\",\"Price\",\"Price\",\"Price\",\"Price\",\"Price\",\"Price\",\"Price\",\"Price\",\"Price\",\"Price\",\"Price\",\"Price\",\"Price\",\"Price\",\"Price\",\"Price\",\"Price\",\"Price\",\"Price\",\"Price\",\"Price\",\"Price\",\"Price\",\"Price\",\"Price\",\"Price\",\"Price\",\"Price\",\"Price\",\"Price\",\"Price\",\"Price\",\"Price\",\"Price\",\"Price\",\"Price\",\"Price\",\"Price\",\"Price\",\"Price\",\"Price\",\"Price\",\"Price\",\"Price\",\"Price\",\"Price\",\"Price\",\"Price\",\"Price\",\"Price\",\"Price\",\"Price\",\"Price\",\"Price\",\"Price\",\"Price\",\"Price\",\"Price\",\"Price\",\"Price\",\"Price\",\"Price\",\"Price\",\"Price\",\"Price\",\"Price\",\"Price\",\"Price\",\"Price\",\"Price\",\"Price\",\"Price\",\"Price\",\"Price\",\"Price\",\"Price\",\"Price\",\"Price\",\"Price\",\"Price\",\"Price\",\"Price\",\"Price\",\"Price\",\"Price\",\"Price\",\"Price\",\"Price\",\"Price\",\"Price\",\"Price\",\"Price\",\"Price\",\"Price\",\"Price\",\"Price\",\"Price\",\"Price\",\"Price\",\"Price\",\"Price\",\"Price\",\"Price\",\"Price\",\"Price\",\"Price\",\"Price\",\"Price\",\"Price\",\"Price\",\"Price\",\"Price\",\"Price\",\"Price\",\"Price\",\"Price\",\"Price\",\"Price\",\"Price\",\"Price\",\"Price\",\"Price\",\"Price\",\"Facing\",\"Facing\",\"Facing\",\"Facing\",\"Facing\",\"Facing\",\"Facing\",\"Facing\",\"Facing\",\"Facing\",\"Facing\",\"Facing\",\"Facing\",\"Facing\",\"Facing\",\"Facing\",\"Facing\",\"Facing\",\"Facing\",\"Facing\",\"Facing\",\"Facing\",\"Facing\",\"Facing\",\"Facing\",\"Facing\",\"Facing\",\"Facing\",\"Facing\",\"Facing\",\"Facing\",\"Facing\",\"Facing\",\"Facing\",\"Facing\",\"Facing\",\"Facing\",\"Facing\",\"Facing\",\"Facing\",\"Facing\",\"Facing\",\"Facing\",\"Facing\",\"Facing\",\"Facing\",\"Facing\",\"Facing\",\"Facing\",\"Facing\",\"Facing\",\"Facing\",\"Facing\",\"Facing\",\"Facing\",\"Facing\",\"Facing\",\"Facing\",\"Facing\",\"Facing\",\"Facing\",\"Facing\",\"Facing\",\"Facing\",\"Facing\",\"Facing\",\"Facing\",\"Facing\",\"Facing\",\"Facing\",\"Facing\",\"Facing\",\"Facing\",\"Facing\",\"Facing\",\"Facing\",\"Facing\",\"Facing\",\"Facing\",\"Facing\",\"Facing\",\"Facing\",\"Facing\",\"Facing\",\"Facing\",\"Facing\",\"Facing\",\"Facing\",\"Facing\",\"Facing\",\"Facing\",\"Facing\",\"Facing\",\"Facing\",\"Facing\",\"Facing\",\"Facing\",\"Facing\",\"Facing\",\"Facing\",\"Facing\",\"Facing\",\"Facing\",\"Facing\",\"Facing\",\"Facing\",\"Facing\",\"Facing\",\"Facing\",\"Facing\",\"Facing\",\"Facing\",\"Facing\",\"Facing\",\"Facing\",\"Facing\",\"Facing\",\"Facing\",\"Facing\",\"Facing\",\"Facing\",\"Facing\",\"Facing\",\"Facing\",\"Facing\",\"Facing\",\"Facing\",\"Facing\",\"Facing\",\"Facing\",\"Facing\",\"Facing\",\"Facing\",\"Facing\",\"Facing\",\"Facing\",\"Facing\",\"Facing\",\"Facing\",\"Facing\",\"Facing\",\"Facing\",\"Facing\",\"Facing\",\"Facing\",\"Facing\",\"Facing\",\"Facing\",\"Facing\",\"Facing\",\"Facing\",\"Facing\",\"Facing\",\"Facing\",\"Facing\",\"Facing\",\"Facing\",\"Facing\",\"Facing\",\"Facing\",\"Facing\",\"Facing\",\"Facing\",\"Facing\",\"Facing\",\"Facing\",\"Facing\",\"Facing\",\"Facing\",\"Facing\",\"Facing\",\"Facing\",\"Facing\",\"Facing\",\"Facing\",\"Facing\",\"Facing\",\"Facing\",\"Facing\",\"Facing\",\"Facing\",\"Facing\",\"Facing\",\"Facing\",\"Facing\",\"Facing\",\"Facing\",\"Facing\",\"Facing\",\"Facing\",\"Facing\",\"Facing\",\"Facing\",\"Facing\",\"Facing\",\"Facing\",\"Facing\",\"Facing\",\"Facing\",\"Facing\",\"Facing\",\"Facing\",\"Facing\",\"Facing\",\"Facing\",\"Facing\",\"Facing\",\"Facing\",\"Facing\",\"Facing\",\"Facing\",\"Facing\",\"Facing\",\"Facing\",\"Facing\",\"Facing\",\"Facing\",\"Facing\",\"Facing\",\"Facing\",\"Facing\",\"Facing\",\"Facing\",\"Facing\",\"Facing\",\"Facing\",\"Facing\",\"Facing\",\"Facing\",\"Facing\",\"Facing\",\"Facing\",\"Facing\",\"Facing\",\"Facing\",\"Facing\",\"Facing\",\"Facing\",\"Facing\",\"Facing\",\"Facing\",\"Facing\",\"Facing\",\"Facing\",\"Facing\",\"Facing\",\"Facing\",\"Facing\",\"Facing\",\"Facing\",\"Facing\",\"Facing\",\"Facing\",\"Facing\",\"Facing\",\"Facing\",\"Facing\",\"Facing\",\"Facing\",\"Facing\",\"Facing\",\"Facing\",\"Facing\",\"Facing\",\"Facing\",\"Facing\",\"Facing\",\"Facing\",\"Facing\",\"Facing\",\"Facing\",\"Facing\",\"Facing\",\"Facing\",\"Facing\",\"Facing\",\"Facing\",\"Facing\",\"Facing\",\"Facing\",\"Facing\",\"Facing\",\"Facing\",\"Facing\",\"Facing\",\"Facing\",\"Facing\",\"Facing\",\"Facing\",\"Facing\",\"Facing\",\"Facing\",\"Facing\",\"Facing\",\"Facing\",\"Facing\",\"Facing\",\"Facing\",\"Facing\",\"Facing\",\"Facing\",\"Facing\",\"Facing\",\"Facing\",\"Facing\",\"Facing\",\"Facing\",\"Facing\",\"Facing\",\"Facing\",\"Facing\",\"Facing\",\"Facing\",\"Facing\",\"Facing\",\"Facing\",\"Facing\",\"Facing\",\"Facing\",\"Facing\",\"Facing\",\"Facing\",\"Facing\",\"Facing\",\"Facing\",\"Facing\",\"Facing\",\"Facing\",\"Facing\",\"Facing\",\"Facing\",\"Facing\",\"Facing\",\"Facing\",\"Facing\",\"Facing\",\"Facing\",\"Facing\",\"Facing\",\"Facing\",\"Facing\",\"Facing\",\"Facing\",\"Facing\",\"Facing\",\"Facing\",\"Facing\",\"Facing\",\"Facing\",\"Facing\",\"Facing\",\"Facing\",\"Facing\",\"Facing\",\"Facing\",\"Facing\",\"Facing\",\"Facing\",\"Facing\",\"Facing\",\"Facing\",\"Facing\",\"Facing\",\"Facing\",\"Facing\",\"Facing\",\"Facing\",\"Facing\",\"Facing\",\"Facing\",\"Facing\",\"Facing\",\"Facing\",\"Facing\",\"Facing\",\"Facing\",\"Facing\",\"Facing\",\"Facing\",\"Facing\",\"Facing\",\"Facing\",\"Facing\",\"Facing\",\"Facing\",\"Facing\",\"Facing\",\"Facing\",\"Facing\",\"Facing\",\"Facing\",\"Facing\",\"Facing\",\"Facing\",\"Facing\",\"Facing\",\"Facing\",\"Facing\",\"Facing\",\"Facing\",\"Facing\",\"Facing\",\"Facing\",\"Facing\",\"Facing\",\"Facing\",\"Facing\",\"Facing\",\"Facing\",\"Facing\",\"Facing\",\"Facing\",\"Facing\",\"Facing\",\"Facing\",\"Facing\",\"Facing\",\"Facing\",\"Facing\",\"Facing\",\"Facing\",\"Facing\",\"Facing\",\"Facing\",\"Facing\",\"Facing\",\"Facing\",\"Facing\",\"Facing\",\"Facing\",\"Facing\",\"Facing\",\"Facing\",\"Facing\",\"Facing\",\"Facing\",\"Facing\",\"Facing\",\"Facing\",\"Facing\",\"Facing\",\"Facing\",\"Facing\",\"Facing\",\"Facing\",\"Facing\",\"Facing\",\"Facing\",\"Facing\",\"Facing\",\"Facing\",\"Facing\",\"Facing\",\"Facing\",\"Facing\",\"Facing\",\"Facing\",\"Facing\",\"Facing\",\"Facing\",\"Facing\",\"Facing\",\"Facing\",\"Facing\",\"Facing\",\"Facing\",\"Facing\",\"Facing\",\"Facing\",\"Facing\",\"Facing\",\"Facing\",\"Facing\",\"Facing\",\"Facing\",\"Facing\",\"Facing\",\"Facing\",\"Facing\",\"Facing\",\"Facing\",\"Facing\",\"Facing\",\"Facing\",\"Facing\",\"Facing\",\"Facing\",\"Facing\",\"Facing\",\"Facing\",\"Facing\",\"Facing\",\"Facing\",\"Facing\",\"Facing\",\"Facing\",\"Facing\",\"Facing\",\"Facing\",\"Facing\",\"Facing\",\"Facing\",\"Facing\",\"Facing\",\"Facing\",\"Facing\",\"Facing\",\"Facing\",\"Facing\",\"Facing\",\"Facing\",\"Facing\",\"Facing\",\"Facing\",\"Facing\",\"Facing\",\"Facing\",\"Facing\",\"Facing\",\"Facing\",\"Facing\",\"Facing\",\"Facing\",\"Facing\",\"Facing\",\"Facing\",\"Facing\",\"Facing\",\"Facing\",\"Facing\",\"Facing\",\"Facing\",\"Facing\",\"Facing\",\"Facing\",\"Facing\",\"Facing\",\"Facing\",\"Facing\",\"Facing\",\"Facing\",\"Facing\",\"Facing\",\"Facing\",\"Facing\",\"Facing\",\"Facing\",\"Facing\",\"Facing\",\"Facing\",\"Facing\",\"Facing\",\"Facing\",\"Facing\",\"Facing\",\"Facing\",\"Facing\",\"Facing\",\"Facing\",\"Facing\",\"Facing\",\"Facing\",\"Facing\",\"Facing\",\"Facing\",\"Facing\",\"Facing\",\"Facing\",\"Facing\",\"Facing\",\"Facing\",\"Facing\",\"Facing\",\"Facing\",\"Facing\",\"Facing\",\"Facing\",\"Facing\",\"Facing\",\"Facing\",\"Facing\",\"Facing\",\"Facing\",\"Facing\",\"Facing\",\"Facing\",\"Facing\",\"Facing\",\"Facing\",\"Facing\",\"Facing\",\"Facing\",\"Facing\",\"Facing\",\"Facing\",\"Facing\",\"Facing\",\"Facing\",\"Facing\",\"Facing\",\"Facing\",\"Facing\",\"Facing\",\"Facing\",\"Facing\",\"Facing\",\"Facing\",\"Facing\",\"Facing\",\"Facing\",\"Facing\",\"Facing\",\"Facing\",\"Facing\",\"Facing\",\"Facing\",\"Facing\",\"Facing\",\"Facing\",\"Facing\",\"Facing\",\"Facing\",\"Facing\",\"Facing\",\"Facing\",\"Facing\",\"Facing\",\"Facing\",\"Facing\",\"Facing\",\"Facing\",\"Facing\",\"Facing\",\"Facing\",\"Facing\",\"Facing\",\"Facing\",\"Facing\",\"Facing\",\"Facing\",\"Facing\",\"Facing\",\"Facing\",\"Facing\",\"Facing\",\"Facing\",\"Facing\",\"Facing\",\"Facing\",\"Facing\",\"Facing\",\"Facing\",\"Facing\",\"Facing\",\"Facing\",\"Facing\",\"Facing\",\"Facing\",\"Facing\",\"Facing\",\"Facing\",\"Facing\",\"Facing\",\"Facing\",\"Facing\",\"Facing\",\"Facing\",\"Facing\",\"Facing\",\"Facing\",\"Facing\",\"Facing\",\"Facing\",\"Facing\",\"Facing\",\"Facing\",\"Facing\",\"Facing\",\"Facing\",\"Facing\",\"Facing\",\"Facing\",\"Facing\",\"Facing\",\"Facing\",\"Facing\",\"Facing\",\"Facing\",\"Facing\",\"Facing\",\"Facing\",\"Facing\",\"Facing\",\"Facing\",\"Facing\",\"Facing\",\"Facing\",\"Facing\",\"Facing\",\"Facing\",\"Facing\",\"Facing\",\"Facing\",\"Facing\",\"Facing\",\"Facing\",\"Facing\",\"Facing\",\"Facing\",\"Facing\",\"Facing\",\"Facing\",\"Facing\",\"Facing\",\"Facing\",\"Facing\",\"Facing\",\"Facing\",\"Facing\",\"Facing\",\"Facing\",\"Facing\",\"Facing\",\"Facing\",\"Facing\",\"Facing\",\"Facing\",\"Facing\",\"Facing\",\"Facing\",\"Facing\",\"Facing\",\"Facing\",\"Facing\",\"Facing\",\"Facing\",\"Facing\",\"Facing\",\"Facing\",\"Facing\",\"Facing\",\"Facing\",\"Facing\",\"Facing\",\"Facing\",\"Facing\",\"Facing\",\"Facing\",\"Facing\",\"Facing\",\"Facing\",\"Facing\",\"Facing\",\"Facing\",\"Facing\",\"Facing\",\"Facing\",\"Facing\",\"Facing\",\"Facing\",\"Facing\",\"Facing\",\"Facing\",\"Facing\",\"Facing\",\"Facing\",\"Facing\",\"Facing\",\"Facing\",\"Facing\",\"Facing\",\"Facing\",\"Facing\",\"Facing\",\"Facing\",\"Facing\",\"Facing\",\"Facing\",\"Facing\",\"Facing\",\"Facing\",\"Facing\",\"Facing\",\"Facing\",\"Facing\",\"Facing\",\"Facing\",\"Facing\",\"Facing\",\"Facing\",\"Facing\",\"Facing\",\"Facing\",\"Facing\",\"Facing\",\"Facing\",\"Facing\",\"Facing\",\"Facing\",\"Facing\",\"Facing\",\"Facing\",\"Facing\",\"Facing\",\"Facing\",\"Facing\",\"Facing\",\"Facing\",\"Facing\",\"Facing\",\"Facing\",\"Facing\",\"Facing\",\"Facing\",\"Facing\",\"Facing\",\"Facing\",\"Facing\",\"Facing\",\"Facing\",\"Facing\",\"Facing\",\"Facing\",\"Facing\",\"Facing\",\"Facing\",\"Facing\",\"Facing\",\"Facing\",\"Facing\",\"Facing\",\"Facing\",\"Facing\",\"Facing\",\"Facing\",\"Facing\",\"Facing\",\"Facing\",\"Facing\",\"Facing\",\"Facing\",\"Facing\",\"Facing\",\"Facing\",\"Facing\",\"Facing\",\"Facing\",\"Facing\",\"Facing\",\"Facing\",\"Facing\",\"Facing\",\"Facing\",\"Facing\",\"Facing\",\"Facing\",\"Facing\",\"Facing\",\"Facing\",\"Facing\",\"Facing\",\"Facing\",\"Facing\",\"Facing\",\"Facing\",\"Facing\",\"Facing\",\"Facing\",\"Facing\",\"Facing\",\"Facing\",\"Facing\",\"Facing\",\"Facing\",\"Facing\",\"Facing\",\"Facing\",\"Facing\",\"Facing\",\"Facing\",\"Facing\",\"Facing\",\"Facing\",\"Facing\",\"Facing\",\"Facing\",\"Facing\",\"Facing\",\"Facing\",\"Facing\",\"Facing\",\"Facing\",\"Facing\",\"Facing\",\"Facing\",\"Facing\",\"Facing\",\"Facing\",\"Facing\",\"Facing\",\"Facing\",\"Facing\",\"Facing\",\"Facing\",\"Facing\",\"Facing\",\"Facing\",\"Facing\",\"Facing\",\"Facing\",\"Facing\",\"Facing\",\"Facing\",\"Facing\",\"Facing\",\"Facing\",\"Facing\",\"Facing\",\"Facing\",\"Facing\",\"Facing\",\"Facing\",\"Facing\",\"Facing\",\"Facing\",\"Facing\",\"Facing\",\"Facing\",\"Facing\",\"Facing\",\"Facing\",\"Facing\",\"Facing\",\"Facing\",\"Facing\",\"Facing\",\"Facing\",\"Facing\",\"Facing\",\"Facing\",\"Facing\",\"Facing\",\"Facing\",\"Facing\",\"Facing\",\"Facing\",\"Facing\",\"Facing\",\"Facing\",\"Facing\",\"Facing\",\"Facing\",\"Facing\",\"Facing\",\"Facing\",\"Facing\",\"Facing\",\"Facing\",\"Facing\",\"Facing\",\"Facing\",\"Facing\",\"Facing\",\"Facing\",\"Facing\",\"Facing\",\"Facing\",\"Facing\",\"Facing\",\"Facing\",\"Facing\",\"Facing\",\"Facing\",\"Facing\",\"Facing\",\"Facing\",\"Facing\",\"Facing\",\"Facing\",\"Facing\",\"Facing\",\"Facing\",\"Facing\",\"Facing\",\"Facing\",\"Facing\",\"Facing\",\"Facing\",\"Facing\",\"Facing\",\"Facing\",\"Facing\",\"Facing\",\"Facing\",\"Facing\",\"Facing\",\"Facing\",\"Facing\",\"Facing\",\"Facing\",\"Facing\",\"Facing\",\"Facing\",\"Type\",\"Type\",\"Type\",\"Type\",\"Type\",\"Type\",\"Type\",\"Type\",\"Type\",\"Type\",\"Type\",\"Type\",\"Type\",\"Type\",\"Type\",\"Type\",\"Type\",\"Type\",\"Type\",\"Type\",\"Type\",\"Type\",\"Type\",\"Type\",\"Type\",\"Type\",\"Type\",\"Type\",\"Type\",\"Type\",\"Type\",\"Type\",\"Type\",\"Type\",\"Type\",\"Type\",\"Type\",\"Type\",\"Type\",\"Type\",\"Type\",\"Type\",\"Type\",\"Type\",\"Type\",\"Type\",\"Type\",\"Type\",\"Type\",\"Type\",\"Type\",\"Type\",\"Type\",\"Type\",\"Type\",\"Type\",\"Type\",\"Type\",\"Type\",\"Type\",\"Type\",\"Type\",\"Type\",\"Type\",\"Type\",\"Type\",\"Type\",\"Type\",\"Type\",\"Type\",\"Type\",\"Type\",\"Type\",\"Type\",\"Type\",\"Type\",\"Type\",\"Type\",\"Type\",\"Type\",\"Type\",\"Type\",\"Type\",\"Type\",\"Type\",\"Type\",\"Type\",\"Type\",\"Type\",\"Type\",\"Type\",\"Type\",\"Type\",\"Type\",\"Type\",\"Type\",\"Type\",\"Type\",\"Type\",\"Type\",\"Type\",\"Type\",\"Type\",\"Type\",\"Type\",\"Type\",\"Type\",\"Type\",\"Type\",\"Type\",\"Type\",\"Type\",\"Type\",\"Type\",\"Type\",\"Type\",\"Type\",\"Type\",\"Type\",\"Type\",\"Type\",\"Type\",\"Type\",\"Type\",\"Type\",\"Type\",\"Type\",\"Type\",\"Type\",\"Type\",\"Type\",\"Type\",\"Type\",\"Type\",\"Type\",\"Type\",\"Type\",\"Type\",\"Type\",\"Type\",\"Type\",\"Type\",\"Type\",\"Type\",\"Type\",\"Type\",\"Type\",\"Type\",\"Type\",\"Type\",\"Type\",\"Type\",\"Type\",\"Type\",\"Type\",\"Type\",\"Type\",\"Type\",\"Type\",\"Type\",\"Type\",\"Type\",\"Type\",\"Type\",\"Type\",\"Type\",\"Type\",\"Type\",\"Type\",\"Type\",\"Type\",\"Type\",\"Type\",\"Type\",\"Type\",\"Type\",\"Type\",\"Type\",\"Type\",\"Type\",\"Type\",\"Type\",\"Type\",\"Type\",\"Type\",\"Type\",\"Type\",\"Type\",\"Type\",\"Type\",\"Type\",\"Type\",\"Type\",\"Type\",\"Type\",\"Type\",\"Type\",\"Type\",\"Type\",\"Type\",\"Type\",\"Type\",\"Type\",\"Type\",\"Type\",\"Type\",\"Type\",\"Type\",\"Type\",\"Type\",\"Type\",\"Type\",\"Type\",\"Type\",\"Type\",\"Type\",\"Type\",\"Type\",\"Type\",\"Type\",\"Type\",\"Type\",\"Type\",\"Type\",\"Type\",\"Type\",\"Type\",\"Type\",\"Type\",\"Type\",\"Type\",\"Type\",\"Type\",\"Type\",\"Type\",\"Type\",\"Type\",\"Type\",\"Type\",\"Type\",\"Type\",\"Type\",\"Type\",\"Type\",\"Type\",\"Type\",\"Type\",\"Type\",\"Type\",\"Type\",\"Type\",\"Type\",\"Type\",\"Type\",\"Type\",\"Type\",\"Type\",\"Type\",\"Type\",\"Type\",\"Type\",\"Type\",\"Type\",\"Type\",\"Type\",\"Type\",\"Type\",\"Type\",\"Type\",\"Type\",\"Type\",\"Type\",\"Type\",\"Type\",\"Type\",\"Type\",\"Type\",\"Type\",\"Type\",\"Type\",\"Type\",\"Type\",\"Type\",\"Type\",\"Type\",\"Type\",\"Type\",\"Type\",\"Type\",\"Type\",\"Type\",\"Type\",\"Type\",\"Type\",\"Type\",\"Type\",\"Type\",\"Type\",\"Type\",\"Type\",\"Type\",\"Type\",\"Type\",\"Type\",\"Type\",\"Type\",\"Type\",\"Type\",\"Type\",\"Type\",\"Type\",\"Type\",\"Type\",\"Type\",\"Type\",\"Type\",\"Type\",\"Type\",\"Type\",\"Type\",\"Type\",\"Type\",\"Type\",\"Type\",\"Type\",\"Type\",\"Type\",\"Type\",\"Type\",\"Type\",\"Type\",\"Type\",\"Type\",\"Type\",\"Type\",\"Type\",\"Type\",\"Type\",\"Type\",\"Type\",\"Type\",\"Type\",\"Type\",\"Type\",\"Type\",\"Type\",\"Type\",\"Type\",\"Type\",\"Type\",\"Type\",\"Type\",\"Type\",\"Type\",\"Type\",\"Type\",\"Type\",\"Type\",\"Type\",\"Type\",\"Type\",\"Type\",\"Type\",\"Type\",\"Type\",\"Type\",\"Type\",\"Type\",\"Type\",\"Type\",\"Type\",\"Type\",\"Type\",\"Type\",\"Type\",\"Type\",\"Type\",\"Type\",\"Type\",\"Type\",\"Type\",\"Type\",\"Type\",\"Type\",\"Type\",\"Type\",\"Type\",\"Type\",\"Type\",\"Type\",\"Type\",\"Type\",\"Type\",\"Type\",\"Type\",\"Type\",\"Type\",\"Type\",\"Type\",\"Type\",\"Type\",\"Type\",\"Type\",\"Type\",\"Type\",\"Type\",\"Type\",\"Type\",\"Type\",\"Type\",\"Type\",\"Type\",\"Type\",\"Type\",\"Type\",\"Type\",\"Type\",\"Type\",\"Type\",\"Type\",\"Type\",\"Type\",\"Type\",\"Type\",\"Type\",\"Type\",\"Type\",\"Type\",\"Type\",\"Type\",\"Type\",\"Type\",\"Type\",\"Type\",\"Type\",\"Type\",\"Type\",\"Type\",\"Type\",\"Type\",\"Type\",\"Type\",\"Type\",\"Type\",\"Type\",\"Type\",\"Type\",\"Type\",\"Type\",\"Type\",\"Type\",\"Type\",\"Type\",\"Type\",\"Type\",\"Type\",\"Type\",\"Type\",\"Type\",\"Type\",\"Type\",\"Type\",\"Type\",\"Type\",\"Type\",\"Type\",\"Type\",\"Type\",\"Type\",\"Type\",\"Type\",\"Type\",\"Type\",\"Type\",\"Type\",\"Type\",\"Type\",\"Type\",\"Type\",\"Type\",\"Type\",\"Type\",\"Type\",\"Type\",\"Type\",\"Type\",\"Type\",\"Type\",\"Type\",\"Type\",\"Type\",\"Type\",\"Type\",\"Type\",\"Type\",\"Type\",\"Type\",\"Type\",\"Type\",\"Type\",\"Type\",\"Type\",\"Type\",\"Type\",\"Type\",\"Type\",\"Type\",\"Type\",\"Type\",\"Type\",\"Type\",\"Type\",\"Type\",\"Type\",\"Type\",\"Type\",\"Type\",\"Type\",\"Type\",\"Type\",\"Type\",\"Type\",\"Type\",\"Type\",\"Type\",\"Type\",\"Type\",\"Type\",\"Type\",\"Type\",\"Type\",\"Type\",\"Type\",\"Type\",\"Type\",\"Type\",\"Type\",\"Type\",\"Type\",\"Type\",\"Type\",\"Type\",\"Type\",\"Type\",\"Type\",\"Type\",\"Type\",\"Type\",\"Type\",\"Type\",\"Type\",\"Type\",\"Type\",\"Type\",\"Type\",\"Type\",\"Type\",\"Type\",\"Type\",\"Type\",\"Type\",\"Type\",\"Type\",\"Type\",\"Type\",\"Type\",\"Type\",\"Type\",\"Type\",\"Type\",\"Type\",\"Type\",\"Type\",\"Type\",\"Type\",\"Type\",\"Type\",\"Type\",\"Type\",\"Type\",\"Type\",\"Type\",\"Type\",\"Type\",\"Type\",\"Type\",\"Type\",\"Type\",\"Type\",\"Type\",\"Type\",\"Type\",\"Type\",\"Type\",\"Type\",\"Type\",\"Type\",\"Type\",\"Type\",\"Type\",\"Type\",\"Type\",\"Type\",\"Type\",\"Type\",\"Type\",\"Type\",\"Type\",\"Type\",\"Type\",\"Type\",\"Type\",\"Type\",\"Type\",\"Type\",\"Type\",\"Type\",\"Type\",\"Type\",\"Type\",\"Type\",\"Type\",\"Type\",\"Type\",\"Type\",\"Type\",\"Type\",\"Type\",\"Type\",\"Type\",\"Type\",\"Type\",\"Type\",\"Type\",\"Type\",\"Type\",\"Type\",\"Type\",\"Type\",\"Type\",\"Type\",\"Type\",\"Type\",\"Type\",\"Type\",\"Type\",\"Type\",\"Type\",\"Type\",\"Type\",\"Type\",\"Type\",\"Type\",\"Type\",\"Type\",\"Type\",\"Type\",\"Type\",\"Type\",\"Type\",\"Type\",\"Type\",\"Type\",\"Type\",\"Type\",\"Type\",\"Type\",\"Type\",\"Type\",\"Type\",\"Type\",\"Type\",\"Type\",\"Type\",\"Type\",\"Type\",\"Type\",\"Type\",\"Type\",\"Type\",\"Type\",\"Type\",\"Type\",\"Type\",\"Type\",\"Type\",\"Type\",\"Type\",\"Type\",\"Type\",\"Type\",\"Type\",\"Type\",\"Type\",\"Type\",\"Type\",\"Type\",\"Type\",\"Type\",\"Type\",\"Type\",\"Type\",\"Type\",\"Type\",\"Type\",\"Type\",\"Type\",\"Type\",\"Type\",\"Type\",\"Type\",\"Type\",\"Type\",\"Type\",\"Type\",\"Type\",\"Type\",\"Type\",\"Type\",\"Type\",\"Type\",\"Type\",\"Type\",\"Type\",\"Type\",\"Type\",\"Type\",\"Type\",\"Type\",\"Type\",\"Type\",\"Type\",\"Type\",\"Type\",\"Type\",\"Type\",\"Type\",\"Type\",\"Type\",\"Type\",\"Type\",\"Type\",\"Type\",\"Type\",\"Type\",\"Type\",\"Type\",\"Type\",\"Type\",\"Type\",\"Type\",\"Type\",\"Type\",\"Type\",\"Type\",\"Type\",\"Type\",\"Type\",\"Type\",\"Type\",\"Type\",\"Type\",\"Type\",\"Type\",\"Type\",\"Type\",\"Type\",\"Type\",\"Type\",\"Type\",\"Type\",\"Type\",\"Type\",\"Type\",\"Type\",\"Type\",\"Type\",\"Type\",\"Type\",\"Type\",\"Type\",\"Type\",\"Type\",\"Type\",\"Type\",\"Type\",\"Type\",\"Type\",\"Type\",\"Type\",\"Type\",\"Type\",\"Type\",\"Type\",\"Type\",\"Type\",\"Type\",\"Type\",\"Type\",\"Type\",\"Type\",\"Type\",\"Type\",\"Type\",\"Type\",\"Type\",\"Type\",\"Type\",\"Type\",\"Type\",\"Type\",\"Type\",\"Type\",\"Type\",\"Type\",\"Type\",\"Type\",\"Type\",\"Type\",\"Type\",\"Type\",\"Type\",\"Type\",\"Type\",\"Type\",\"Type\",\"Type\",\"Type\",\"Type\",\"Type\",\"Type\",\"Type\",\"Type\",\"Type\",\"Type\",\"Type\",\"Type\",\"Type\",\"Type\",\"Type\",\"Type\",\"Type\",\"Type\",\"Type\",\"Type\",\"Type\",\"Type\",\"Type\",\"Type\",\"Type\",\"Type\",\"Type\",\"Type\",\"Type\",\"Type\",\"Type\",\"Type\",\"Type\",\"Type\",\"Type\",\"Type\",\"Type\",\"Type\",\"Type\",\"Type\",\"Type\",\"Type\",\"Type\",\"Type\",\"Type\",\"Type\",\"Type\",\"Type\",\"Type\",\"Type\",\"Type\",\"Type\",\"Type\",\"Type\",\"Type\",\"Type\",\"Type\",\"Type\",\"Type\",\"Type\",\"Type\",\"Type\",\"Type\",\"Type\",\"Type\",\"Type\",\"Type\",\"Type\",\"Type\",\"Type\",\"Type\",\"Type\",\"Type\",\"Type\",\"Type\",\"Type\",\"Type\",\"Type\",\"Type\",\"Type\",\"Type\",\"Type\",\"Type\",\"Type\",\"Type\",\"Type\",\"Type\",\"Type\",\"Type\",\"Type\",\"Type\",\"Type\",\"Type\",\"Type\",\"Type\",\"Type\",\"Type\",\"Type\",\"Type\",\"Type\",\"Type\",\"Type\",\"Type\",\"Type\",\"Type\",\"Type\",\"Type\",\"Type\",\"Type\",\"Type\",\"Type\",\"Type\",\"Type\",\"Type\",\"Type\",\"Type\",\"Type\",\"Type\",\"Type\",\"Type\",\"Type\",\"Type\",\"Type\",\"Type\",\"Type\",\"Type\",\"Type\",\"Type\",\"Type\",\"Type\",\"Type\",\"Type\",\"Type\",\"Type\",\"Type\",\"Type\",\"Type\",\"Type\",\"Type\",\"Type\",\"Type\",\"Type\",\"Type\",\"Type\",\"Type\",\"Type\",\"Type\",\"Type\",\"Type\",\"Type\",\"Type\",\"Type\",\"Type\",\"Type\",\"Type\",\"Type\",\"Type\",\"Type\",\"Type\",\"Type\",\"Type\",\"Type\",\"Type\",\"Type\",\"Type\",\"Type\",\"Type\",\"Type\",\"Type\",\"Type\",\"Type\",\"Type\",\"Type\",\"Type\",\"Type\",\"Type\",\"Type\",\"Type\"],\"x0\":\" \",\"xaxis\":\"x\",\"y\":[3.0,2.0,3.0,2.0,3.0,3.0,5.0,5.0,4.0,2.0,0.0,8.0,3.0,3.0,0.0,3.0,0.0,0.0,3.0,0.0,2.0,3.0,2.0,3.0,3.0,0.0,0.0,0.0,0.0,0.0,0.0,4.0,0.0,3.0,5.0,0.0,2.0,0.0,0.0,0.0,0.0,0.0,0.0,0.0,3.0,0.0,3.0,3.0,5.0,0.0,0.0,0.0,0.0,0.0,0.0,0.0,3.0,2.0,0.0,0.0,0.0,0.0,0.0,3.0,0.0,3.0,5.0,0.0,0.0,0.0,0.0,0.0,0.0,2.0,0.0,0.0,0.0,3.0,0.0,0.0,2.0,2.0,3.0,2.0,3.0,3.0,3.0,2.0,2.0,3.0,2.0,2.0,3.0,2.0,0.0,0.0,0.0,3.0,2.0,3.0,2.0,2.0,5.0,5.0,3.0,3.0,3.0,3.0,3.0,3.0,3.0,3.0,3.0,3.0,3.0,3.0,3.0,3.0,3.0,3.0,0.0,0.0,0.0,0.0,0.0,0.0,3.0,3.0,0.0,0.0,0.0,0.0,0.0,0.0,0.0,0.0,0.0,0.0,0.0,0.0,0.0,0.0,0.0,0.0,0.0,0.0,0.0,0.0,0.0,0.0,0.0,0.0,2.0,0.0,0.0,0.0,0.0,0.0,0.0,0.0,0.0,0.0,0.0,0.0,0.0,0.0,0.0,0.0,0.0,0.0,0.0,0.0,0.0,0.0,0.0,0.0,0.0,0.0,0.0,0.0,0.0,0.0,0.0,0.0,0.0,0.0,0.0,0.0,0.0,0.0,0.0,0.0,0.0,0.0,0.0,0.0,0.0,0.0,0.0,0.0,0.0,0.0,0.0,4.0,3.0,2.0,0.0,0.0,0.0,0.0,0.0,0.0,0.0,3.0,3.0,3.0,3.0,3.0,3.0,3.0,2.0,2.0,3.0,3.0,3.0,3.0,3.0,3.0,2.0,2.0,4.0,3.0,3.0,3.0,3.0,3.0,3.0,3.0,3.0,3.0,3.0,3.0,3.0,3.0,3.0,3.0,3.0,3.0,3.0,2.0,2.0,2.0,2.0,2.0,2.0,2.0,2.0,2.0,2.0,2.0,3.0,2.0,3.0,2.0,2.0,3.0,0.0,3.0,4.0,3.0,2.0,2.0,2.0,2.0,2.0,3.0,4.0,2.0,2.0,3.0,2.0,3.0,3.0,3.0,2.0,2.0,3.0,2.0,2.0,2.0,2.0,2.0,2.0,3.0,3.0,2.0,2.0,2.0,0.0,0.0,0.0,0.0,0.0,0.0,0.0,0.0,0.0,0.0,0.0,0.0,0.0,0.0,0.0,0.0,0.0,0.0,0.0,0.0,0.0,0.0,0.0,0.0,0.0,0.0,0.0,0.0,0.0,0.0,0.0,0.0,0.0,0.0,0.0,0.0,0.0,0.0,0.0,0.0,0.0,0.0,0.0,0.0,0.0,0.0,0.0,0.0,0.0,0.0,0.0,0.0,0.0,0.0,0.0,0.0,0.0,0.0,0.0,0.0,0.0,0.0,0.0,0.0,0.0,0.0,0.0,0.0,0.0,0.0,0.0,0.0,0.0,0.0,0.0,0.0,0.0,0.0,0.0,0.0,0.0,0.0,0.0,0.0,0.0,0.0,0.0,0.0,0.0,0.0,0.0,0.0,0.0,0.0,0.0,0.0,0.0,0.0,0.0,0.0,0.0,0.0,0.0,0.0,0.0,0.0,0.0,0.0,0.0,0.0,0.0,0.0,0.0,0.0,0.0,0.0,0.0,0.0,0.0,0.0,0.0,0.0,0.0,0.0,0.0,0.0,0.0,0.0,0.0,0.0,0.0,0.0,0.0,0.0,0.0,0.0,0.0,0.0,0.0,0.0,0.0,0.0,0.0,0.0,0.0,0.0,0.0,0.0,0.0,0.0,0.0,0.0,0.0,0.0,0.0,0.0,0.0,0.0,0.0,0.0,0.0,0.0,0.0,0.0,0.0,0.0,0.0,0.0,0.0,0.0,0.0,0.0,0.0,0.0,0.0,0.0,0.0,0.0,0.0,0.0,0.0,0.0,0.0,0.0,0.0,0.0,0.0,0.0,0.0,0.0,0.0,0.0,0.0,0.0,0.0,0.0,0.0,0.0,0.0,0.0,0.0,0.0,0.0,0.0,0.0,0.0,0.0,0.0,0.0,0.0,0.0,0.0,0.0,0.0,0.0,0.0,0.0,0.0,0.0,0.0,0.0,0.0,0.0,0.0,0.0,0.0,0.0,0.0,0.0,0.0,0.0,0.0,0.0,0.0,0.0,0.0,0.0,0.0,2.0,2.0,4.0,3.0,3.0,2.0,4.0,3.0,3.0,2.0,3.0,3.0,2.0,3.0,2.0,2.0,2.0,3.0,2.0,3.0,0.0,0.0,0.0,0.0,0.0,0.0,0.0,0.0,0.0,0.0,0.0,0.0,0.0,0.0,0.0,0.0,0.0,0.0,0.0,0.0,0.0,0.0,0.0,0.0,0.0,0.0,0.0,0.0,0.0,0.0,0.0,0.0,0.0,0.0,0.0,0.0,0.0,0.0,0.0,0.0,0.0,0.0,0.0,0.0,0.0,0.0,0.0,0.0,0.0,0.0,0.0,0.0,0.0,0.0,0.0,0.0,0.0,0.0,0.0,0.0,0.0,0.0,0.0,0.0,0.0,0.0,0.0,0.0,0.0,0.0,0.0,0.0,0.0,0.0,0.0,0.0,0.0,0.0,0.0,0.0,0.0,0.0,0.0,0.0,0.0,0.0,0.0,0.0,0.0,0.0,0.0,0.0,0.0,0.0,0.0,0.0,0.0,0.0,0.0,0.0,0.0,0.0,0.0,0.0,0.0,0.0,0.0,0.0,0.0,0.0,0.0,0.0,0.0,0.0,0.0,0.0,0.0,0.0,0.0,0.0,0.0,0.0,0.0,0.0,0.0,0.0,0.0,0.0,0.0,0.0,0.0,0.0,0.0,0.0,0.0,0.0,0.0,0.0,0.0,0.0,0.0,0.0,0.0,0.0,0.0,0.0,0.0,0.0,0.0,0.0,0.0,0.0,0.0,0.0,0.0,0.0,0.0,0.0,0.0,0.0,0.0,0.0,2.0,2.0,3.0,1.0,2.0,2.0,3.0,2.0,2.0,3.0,2.0,4.0,0.0,0.0,0.0,0.0,0.0,0.0,0.0,0.0,0.0,0.0,0.0,0.0,0.0,0.0,0.0,0.0,0.0,0.0,0.0,0.0,0.0,0.0,0.0,0.0,0.0,0.0,0.0,0.0,0.0,0.0,0.0,0.0,0.0,0.0,0.0,0.0,0.0,0.0,0.0,0.0,0.0,0.0,0.0,0.0,0.0,0.0,0.0,0.0,0.0,0.0,0.0,0.0,0.0,0.0,0.0,0.0,0.0,0.0,0.0,0.0,0.0,0.0,0.0,0.0,0.0,0.0,0.0,0.0,0.0,0.0,0.0,0.0,0.0,0.0,0.0,0.0,0.0,0.0,0.0,0.0,0.0,0.0,0.0,0.0,0.0,0.0,0.0,0.0,0.0,0.0,0.0,0.0,0.0,0.0,0.0,0.0,0.0,0.0,0.0,0.0,0.0,0.0,0.0,0.0,0.0,0.0,0.0,0.0,0.0,0.0,0.0,0.0,0.0,0.0,0.0,0.0,0.0,0.0,0.0,0.0,0.0,0.0,0.0,0.0,0.0,0.0,0.0,0.0,0.0,0.0,0.0,0.0,0.0,0.0,0.0,0.0,0.0,0.0,0.0,0.0,0.0,0.0,0.0,0.0,0.0,0.0,0.0,0.0,0.0,0.0,0.0,0.0,0.0,0.0,0.0,0.0,0.0,0.0,0.0,0.0,0.0,0.0,0.0,0.0,0.0,0.0,0.0,0.0,0.0,0.0,0.0,0.0,0.0,0.0,0.0,0.0,0.0,0.0,0.0,0.0,0.0,0.0,0.0,0.0,0.0,0.0,0.0,0.0,0.0,0.0,0.0,0.0,0.0,0.0,0.0,0.0,0.0,0.0,0.0,0.0,0.0,0.0,0.0,0.0,0.0,0.0,0.0,0.0,0.0,0.0,0.0,0.0,0.0,0.0,0.0,0.0,0.0,0.0,0.0,0.0,0.0,0.0,0.0,0.0,0.0,0.0,0.0,2.0,4.0,2.0,2.0,2.0,2.0,3.0,3.0,2.0,1.0,3.0,2.0,2.0,3.0,3.0,2.0,2.0,2.0,2.0,3.0,2.0,3.0,3.0,3.0,2.0,3.0,3.0,3.0,2.0,3.0,2.0,0.0,3.0,0.0,0.0,0.0,0.0,0.0,0.0,0.0,0.0,0.0,0.0,0.0,0.0,0.0,0.0,0.0,0.0,0.0,0.0,0.0,5.0,5.0,4.0,2.0,0.0,7.0,3.0,2.0,0.0,0.0,0.0,0.0,4.0,0.0,2.0,0.0,20252.0,0.0,3.0,0.0,0.0,0.0,0.0,0.0,0.0,4.0,0.0,0.0,5.0,0.0,3.0,0.0,0.0,0.0,0.0,0.0,0.0,0.0,0.0,0.0,0.0,3.0,5.0,0.0,0.0,0.0,0.0,0.0,0.0,0.0,0.0,2.0,0.0,0.0,0.0,0.0,0.0,3.0,0.0,0.0,5.0,0.0,0.0,0.0,0.0,0.0,0.0,2.0,0.0,0.0,0.0,0.0,0.0,0.0,2.0,20212.0,3.0,20232.0,3.0,3.0,4.0,2.0,20222.0,3.0,20222.0,0.0,3.0,2.0,0.0,0.0,0.0,20233.0,2.0,3.0,0.0,0.0,5.0,5.0,0.0,0.0,0.0,0.0,0.0,0.0,0.0,0.0,0.0,0.0,0.0,0.0,0.0,0.0,0.0,0.0,0.0,0.0,0.0,0.0,0.0,0.0,4.0,4.0,0.0,0.0,0.0,0.0,0.0,0.0,0.0,0.0,0.0,0.0,0.0,0.0,0.0,0.0,0.0,0.0,0.0,0.0,0.0,0.0,0.0,0.0,0.0,0.0,2.0,0.0,0.0,0.0,0.0,0.0,0.0,0.0,0.0,0.0,0.0,0.0,0.0,0.0,0.0,0.0,0.0,0.0,0.0,0.0,0.0,0.0,0.0,0.0,0.0,0.0,0.0,0.0,0.0,0.0,0.0,0.0,0.0,0.0,0.0,0.0,0.0,0.0,0.0,0.0,0.0,0.0,0.0,0.0,0.0,0.0,0.0,0.0,0.0,0.0,0.0,5.0,3.0,2.0,0.0,0.0,0.0,0.0,0.0,0.0,0.0,3.0,3.0,3.0,3.0,3.0,3.0,3.0,2.0,2.0,3.0,3.0,3.0,3.0,3.0,3.0,2.0,2.0,4.0,3.0,3.0,3.0,3.0,3.0,3.0,3.0,3.0,3.0,3.0,3.0,3.0,3.0,3.0,3.0,20242.0,3.0,3.0,2.0,2.0,20222.0,20222.0,20222.0,20222.0,20222.0,2.0,20222.0,2.0,20232.0,3.0,0.0,3.0,2.0,20232.0,20233.0,0.0,3.0,4.0,20233.0,2.0,20232.0,2.0,20232.0,2.0,3.0,4.0,2.0,2.0,3.0,3.0,3.0,2.0,3.0,2.0,2.0,3.0,2.0,2.0,20212.0,20232.0,20232.0,20232.0,3.0,3.0,20232.0,20222.0,20222.0,0.0,0.0,0.0,0.0,0.0,0.0,0.0,0.0,0.0,0.0,0.0,0.0,0.0,0.0,0.0,0.0,0.0,0.0,0.0,0.0,0.0,0.0,0.0,0.0,0.0,0.0,0.0,0.0,0.0,0.0,0.0,0.0,0.0,0.0,0.0,0.0,0.0,0.0,0.0,0.0,0.0,0.0,0.0,0.0,0.0,0.0,0.0,0.0,0.0,0.0,0.0,0.0,0.0,0.0,0.0,0.0,0.0,0.0,0.0,0.0,0.0,0.0,0.0,0.0,0.0,0.0,0.0,0.0,0.0,0.0,0.0,0.0,0.0,0.0,0.0,0.0,0.0,0.0,0.0,0.0,0.0,0.0,0.0,0.0,0.0,0.0,0.0,0.0,0.0,0.0,0.0,0.0,0.0,0.0,0.0,0.0,0.0,0.0,0.0,0.0,0.0,0.0,0.0,0.0,0.0,0.0,0.0,0.0,0.0,0.0,0.0,0.0,0.0,0.0,0.0,0.0,0.0,0.0,0.0,0.0,0.0,0.0,0.0,0.0,0.0,0.0,0.0,0.0,0.0,0.0,0.0,0.0,0.0,0.0,0.0,0.0,0.0,0.0,0.0,0.0,0.0,0.0,0.0,0.0,0.0,0.0,0.0,0.0,0.0,0.0,0.0,0.0,0.0,0.0,0.0,0.0,0.0,0.0,0.0,0.0,0.0,0.0,0.0,0.0,0.0,0.0,0.0,0.0,0.0,0.0,0.0,0.0,0.0,0.0,0.0,0.0,0.0,0.0,0.0,0.0,0.0,0.0,0.0,0.0,0.0,0.0,0.0,0.0,0.0,0.0,0.0,0.0,0.0,0.0,0.0,0.0,0.0,0.0,0.0,0.0,0.0,0.0,0.0,0.0,0.0,0.0,0.0,0.0,0.0,0.0,0.0,0.0,0.0,0.0,0.0,0.0,0.0,0.0,0.0,0.0,0.0,0.0,0.0,0.0,0.0,0.0,0.0,0.0,0.0,0.0,0.0,0.0,0.0,0.0,0.0,0.0,0.0,0.0,2.0,20212.0,20224.0,3.0,4.0,2.0,20224.0,3.0,3.0,2.0,3.0,3.0,2.0,3.0,2.0,2.0,20202.0,3.0,2.0,3.0,0.0,0.0,0.0,0.0,0.0,0.0,0.0,0.0,0.0,0.0,0.0,0.0,0.0,0.0,0.0,0.0,0.0,0.0,0.0,0.0,0.0,0.0,0.0,0.0,0.0,0.0,0.0,0.0,0.0,0.0,0.0,0.0,0.0,0.0,0.0,0.0,0.0,0.0,0.0,0.0,0.0,0.0,0.0,0.0,0.0,0.0,0.0,0.0,0.0,0.0,0.0,0.0,0.0,0.0,0.0,0.0,0.0,0.0,0.0,0.0,0.0,0.0,0.0,0.0,0.0,0.0,0.0,0.0,0.0,0.0,0.0,0.0,0.0,0.0,0.0,0.0,0.0,0.0,0.0,0.0,0.0,0.0,0.0,0.0,0.0,0.0,0.0,0.0,0.0,0.0,0.0,0.0,0.0,0.0,0.0,0.0,0.0,0.0,0.0,0.0,0.0,0.0,0.0,0.0,0.0,0.0,0.0,0.0,0.0,0.0,0.0,0.0,0.0,0.0,0.0,0.0,0.0,0.0,0.0,0.0,0.0,0.0,0.0,0.0,0.0,0.0,0.0,0.0,0.0,0.0,0.0,0.0,0.0,0.0,0.0,0.0,0.0,0.0,0.0,0.0,0.0,0.0,0.0,0.0,0.0,0.0,0.0,0.0,0.0,0.0,0.0,0.0,0.0,0.0,0.0,0.0,0.0,0.0,0.0,0.0,0.0,0.0,2.0,2.0,2.0,1.0,2.0,2.0,3.0,20222.0,2.0,3.0,2.0,3.0,0.0,0.0,0.0,0.0,0.0,0.0,0.0,0.0,0.0,0.0,0.0,0.0,0.0,0.0,0.0,0.0,0.0,0.0,0.0,0.0,0.0,0.0,0.0,0.0,0.0,0.0,0.0,0.0,0.0,0.0,0.0,0.0,0.0,0.0,0.0,0.0,0.0,0.0,0.0,0.0,0.0,0.0,0.0,0.0,0.0,0.0,0.0,0.0,0.0,0.0,0.0,0.0,0.0,0.0,0.0,0.0,0.0,0.0,0.0,0.0,0.0,0.0,0.0,0.0,0.0,0.0,0.0,0.0,0.0,0.0,0.0,0.0,0.0,0.0,0.0,0.0,0.0,0.0,0.0,0.0,0.0,0.0,0.0,0.0,0.0,0.0,0.0,0.0,0.0,0.0,0.0,0.0,0.0,0.0,0.0,0.0,0.0,0.0,0.0,0.0,0.0,0.0,0.0,0.0,0.0,0.0,0.0,0.0,0.0,0.0,0.0,0.0,0.0,0.0,0.0,0.0,0.0,0.0,0.0,0.0,0.0,0.0,0.0,0.0,0.0,0.0,0.0,0.0,0.0,0.0,0.0,0.0,0.0,0.0,0.0,0.0,0.0,0.0,0.0,0.0,0.0,0.0,0.0,0.0,0.0,0.0,0.0,0.0,0.0,0.0,0.0,0.0,0.0,0.0,0.0,0.0,0.0,0.0,0.0,0.0,0.0,0.0,0.0,0.0,0.0,0.0,0.0,0.0,0.0,0.0,0.0,0.0,0.0,0.0,0.0,0.0,0.0,0.0,0.0,0.0,0.0,0.0,0.0,0.0,0.0,0.0,0.0,0.0,0.0,0.0,0.0,0.0,0.0,0.0,0.0,0.0,0.0,0.0,0.0,0.0,0.0,0.0,0.0,0.0,0.0,0.0,0.0,0.0,0.0,0.0,0.0,0.0,0.0,0.0,0.0,0.0,0.0,0.0,0.0,0.0,0.0,0.0,0.0,0.0,0.0,0.0,0.0,2.0,4.0,2.0,2.0,2.0,2.0,3.0,3.0,2.0,2.0,3.0,2.0,2.0,20223.0,3.0,2.0,2.0,2.0,2.0,3.0,2.0,20233.0,3.0,3.0,2.0,20233.0,3.0,3.0,2.0,3.0,2.0,0.0,3.0,0.0,0.0,0.0,0.0,0.0,0.0,0.0,0.0,0.0,0.0,0.0,0.0,0.0,1.0,1.0,1.0,1.0,1.0,1.0,1.0,3.0,1.0,1.0,2.0,1.0,3.0,3.0,2.0,3.0,0.0,0.0,1.0,0.0,3.0,1.0,3.0,3.0,1.0,0.0,0.0,0.0,0.0,0.0,0.0,1.0,0.0,1.0,3.0,0.0,1.0,0.0,0.0,0.0,0.0,0.0,0.0,0.0,3.0,0.0,1.0,1.0,3.0,0.0,0.0,0.0,0.0,0.0,0.0,0.0,3.0,1.0,0.0,0.0,0.0,0.0,0.0,1.0,0.0,1.0,3.0,0.0,0.0,0.0,0.0,0.0,0.0,1.0,0.0,0.0,0.0,1.0,0.0,0.0,1.0,3.0,1.0,3.0,1.0,1.0,3.0,1.0,3.0,1.0,3.0,3.0,1.0,1.0,0.0,0.0,0.0,3.0,1.0,1.0,1.0,1.0,3.0,3.0,3.0,3.0,3.0,3.0,3.0,3.0,3.0,3.0,3.0,3.0,3.0,3.0,3.0,3.0,3.0,3.0,0.0,0.0,0.0,0.0,0.0,0.0,3.0,3.0,0.0,0.0,0.0,0.0,0.0,0.0,0.0,0.0,0.0,0.0,0.0,0.0,0.0,0.0,0.0,0.0,0.0,0.0,0.0,0.0,0.0,0.0,0.0,0.0,3.0,0.0,0.0,0.0,0.0,0.0,0.0,0.0,0.0,0.0,0.0,0.0,0.0,0.0,0.0,0.0,0.0,0.0,0.0,0.0,0.0,0.0,0.0,0.0,0.0,0.0,0.0,0.0,0.0,0.0,0.0,0.0,0.0,0.0,0.0,0.0,0.0,0.0,0.0,0.0,0.0,0.0,0.0,0.0,0.0,0.0,0.0,0.0,0.0,0.0,0.0,1.0,1.0,1.0,0.0,0.0,0.0,0.0,0.0,0.0,0.0,1.0,1.0,1.0,1.0,1.0,1.0,1.0,1.0,1.0,1.0,1.0,1.0,1.0,1.0,1.0,1.0,1.0,1.0,1.0,1.0,1.0,1.0,1.0,1.0,1.0,1.0,1.0,1.0,1.0,1.0,1.0,1.0,1.0,3.0,1.0,1.0,1.0,1.0,3.0,3.0,3.0,3.0,3.0,1.0,3.0,1.0,3.0,1.0,3.0,1.0,1.0,3.0,3.0,0.0,1.0,1.0,3.0,1.0,3.0,1.0,3.0,1.0,1.0,1.0,1.0,1.0,1.0,1.0,1.0,1.0,1.0,1.0,1.0,1.0,1.0,1.0,3.0,3.0,3.0,3.0,1.0,1.0,3.0,3.0,3.0,0.0,0.0,0.0,0.0,0.0,0.0,0.0,0.0,0.0,0.0,0.0,0.0,0.0,0.0,0.0,0.0,0.0,0.0,0.0,0.0,0.0,0.0,0.0,0.0,0.0,0.0,0.0,0.0,0.0,0.0,0.0,0.0,0.0,0.0,0.0,0.0,0.0,0.0,0.0,0.0,0.0,0.0,0.0,0.0,0.0,0.0,0.0,0.0,0.0,0.0,0.0,0.0,0.0,0.0,0.0,0.0,0.0,0.0,0.0,0.0,0.0,0.0,0.0,0.0,0.0,0.0,0.0,0.0,0.0,0.0,0.0,0.0,0.0,0.0,0.0,0.0,0.0,0.0,0.0,0.0,0.0,0.0,0.0,0.0,0.0,0.0,0.0,0.0,0.0,0.0,0.0,0.0,0.0,0.0,0.0,0.0,0.0,0.0,0.0,0.0,0.0,0.0,0.0,0.0,0.0,0.0,0.0,0.0,0.0,0.0,0.0,0.0,0.0,0.0,0.0,0.0,0.0,0.0,0.0,0.0,0.0,0.0,0.0,0.0,0.0,0.0,0.0,0.0,0.0,0.0,0.0,0.0,0.0,0.0,0.0,0.0,0.0,0.0,0.0,0.0,0.0,0.0,0.0,0.0,0.0,0.0,0.0,0.0,0.0,0.0,0.0,0.0,0.0,0.0,0.0,0.0,0.0,0.0,0.0,0.0,0.0,0.0,0.0,0.0,0.0,0.0,0.0,0.0,0.0,0.0,0.0,0.0,0.0,0.0,0.0,0.0,0.0,0.0,0.0,0.0,0.0,0.0,0.0,0.0,0.0,0.0,0.0,0.0,0.0,0.0,0.0,0.0,0.0,0.0,0.0,0.0,0.0,0.0,0.0,0.0,0.0,0.0,0.0,0.0,0.0,0.0,0.0,0.0,0.0,0.0,0.0,0.0,0.0,0.0,0.0,0.0,0.0,0.0,0.0,0.0,0.0,0.0,0.0,0.0,0.0,0.0,0.0,0.0,0.0,0.0,0.0,0.0,0.0,0.0,0.0,0.0,0.0,0.0,1.0,3.0,3.0,1.0,1.0,1.0,3.0,1.0,1.0,1.0,1.0,1.0,1.0,1.0,1.0,1.0,3.0,1.0,1.0,1.0,0.0,0.0,0.0,0.0,0.0,0.0,2.0,0.0,0.0,0.0,0.0,0.0,0.0,0.0,0.0,0.0,0.0,0.0,0.0,0.0,0.0,0.0,0.0,0.0,0.0,0.0,0.0,2.0,0.0,0.0,0.0,0.0,0.0,0.0,0.0,0.0,0.0,0.0,0.0,0.0,0.0,0.0,0.0,0.0,0.0,0.0,0.0,0.0,0.0,0.0,0.0,0.0,0.0,0.0,0.0,0.0,0.0,0.0,0.0,0.0,0.0,0.0,0.0,0.0,0.0,0.0,0.0,0.0,0.0,0.0,0.0,0.0,0.0,0.0,0.0,0.0,0.0,0.0,0.0,0.0,0.0,0.0,0.0,0.0,0.0,0.0,0.0,0.0,0.0,0.0,0.0,0.0,0.0,0.0,0.0,0.0,0.0,0.0,0.0,0.0,0.0,0.0,0.0,0.0,0.0,0.0,0.0,0.0,0.0,0.0,0.0,0.0,0.0,0.0,0.0,0.0,0.0,0.0,0.0,0.0,0.0,0.0,0.0,0.0,0.0,0.0,0.0,0.0,0.0,0.0,0.0,0.0,0.0,0.0,0.0,0.0,0.0,0.0,0.0,0.0,0.0,2.0,0.0,2.0,0.0,0.0,0.0,0.0,0.0,0.0,0.0,0.0,0.0,0.0,0.0,0.0,0.0,0.0,0.0,0.0,0.0,0.0,1.0,1.0,1.0,1.0,1.0,1.0,1.0,3.0,1.0,1.0,1.0,1.0,0.0,2.0,0.0,0.0,0.0,0.0,0.0,0.0,0.0,0.0,0.0,0.0,0.0,0.0,0.0,0.0,0.0,0.0,0.0,0.0,0.0,0.0,0.0,0.0,0.0,0.0,0.0,0.0,0.0,0.0,0.0,0.0,0.0,0.0,0.0,0.0,0.0,0.0,0.0,0.0,0.0,0.0,0.0,0.0,0.0,0.0,0.0,0.0,0.0,0.0,0.0,0.0,0.0,0.0,0.0,0.0,0.0,0.0,0.0,0.0,0.0,0.0,0.0,0.0,0.0,0.0,0.0,0.0,0.0,0.0,0.0,0.0,0.0,0.0,0.0,0.0,0.0,0.0,0.0,0.0,0.0,0.0,0.0,0.0,0.0,0.0,0.0,0.0,0.0,0.0,0.0,0.0,0.0,0.0,0.0,0.0,0.0,0.0,0.0,0.0,0.0,0.0,0.0,0.0,0.0,0.0,0.0,0.0,0.0,0.0,0.0,0.0,0.0,0.0,0.0,0.0,0.0,0.0,0.0,0.0,0.0,0.0,0.0,0.0,0.0,0.0,0.0,0.0,0.0,0.0,0.0,0.0,0.0,0.0,0.0,0.0,0.0,0.0,0.0,0.0,0.0,0.0,0.0,0.0,0.0,0.0,0.0,0.0,0.0,0.0,0.0,0.0,0.0,0.0,0.0,0.0,0.0,0.0,0.0,0.0,0.0,0.0,0.0,0.0,0.0,0.0,0.0,0.0,0.0,0.0,0.0,0.0,0.0,0.0,0.0,0.0,0.0,0.0,0.0,0.0,0.0,0.0,0.0,0.0,0.0,0.0,0.0,0.0,0.0,0.0,0.0,0.0,0.0,0.0,0.0,0.0,0.0,0.0,0.0,0.0,2.0,0.0,0.0,0.0,0.0,0.0,0.0,0.0,0.0,0.0,0.0,0.0,0.0,0.0,0.0,0.0,0.0,0.0,0.0,0.0,0.0,0.0,0.0,0.0,2.0,2.0,2.0,1.0,1.0,1.0,1.0,1.0,1.0,1.0,1.0,1.0,1.0,1.0,1.0,1.0,3.0,1.0,1.0,3.0,3.0,3.0,3.0,1.0,3.0,1.0,1.0,1.0,3.0,1.0,1.0,1.0,1.0,1.0,0.0,3.0,2.0,0.0,0.0,2.0,2.0,2.0,2.0,2.0,2.0,0.0,0.0,0.0,0.0,2161.0,1120.0,2012.0,1120.0,2014.0,2120.0,2550.0,3000.0,2715.0,1040.0,200.0,6500.0,2158.0,1650.0,167.0,2585.0,3150.0,1360.0,2650.0,1800.0,1200.0,2399.0,1200.0,2585.0,1780.0,1360.0,1650.0,1800.0,1800.0,1350.0,1650.0,2000.0,1650.0,2120.0,3000.0,1503.0,1040.0,1650.0,1647.0,1551.0,1800.0,1512.0,1800.0,1350.0,2447.0,1503.0,1720.0,3300.0,3000.0,1503.0,2163.0,1602.0,1530.0,1350.0,1980.0,1900.0,2447.0,1266.0,1800.0,1350.0,1350.0,900.0,1908.0,1450.0,1080.0,1720.0,3000.0,14490.0,1125.0,1500.0,1500.0,1728.0,2205.0,1100.0,1500.0,1080.0,1350.0,1663.0,1350.0,1350.0,1350.0,1594.0,1485.0,1152.0,1549.0,1549.0,1549.0,1905.0,1485.0,1400.0,1485.0,1106.0,1905.0,1100.0,1800.0,1620.0,212.0,2332.0,1350.0,1600.0,1520.0,1520.0,3000.0,3000.0,2285.0,2285.0,3414.0,3414.0,2623.0,2623.0,2119.0,2119.0,2039.0,2039.0,3363.0,3363.0,2768.0,2768.0,2798.0,2798.0,1650.0,1701.0,1512.0,1350.0,1350.0,1350.0,2350.0,2350.0,1800.0,1800.0,1800.0,1503.0,1800.0,1800.0,1850.0,1800.0,1800.0,1350.0,1650.0,1500.0,1650.0,1650.0,1800.0,1503.0,1800.0,1647.0,1503.0,2163.0,1800.0,1500.0,1800.0,1503.0,1200.0,1845.0,1750.0,1800.0,1800.0,4770.0,3600.0,4680.0,5427.0,1650.0,1650.0,1650.0,3480.0,5600.0,5110.0,1038.0,1350.0,1503.0,1650.0,1815.0,1350.0,1503.0,1323.0,6192.0,1650.0,1815.0,1914.0,2250.0,1503.0,1647.0,1501.0,1503.0,1647.0,1551.0,1428.0,2700.0,1548.0,1232.0,1350.0,1551.0,1647.0,1647.0,1800.0,2706.0,2250.0,1800.0,1476.0,1749.0,1476.0,900.0,900.0,1125.0,1500.0,1200.0,1080.0,900.0,945.0,1017.0,1773.0,1305.0,1800.0,1350.0,1485.0,1438.0,1485.0,1485.0,1485.0,1485.0,1215.0,1170.0,1495.0,1495.0,1495.0,1495.0,1495.0,1625.0,1350.0,1350.0,1152.0,1625.0,1715.0,1485.0,1485.0,1485.0,1485.0,1485.0,1485.0,1485.0,1485.0,1485.0,1485.0,1485.0,1485.0,1485.0,1260.0,1549.0,1549.0,960.0,960.0,1485.0,1485.0,1485.0,1485.0,1485.0,1485.0,1485.0,1215.0,1800.0,1905.0,1024.0,1485.0,1215.0,1800.0,3600.0,1503.0,1700.0,3300.0,2532.0,1100.0,1500.0,1260.0,1215.0,1100.0,1750.0,1800.0,960.0,960.0,1549.0,960.0,1549.0,1549.0,1549.0,960.0,960.0,1549.0,960.0,960.0,931.0,1200.0,1200.0,1200.0,2000.0,1600.0,900.0,900.0,900.0,1260.0,1647.0,1080.0,1080.0,1080.0,1080.0,900.0,1080.0,1080.0,1080.0,1080.0,1350.0,1647.0,1080.0,900.0,1080.0,1080.0,1080.0,1080.0,1080.0,1080.0,1080.0,900.0,900.0,900.0,900.0,900.0,1080.0,1584.0,1647.0,1197.0,1278.0,1413.0,1197.0,1836.0,1980.0,1557.0,1782.0,1647.0,1818.0,3366.0,1395.0,1080.0,990.0,990.0,990.0,990.0,990.0,990.0,1080.0,1080.0,1080.0,1800.0,1800.0,1260.0,900.0,3150.0,1800.0,1746.0,1503.0,1503.0,900.0,900.0,900.0,900.0,1350.0,1350.0,1350.0,1350.0,1647.0,900.0,900.0,900.0,1350.0,1350.0,1350.0,1350.0,1800.0,1800.0,1791.0,1503.0,280.0,1485.0,1647.0,1800.0,1647.0,1800.0,1800.0,1647.0,1800.0,2250.0,2250.0,2250.0,3150.0,2700.0,2700.0,2250.0,3150.0,3150.0,3150.0,900.0,1350.0,4419.0,3213.0,3168.0,3150.0,3024.0,2475.0,2304.0,4455.0,3942.0,3366.0,2439.0,1989.0,8172.0,12240.0,1818.0,1872.0,1503.0,1503.0,900.0,900.0,900.0,900.0,1350.0,1350.0,1350.0,1350.0,1647.0,1647.0,1800.0,1647.0,1800.0,1800.0,1647.0,1800.0,2250.0,2250.0,2250.0,3150.0,2700.0,2700.0,1728.0,12240.0,1080.0,1080.0,1080.0,1080.0,1080.0,1080.0,1080.0,1080.0,1080.0,1080.0,1080.0,1350.0,1503.0,1467.0,1647.0,1566.0,1557.0,1548.0,3150.0,900.0,1350.0,2700.0,2250.0,1800.0,1647.0,1800.0,1647.0,1350.0,900.0,3150.0,2250.0,2700.0,864.0,1800.0,1647.0,1350.0,900.0,1350.0,1809.0,1773.0,1647.0,1674.0,1620.0,4077.0,3996.0,2763.0,2520.0,2430.0,1953.0,1809.0,1773.0,1809.0,2340.0,4419.0,3213.0,3168.0,3150.0,3024.0,2250.0,2700.0,864.0,1800.0,1647.0,1350.0,900.0,1350.0,900.0,1800.0,1647.0,1503.0,1350.0,900.0,900.0,1080.0,1080.0,1080.0,1080.0,1080.0,1080.0,1080.0,1080.0,1080.0,1080.0,864.0,1800.0,1080.0,990.0,990.0,990.0,1080.0,1080.0,1080.0,1791.0,1485.0,1500.0,1350.0,2650.0,1549.0,2650.0,1100.0,2650.0,1549.0,1549.0,960.0,1549.0,1549.0,960.0,1549.0,960.0,1440.0,1350.0,1459.0,1081.0,1204.0,1746.0,174.0,2088.0,1647.0,1494.0,183.0,2400.0,2142.0,1278.0,1278.0,279.0,1602.0,1602.0,1503.0,1602.0,1251.0,1260.0,1458.0,1773.0,1674.0,2430.0,1278.0,1440.0,8172.0,1566.0,1683.0,1683.0,2400.0,2142.0,1818.0,1890.0,1467.0,1458.0,1440.0,173.0,1674.0,1512.0,1512.0,1503.0,1953.0,1467.0,1458.0,1440.0,1395.0,1746.0,3942.0,3213.0,2763.0,280.0,1728.0,1719.0,1872.0,8172.0,12240.0,4077.0,3996.0,2763.0,280.0,4455.0,3942.0,3483.0,3366.0,2439.0,1989.0,2187.0,2232.0,2385.0,2394.0,2403.0,2943.0,2304.0,2430.0,2016.0,1674.0,2394.0,2052.0,12240.0,2097.0,2142.0,2169.0,2088.0,2439.0,1809.0,1773.0,1548.0,1494.0,1953.0,2088.0,1647.0,1557.0,1602.0,1512.0,1467.0,1746.0,3942.0,3213.0,2763.0,280.0,1728.0,1719.0,1872.0,8172.0,12240.0,4077.0,1818.0,1872.0,2169.0,1647.0,1395.0,1818.0,1350.0,183.0,1332.0,990.0,972.0,1450.0,2178.0,162.0,1674.0,1755.0,1899.0,1746.0,1647.0,1890.0,1602.0,1647.0,1692.0,2304.0,2529.0,1818.0,1872.0,2169.0,1746.0,162.0,1674.0,1755.0,1899.0,1746.0,1450.0,2178.0,1647.0,2400.0,2142.0,20000.0,1683.0,250.0,196.0,1017.0,200.0,1350.0,1215.0,900.0,900.0,1017.0,1413.0,2700.0,1503.0,1566.0,1683.0,1359.0,1350.0,1017.0,1125.0,1030.0,1530.0,738.0,1534.0,820.0,1500.0,1044.0,1250.0,1719.0,1215.0,2430.0,187.0,3924.0,1350.0,1818.0,1647.0,1746.0,1746.0,1908.0,1746.0,1809.0,1809.0,1746.0,2520.0,1818.0,1719.0,1719.0,1863.0,1863.0,1944.0,1548.0,1944.0,1764.0,1557.0,1836.0,1647.0,1818.0,1917.0,1818.0,1557.0,1647.0,1818.0,1503.0,2340.0,1908.0,3150.0,1395.0,1458.0,2088.0,1953.0,2142.0,1071.0,1278.0,1278.0,1278.0,1278.0,1458.0,1206.0,1269.0,1278.0,1206.0,1278.0,1206.0,1350.0,1647.0,1647.0,1647.0,1962.0,1350.0,1503.0,1647.0,1620.0,1503.0,2385.0,2034.0,1440.0,2169.0,2385.0,2340.0,2142.0,1728.0,2034.0,1440.0,2169.0,2385.0,2340.0,2142.0,1728.0,3942.0,3213.0,2142.0,1746.0,1395.0,3942.0,2943.0,3222.0,293.0,1782.0,2943.0,1674.0,1908.0,1863.0,1557.0,2520.0,1872.0,2187.0,2232.0,1467.0,1494.0,2394.0,174.0,2403.0,1800.0,3213.0,1602.0,2142.0,2142.0,2169.0,1503.0,1899.0,2439.0,3339.0,1503.0,3213.0,3168.0,1458.0,2187.0,1440.0,1953.0,1476.0,1395.0,2574.0,2637.0,1764.0,2502.0,1350.0,1872.0,1818.0,1719.0,1710.0,1692.0,1890.0,2340.0,1899.0,1800.0,2142.0,491.0,3339.0,1503.0,3213.0,3168.0,1458.0,2187.0,1440.0,1953.0,1476.0,1395.0,2574.0,2637.0,1764.0,2502.0,1764.0,2502.0,1350.0,1872.0,1818.0,1719.0,1710.0,1692.0,1647.0,2862.0,1566.0,1557.0,1764.0,1548.0,1350.0,2376.0,1971.0,1467.0,1908.0,1818.0,1557.0,2520.0,2520.0,2430.0,1953.0,1809.0,891.0,4077.0,3996.0,2763.0,2520.0,1458.0,1305.0,1440.0,1350.0,1278.0,1215.0,4077.0,1413.0,3996.0,2763.0,1818.0,1818.0,1719.0,1962.0,1710.0,1548.0,1647.0,1350.0,1350.0,1908.0,900.0,3366.0,1881.0,1098.0,2430.0,2601.0,1620.0,2700.0,999.0,9585.0,1611.0,2376.0,2700.0,7092.0,3015.0,1800.0,2394.0,837.0,9117.0,4320.0,3267.0,11394.0,909.0,1728.0,3996.0,1314.0,1250.0,2200.0,800.0,1200.0,800.0,1266.0,2280.0,1853.0,950.0,400.0,1402.0,1150.0,1289.0,3433.0,1500.0,1250.0,1200.0,1200.0,1200.0,1250.0,1000.0,1780.0,1852.0,2120.0,1010.0,1780.0,1852.0,1402.0,1150.0,1781.0,900.0,900.0,2350.0,1080.0,300.0,25.0,1647.0,2250.0,1872.0,2040.0,2040.0,2040.0,1350.0,9504.0,2394.0,1350.0,46.0,13.0,46.0,13.0,46.0,13.0,51.0,40.0,25.0,14.0,46.0,8.0,13.0,24.0,52.0,50.0,20.0,36.0,43.0,36.0,36.0,46.0,6.0,50.0,25.0,36.0,24.0,52.0,20.0,43.0,68.0,29.0,24.0,13.0,40.0,43.0,14.0,13.0,52.0,47.0,36.0,10.0,26.0,21.0,50.0,20.0,13.0,52.0,40.0,59.0,24.0,26.0,24.0,43.0,52.0,68.0,50.0,13.0,24.0,54.0,54.0,60.0,13.0,8.0,67.0,13.0,40.0,24.0,24.0,46.0,36.0,47.0,30.0,47.0,13.0,59.0,53.0,13.0,21.0,54.0,8.0,68.0,13.0,36.0,35.0,35.0,35.0,13.0,48.0,13.0,48.0,24.0,13.0,10.0,52.0,68.0,17.0,57.0,46.0,3.0,13.0,13.0,40.0,40.0,50.0,50.0,50.0,50.0,50.0,50.0,50.0,50.0,50.0,50.0,50.0,50.0,50.0,50.0,50.0,50.0,36.0,36.0,26.0,43.0,43.0,43.0,43.0,43.0,13.0,13.0,21.0,24.0,24.0,24.0,24.0,36.0,10.0,24.0,43.0,36.0,52.0,52.0,52.0,24.0,52.0,24.0,24.0,52.0,36.0,36.0,24.0,36.0,36.0,36.0,68.0,68.0,68.0,24.0,52.0,24.0,24.0,24.0,24.0,24.0,24.0,24.0,24.0,24.0,24.0,24.0,24.0,24.0,24.0,24.0,24.0,24.0,24.0,24.0,24.0,47.0,47.0,47.0,47.0,59.0,59.0,59.0,59.0,46.0,46.0,46.0,46.0,46.0,46.0,46.0,10.0,10.0,10.0,10.0,10.0,10.0,10.0,54.0,54.0,32.0,72.0,8.0,21.0,33.0,33.0,21.0,8.0,25.0,24.0,72.0,13.0,13.0,13.0,13.0,13.0,13.0,20.0,36.0,13.0,13.0,13.0,13.0,13.0,20.0,20.0,36.0,36.0,20.0,20.0,13.0,13.0,13.0,13.0,13.0,13.0,13.0,13.0,13.0,13.0,13.0,13.0,13.0,24.0,35.0,35.0,35.0,35.0,48.0,48.0,48.0,48.0,48.0,48.0,48.0,20.0,36.0,13.0,24.0,13.0,20.0,36.0,36.0,36.0,6.0,47.0,57.0,1.0,24.0,30.0,46.0,1.0,59.0,15.0,35.0,35.0,35.0,35.0,35.0,35.0,35.0,35.0,35.0,35.0,35.0,35.0,55.0,24.0,24.0,1.0,13.0,13.0,46.0,36.0,45.0,46.0,17.0,0.0,0.0,0.0,0.0,46.0,0.0,0.0,0.0,0.0,41.0,17.0,67.0,67.0,0.0,0.0,0.0,37.0,37.0,37.0,37.0,0.0,0.0,0.0,0.0,0.0,67.0,16.0,17.0,16.0,16.0,16.0,16.0,17.0,17.0,17.0,17.0,17.0,17.0,10.0,10.0,0.0,0.0,0.0,0.0,0.0,0.0,0.0,0.0,0.0,0.0,13.0,0.0,46.0,54.0,46.0,24.0,10.0,24.0,24.0,48.0,48.0,48.0,48.0,48.0,48.0,48.0,48.0,48.0,48.0,48.0,48.0,5.0,5.0,5.0,48.0,48.0,5.0,34.0,24.0,61.0,48.0,48.0,48.0,48.0,48.0,48.0,48.0,48.0,48.0,48.0,48.0,48.0,48.0,48.0,48.0,48.0,48.0,48.0,48.0,48.0,10.0,10.0,10.0,10.0,10.0,10.0,10.0,10.0,10.0,10.0,10.0,10.0,10.0,10.0,10.0,10.0,24.0,24.0,48.0,48.0,48.0,48.0,48.0,48.0,48.0,48.0,48.0,48.0,48.0,48.0,48.0,48.0,48.0,48.0,48.0,48.0,48.0,48.0,48.0,48.0,10.0,10.0,0.0,0.0,0.0,0.0,0.0,0.0,0.0,0.0,54.0,54.0,54.0,66.0,10.0,10.0,10.0,10.0,10.0,10.0,48.0,48.0,48.0,48.0,48.0,48.0,48.0,48.0,48.0,48.0,48.0,48.0,48.0,48.0,48.0,48.0,48.0,48.0,48.0,48.0,10.0,10.0,10.0,10.0,10.0,10.0,10.0,10.0,10.0,10.0,10.0,10.0,10.0,10.0,10.0,10.0,10.0,10.0,10.0,10.0,48.0,48.0,48.0,48.0,48.0,48.0,48.0,48.0,48.0,48.0,48.0,24.0,48.0,48.0,48.0,0.0,0.0,0.0,0.0,0.0,67.0,0.0,0.0,66.0,39.0,54.0,54.0,54.0,67.0,67.0,67.0,0.0,0.0,0.0,34.0,48.0,46.0,24.0,47.0,35.0,10.0,17.0,47.0,35.0,35.0,35.0,35.0,35.0,35.0,35.0,35.0,24.0,24.0,25.0,13.0,13.0,10.0,10.0,10.0,10.0,24.0,10.0,22.0,6.0,16.0,16.0,16.0,16.0,16.0,16.0,16.0,16.0,16.0,16.0,10.0,10.0,10.0,16.0,10.0,10.0,24.0,24.0,10.0,22.0,6.0,10.0,10.0,10.0,10.0,10.0,10.0,17.0,10.0,10.0,10.0,17.0,10.0,10.0,10.0,10.0,10.0,10.0,10.0,10.0,10.0,10.0,10.0,10.0,10.0,10.0,10.0,10.0,10.0,10.0,10.0,10.0,10.0,10.0,10.0,10.0,10.0,10.0,10.0,10.0,10.0,10.0,10.0,10.0,10.0,10.0,10.0,10.0,10.0,10.0,10.0,10.0,10.0,10.0,10.0,10.0,10.0,10.0,10.0,10.0,10.0,10.0,10.0,10.0,10.0,10.0,10.0,10.0,10.0,10.0,10.0,10.0,10.0,10.0,10.0,10.0,10.0,10.0,10.0,17.0,10.0,10.0,0.0,17.0,21.0,63.0,61.0,16.0,11.0,17.0,10.0,10.0,10.0,10.0,6.0,10.0,10.0,10.0,10.0,10.0,10.0,10.0,10.0,10.0,10.0,17.0,10.0,10.0,10.0,10.0,16.0,11.0,6.0,22.0,6.0,38.0,10.0,10.0,10.0,21.0,10.0,16.0,48.0,11.0,34.0,21.0,24.0,24.0,24.0,24.0,24.0,46.0,31.0,21.0,13.0,13.0,4.0,14.0,14.0,42.0,15.0,27.0,14.0,13.0,13.0,13.0,23.0,56.0,24.0,10.0,10.0,10.0,10.0,10.0,10.0,10.0,10.0,10.0,10.0,10.0,17.0,17.0,6.0,10.0,17.0,17.0,17.0,17.0,17.0,17.0,17.0,17.0,17.0,17.0,17.0,17.0,17.0,17.0,10.0,10.0,10.0,10.0,10.0,10.0,10.0,10.0,16.0,16.0,16.0,16.0,16.0,16.0,16.0,16.0,16.0,16.0,16.0,16.0,16.0,17.0,10.0,17.0,17.0,53.0,24.0,10.0,17.0,17.0,10.0,10.0,10.0,10.0,10.0,10.0,10.0,10.0,10.0,10.0,10.0,10.0,10.0,10.0,10.0,10.0,10.0,10.0,10.0,10.0,10.0,10.0,17.0,10.0,17.0,10.0,10.0,10.0,10.0,17.0,10.0,10.0,10.0,10.0,10.0,10.0,10.0,10.0,10.0,10.0,10.0,10.0,10.0,10.0,10.0,10.0,10.0,10.0,10.0,17.0,10.0,10.0,10.0,17.0,10.0,17.0,17.0,10.0,17.0,10.0,17.0,10.0,17.0,10.0,17.0,10.0,10.0,10.0,10.0,10.0,10.0,10.0,10.0,10.0,10.0,17.0,10.0,10.0,10.0,17.0,10.0,17.0,17.0,10.0,17.0,10.0,17.0,10.0,17.0,10.0,17.0,10.0,17.0,10.0,10.0,10.0,10.0,17.0,10.0,10.0,17.0,10.0,17.0,17.0,17.0,10.0,17.0,10.0,10.0,10.0,10.0,10.0,10.0,10.0,10.0,10.0,10.0,10.0,10.0,10.0,16.0,10.0,16.0,16.0,16.0,10.0,16.0,10.0,10.0,17.0,10.0,17.0,10.0,10.0,17.0,17.0,46.0,15.0,61.0,0.0,69.0,24.0,24.0,24.0,28.0,14.0,14.0,42.0,47.0,42.0,42.0,25.0,25.0,14.0,1.0,13.0,7.0,34.0,30.0,30.0,71.0,70.0,10.0,9.0,2.0,53.0,13.0,47.0,47.0,47.0,27.0,14.0,30.0,13.0,51.0,58.0,64.0,61.0,52.0,24.0,20.0,40.0,40.0,40.0,36.0,13.0,19.0,18.0,8.0,20.0,19.0,18.0,58.0,64.0,18.0,12.0,11.0,25.0,49.0,21.0,6.0,10.0,10.0,62.0,3.0,3.0,3.0,24.0,34.0,65.0,44.0,108.0,28.0,90.51,28.0,100.0,53.0,110.00000000000001,150.0,215.0,43.0,42.0,350.0,75.0,68.0,22.5,142.0,111.00000000000001,49.99,130.0,46.0,58.0,119.0,100.0,142.0,65.0,48.5,38.8,64.0,63.99,51.02,21.6,185.0,21.96,53.0,150.0,31.5,43.0,40.26,64.05,36.12,40.0,42.0,42.0,18.01,134.0,53.43,43.0,275.0,150.0,30.06,66.0,31.0,34.0,51.01,77.0,24.5,134.0,50.64,24.0,11.99,11.99,15.99,34.88,61.98,9.6,43.0,150.0,325.0,22.5,30.06,55.0,61.5,41.5,45.0,33.0,19.2,16.5,66.52,18.0,11.25,52.0,35.0,46.0,55.0,63.0,63.0,63.0,66.67,52.0,49.0,52.0,51.67,66.67,22.0,70.0,22.0,1.6,140.0,59.99,57.0,38.0,38.0,150.0,150.0,125.0,125.0,187.0,187.0,144.0,144.0,115.99999999999999,115.99999999999999,112.00000000000001,112.00000000000001,184.0,184.0,152.0,152.0,153.0,153.0,59.99,58.59,28.5,49.51,49.5,51.0,130.0,135.0,52.0,33.0,13.0,15.03,32.0,42.0,29.0,60.0,32.0,13.49,54.9,38.4,42.09,40.0,50.0,28.38,68.0,31.11,28.33,66.0,50.0,60.0,30.0,31.5,63.0,40.0,23.6,23.5,24.0,114.99999999999999,160.0,112.00000000000001,120.0,22.87,23.78,22.87,54.03,86.51,70.49,14.95,21.75,22.54,24.7,27.27,21.0,21.71,18.37,92.87,23.79,26.26,27.69,50.0,32.56,34.77,35.26,31.73,34.77,36.12,32.39,60.0,36.12,27.88,31.5,33.62,34.77,32.94,30.0,46.96,50.0,30.19,26.24,38.8,26.24,7.99,7.99,190.0,45.99,42.0,7.49,3.6,4.99,6.99,90.0,54.39,4.2,40.0,46.0,46.0,46.0,46.0,46.0,46.0,36.45,55.0,46.0,46.0,46.0,46.0,46.0,48.75,75.0,60.0,79.5,48.75,51.45,46.0,46.0,46.0,46.0,46.0,46.0,46.0,46.0,46.0,46.0,46.0,46.0,46.0,10.4,63.0,63.0,35.0,35.0,52.0,52.0,52.0,52.0,52.0,52.0,52.0,36.45,75.0,66.0,47.84,46.0,36.45,75.0,105.0,40.8,78.0,160.0,140.0,38.0,44.99,47.0,39.0,37.4,64.0,119.0,35.0,35.0,63.0,35.0,63.0,63.0,63.0,35.0,35.0,63.0,37.0,37.0,55.0,57.0,54.0,36.0,70.0,56.0,36.0,26.0,32.0,1.95,30.2,4.2,4.2,4.2,4.2,25.0,5.4,5.4,5.4,5.4,9.75,30.2,9.6,8.0,4.2,4.2,4.2,5.4,5.4,5.4,5.4,3.5,3.5,3.5,3.5,3.5,9.6,26.4,30.19,15.96,17.04,18.05,15.96,32.43,36.3,28.54,31.48,29.09,33.33,46.88,27.9,5.4,3.85,3.85,3.85,3.85,3.85,4.95,4.2,4.2,4.8,7.0,7.0,1.95,5.5,71.75,28.0,35.89,54.0,29.0,11.5,11.5,11.5,11.5,17.25,17.25,17.25,17.25,21.04,12.0,12.0,12.0,18.0,18.0,18.0,18.0,24.0,24.0,3.9,54.0,15.4,18.97,21.04,23.0,21.04,23.0,23.0,21.04,23.0,28.75,28.75,28.75,40.25,34.5,34.5,28.75,40.25,40.25,40.25,11.5,17.25,90.83,66.04,65.12,64.75,62.16,50.87,47.36,91.57,81.03,69.19,50.13,40.88,167.0,250.99999999999997,36.36,37.44,54.0,29.0,11.5,11.5,11.5,11.5,17.25,17.25,17.25,17.25,21.04,21.04,23.0,21.04,23.0,23.0,21.04,23.0,28.75,28.75,28.75,40.25,34.5,34.5,34.56,250.99999999999997,5.4,5.4,5.4,5.4,5.4,5.4,5.4,5.4,5.4,5.4,5.4,5.99,30.06,29.34,32.94,31.32,31.14,30.96,40.25,11.5,17.25,34.5,28.75,23.0,21.04,23.0,21.04,17.25,11.5,40.25,28.75,34.5,10.0,23.0,21.04,17.25,11.5,17.25,37.18,23.64,33.85,22.32,33.3,83.8,82.14,56.79,51.8,49.95,40.14,37.18,36.44,37.18,48.1,90.83,66.04,65.12,64.75,62.16,28.75,34.5,10.0,23.0,21.04,17.25,11.5,17.25,11.5,23.0,21.04,20.87,17.25,11.5,11.5,4.2,4.2,4.2,4.2,4.2,4.2,4.2,4.2,5.4,5.4,4.32,9.0,5.4,4.95,4.95,4.95,5.4,5.4,5.4,3.9,18.97,59.99,35.0,105.0,63.0,105.0,57.5,105.0,63.0,63.0,37.0,63.0,63.0,37.0,63.0,37.0,42.0,33.0,62.0,31.34,34.91,35.89,34.8,42.92,33.85,16.5,33.85,40.2,42.84,16.33,16.33,20.47,21.36,21.36,20.04,21.36,15.98,16.1,19.44,23.64,22.32,32.4,17.04,19.2,108.0,27.49,27.3,30.85,40.2,42.84,37.37,37.8,29.16,29.16,28.8,31.14,30.19,30.96,30.24,30.06,35.8,29.34,29.16,28.8,27.9,35.89,87.6,71.4,36.84,33.6,35.52,35.33,383.0,108.0,163.0,54.36,53.28,36.84,33.6,59.4,50.37,46.4,44.88,32.52,26.52,29.16,29.76,31.8,30.59,32.04,39.24,30.72,27.84,26.88,34.41,27.12,26.22,244.0,27.96,28.56,28.92,42.92,50.13,37.18,36.44,31.82,30.71,39.06,41.76,33.85,32.0,32.93,31.08,30.15,35.89,87.6,71.4,36.84,33.6,35.52,35.33,383.0,108.0,163.0,54.36,36.36,37.44,44.58,30.19,27.9,37.37,6.0,29.28,8.88,8.21,8.1,19.98,5.5,25.75,33.48,35.89,37.98,34.92,33.85,37.8,32.04,32.94,33.84,51.2,56.2,36.36,37.44,44.58,32.0,25.75,33.48,35.89,37.98,34.92,19.98,5.5,33.85,40.2,42.84,26.0,30.85,45.0,36.26,2.99,37.0,18.75,18.22,4.5,4.99,5.0,22.92,50.7,26.38,27.49,27.3,17.5,2.1,4.0,28.0,29.0,69.0,45.0,61.36,37.0,60.0,43.85,50.0,55.0,40.0,100.0,2.5,459.0,5.99,37.37,32.94,35.89,35.89,42.4,35.89,37.18,37.18,35.89,51.8,36.36,31.51,31.51,38.29,71.59,35.64,28.38,35.64,32.34,28.54,32.43,30.19,33.33,22.75,33.33,28.54,20.09,40.4,27.55,48.1,39.22,63.0,27.9,29.16,42.92,40.14,44.03,16.33,16.33,17.04,16.33,16.33,19.56,16.08,16.21,170.0,16.08,170.0,16.08,18.0,33.85,33.85,32.94,40.33,20.25,19.2,32.94,28.62,30.89,49.02,27.12,28.8,44.58,47.7,48.1,44.03,34.56,27.12,28.8,44.58,47.7,48.1,44.03,34.56,81.03,66.04,42.84,34.92,2.79,87.6,58.86,64.44,52.74,35.64,39.24,32.94,38.88,37.26,32.0,50.4,38.48,29.16,29.76,30.15,30.71,305.0,32.19,32.04,36.0,71.4,32.04,42.84,28.56,28.92,30.06,39.03,32.52,44.52,27.55,42.84,42.24,29.16,48.6,28.8,43.4,26.07,18.6,47.19,35.16,31.16,33.36,23.85,24.96,40.4,34.38,34.2,33.84,25.2,31.2,25.32,24.0,44.03,58.92,44.52,27.55,42.84,42.24,29.16,48.6,28.8,43.4,26.07,18.6,47.19,35.16,31.16,33.36,31.16,33.36,23.85,24.96,40.4,34.38,34.2,33.84,32.94,63.6,31.32,31.14,31.16,30.96,23.85,43.56,36.13,29.34,33.7,36.36,31.14,51.8,50.4,49.95,40.14,37.18,17.82,83.8,82.14,56.79,51.8,19.44,17.4,19.2,18.0,17.04,15.52,83.8,18.05,82.14,56.79,35.35,35.35,31.51,38.15,31.35,30.1,32.02,24.99,22.5,8.87,3.49,82.3,45.0,34.0,15.0,250.0,72.0,100.0,84.0,270.0,173.0,257.0,340.0,300.0,134.0,65.0,33.0,60.0,170.0,140.0,76.0,505.99999999999994,35.0,30.72,165.0,45.26,62.0,90.0,55.0,35.0,32.0,43.67,60.0,89.9,26.5,37.0,66.0,32.99,38.5,210.0,52.0,29.0,45.0,45.0,45.0,60.5,30.0,124.0,69.5,85.0,35.0,124.0,69.5,66.0,32.99,134.0,47.0,4.5,110.00000000000001,19.2,24.0,8.0,35.0,40.0,120.0,85.8,85.8,85.8,12.0,10.0,19.95,15.0,1.0,1.0,1.0,1.0,1.0,1.0,1.0,1.0,0.0,1.0,1.0,1.0,1.0,1.0,1.0,1.0,1.0,0.0,1.0,0.0,0.0,1.0,1.0,1.0,0.0,0.0,0.0,0.0,1.0,4.0,0.0,0.0,8.0,1.0,1.0,8.0,1.0,0.0,0.0,0.0,0.0,0.0,1.0,8.0,1.0,1.0,1.0,1.0,1.0,8.0,0.0,0.0,0.0,3.0,0.0,0.0,1.0,1.0,0.0,1.0,1.0,1.0,0.0,1.0,1.0,1.0,1.0,1.0,1.0,0.0,0.0,0.0,1.0,1.0,0.0,1.0,1.0,1.0,0.0,1.0,1.0,1.0,1.0,1.0,1.0,1.0,1.0,1.0,1.0,1.0,1.0,1.0,1.0,1.0,0.0,0.0,2.0,1.0,1.0,1.0,1.0,1.0,1.0,1.0,1.0,1.0,1.0,1.0,1.0,1.0,1.0,1.0,1.0,1.0,1.0,1.0,1.0,1.0,1.0,1.0,0.0,0.0,0.0,2.0,2.0,0.0,8.0,0.0,3.0,3.0,3.0,0.0,3.0,3.0,3.0,0.0,0.0,0.0,0.0,0.0,0.0,0.0,0.0,0.0,0.0,0.0,0.0,1.0,0.0,0.0,3.0,0.0,0.0,8.0,0.0,0.0,0.0,1.0,1.0,0.0,8.0,0.0,1.0,8.0,3.0,3.0,8.0,1.0,1.0,0.0,0.0,0.0,8.0,8.0,8.0,6.0,8.0,8.0,8.0,3.0,0.0,0.0,8.0,0.0,0.0,0.0,8.0,1.0,0.0,8.0,0.0,0.0,0.0,8.0,8.0,0.0,3.0,0.0,8.0,0.0,8.0,1.0,1.0,1.0,1.0,1.0,1.0,1.0,1.0,1.0,1.0,1.0,1.0,1.0,1.0,1.0,1.0,1.0,1.0,1.0,1.0,1.0,1.0,1.0,1.0,1.0,1.0,1.0,1.0,1.0,0.0,1.0,1.0,1.0,1.0,1.0,1.0,1.0,1.0,1.0,1.0,1.0,1.0,1.0,1.0,1.0,1.0,1.0,1.0,1.0,1.0,1.0,1.0,1.0,1.0,1.0,1.0,1.0,1.0,1.0,1.0,1.0,1.0,1.0,1.0,1.0,0.0,1.0,1.0,1.0,1.0,1.0,1.0,1.0,1.0,1.0,1.0,1.0,1.0,1.0,1.0,1.0,1.0,1.0,1.0,1.0,1.0,1.0,1.0,1.0,1.0,1.0,1.0,1.0,1.0,1.0,1.0,1.0,0.0,0.0,5.0,4.0,3.0,0.0,1.0,0.0,8.0,5.0,3.0,0.0,0.0,3.0,4.0,2.0,3.0,0.0,2.0,0.0,8.0,5.0,3.0,6.0,3.0,2.0,0.0,5.0,1.0,1.0,0.0,0.0,1.0,1.0,8.0,0.0,0.0,8.0,8.0,0.0,3.0,8.0,3.0,8.0,5.0,2.0,0.0,3.0,0.0,0.0,0.0,3.0,3.0,3.0,0.0,3.0,8.0,1.0,0.0,3.0,1.0,5.0,2.0,0.0,8.0,8.0,5.0,2.0,0.0,5.0,8.0,2.0,0.0,3.0,0.0,8.0,2.0,8.0,2.0,0.0,1.0,8.0,0.0,2.0,2.0,8.0,8.0,5.0,0.0,0.0,8.0,5.0,2.0,2.0,8.0,5.0,0.0,0.0,8.0,5.0,2.0,2.0,4.0,4.0,4.0,4.0,4.0,4.0,3.0,3.0,3.0,3.0,0.0,3.0,0.0,0.0,8.0,1.0,3.0,1.0,5.0,2.0,0.0,8.0,8.0,5.0,2.0,0.0,5.0,2.0,2.0,8.0,8.0,5.0,0.0,0.0,8.0,5.0,2.0,2.0,8.0,5.0,8.0,0.0,2.0,5.0,8.0,0.0,7.0,6.0,4.0,3.0,4.0,8.0,5.0,1.0,8.0,8.0,8.0,8.0,8.0,8.0,5.0,2.0,2.0,2.0,2.0,2.0,2.0,8.0,8.0,8.0,1.0,2.0,8.0,8.0,0.0,8.0,2.0,2.0,2.0,2.0,0.0,0.0,1.0,0.0,0.0,0.0,0.0,0.0,0.0,0.0,0.0,0.0,0.0,0.0,7.0,4.0,4.0,4.0,4.0,4.0,8.0,8.0,0.0,8.0,2.0,2.0,2.0,2.0,2.0,2.0,2.0,0.0,8.0,2.0,8.0,5.0,2.0,0.0,5.0,2.0,2.0,2.0,0.0,0.0,5.0,3.0,3.0,3.0,3.0,0.0,8.0,8.0,0.0,3.0,0.0,0.0,1.0,1.0,1.0,1.0,1.0,1.0,1.0,1.0,1.0,1.0,1.0,1.0,1.0,1.0,1.0,1.0,1.0,1.0,1.0,1.0,0.0,0.0,1.0,0.0,0.0,0.0,1.0,1.0,4.0,4.0,4.0,0.0,1.0,1.0,1.0,8.0,8.0,1.0,0.0,1.0,0.0,1.0,8.0,0.0,8.0,0.0,0.0,1.0,1.0,1.0,1.0,8.0,8.0,8.0,8.0,1.0,8.0,8.0,8.0,1.0,8.0,8.0,8.0,1.0,1.0,0.0,0.0,1.0,1.0,0.0,0.0,0.0,2.0,3.0,0.0,0.0,0.0,0.0,3.0,3.0,3.0,3.0,3.0,3.0,8.0,8.0,8.0,8.0,8.0,8.0,4.0,0.0,8.0,0.0,8.0,8.0,1.0,8.0,8.0,8.0,0.0,0.0,0.0,0.0,0.0,0.0,8.0,8.0,0.0,0.0,0.0,0.0,0.0,1.0,0.0,0.0,1.0,1.0,0.0,0.0,0.0,2.0,3.0,0.0,1.0,1.0,1.0,0.0,1.0,1.0,0.0,0.0,1.0,0.0,0.0,1.0,1.0,1.0,8.0,1.0,1.0,8.0,0.0,1.0,8.0,8.0,1.0,3.0,1.0,1.0,1.0,1.0,1.0,1.0,8.0,1.0,1.0,8.0,1.0,1.0,0.0,1.0,1.0,0.0,0.0,8.0,0.0,1.0,0.0,1.0,1.0,1.0,1.0,1.0,0.0,2.0,8.0,8.0,0.0,1.0,0.0,0.0,1.0,1.0,1.0,1.0,1.0,1.0,1.0,1.0,1.0,1.0,1.0,1.0,0.0,1.0,0.0,8.0,8.0,0.0,8.0,7.0,0.0,0.0,0.0,0.0,0.0,8.0,7.0,1.0,1.0,1.0,0.0,0.0,0.0,0.0,0.0,8.0,0.0,0.0,0.0,0.0,0.0,8.0,3.0,0.0,0.0,0.0,8.0,8.0,8.0,0.0,0.0,0.0,8.0,8.0,0.0,1.0,1.0,0.0,0.0,1.0,0.0,0.0,0.0,0.0,1.0,0.0,0.0,8.0,0.0,2.0,0.0,2.0,1.0,0.0,0.0,8.0,8.0,8.0,8.0,0.0,0.0,8.0,8.0,8.0,8.0,8.0,0.0,0.0,8.0,0.0,1.0,8.0,8.0,8.0,3.0,8.0,8.0,2.0,8.0,8.0,8.0,2.0,2.0,0.0,8.0,0.0,1.0,8.0,0.0,0.0,1.0,0.0,1.0,8.0,4.0,8.0,8.0,1.0,1.0,8.0,0.0,3.0,4.0,0.0,4.0,4.0,8.0,4.0,8.0,4.0,0.0,8.0,0.0,7.0,8.0,7.0,8.0,7.0,0.0,8.0,8.0,8.0,1.0,6.0,6.0,6.0,0.0,1.0,4.0,0.0,4.0,4.0,8.0,4.0,8.0,4.0,0.0,8.0,0.0,7.0,8.0,7.0,8.0,7.0,8.0,7.0,0.0,8.0,8.0,8.0,8.0,7.0,8.0,8.0,0.0,8.0,8.0,0.0,0.0,8.0,8.0,1.0,8.0,0.0,0.0,0.0,0.0,0.0,8.0,0.0,0.0,0.0,0.0,1.0,0.0,1.0,0.0,0.0,8.0,0.0,8.0,0.0,0.0,0.0,0.0,1.0,0.0,8.0,0.0,0.0,0.0,1.0,8.0,0.0,1.0,1.0,1.0,1.0,1.0,1.0,1.0,1.0,1.0,1.0,1.0,1.0,1.0,1.0,1.0,1.0,1.0,1.0,1.0,1.0,1.0,1.0,0.0,0.0,8.0,1.0,1.0,1.0,1.0,0.0,1.0,1.0,1.0,1.0,1.0,1.0,1.0,1.0,1.0,1.0,1.0,1.0,1.0,1.0,1.0,1.0,1.0,1.0,1.0,1.0,1.0,1.0,1.0,1.0,1.0,1.0,0.0,0.0,4.0,1.0,1.0,0.0,1.0,4.0,8.0,8.0,8.0,0.0,0.0,0.0,0.0,0.0,0.0,0.0,0.0,0.0,0.0,2.0,2.0,0.0,0.0,3.0,2.0,0.0,5.0,3.0,5.0,3.0,3.0,5.0,3.0,2.0,0.0,2.0,5.0,0.0,3.0,3.0,3.0,3.0,3.0,3.0,2.0,3.0,0.0,2.0,3.0,0.0,3.0,3.0,3.0,3.0,3.0,3.0,3.0,5.0,3.0,0.0,5.0,2.0,3.0,3.0,3.0,3.0,3.0,3.0,3.0,5.0,0.0,3.0,3.0,3.0,3.0,3.0,0.0,3.0,0.0,2.0,3.0,3.0,3.0,3.0,3.0,3.0,0.0,3.0,3.0,3.0,0.0,3.0,3.0,0.0,2.0,0.0,2.0,0.0,0.0,0.0,0.0,1.0,0.0,2.0,2.0,5.0,0.0,0.0,3.0,3.0,3.0,0.0,2.0,0.0,0.0,0.0,2.0,2.0,5.0,5.0,5.0,5.0,5.0,5.0,5.0,5.0,5.0,5.0,5.0,5.0,5.0,5.0,5.0,5.0,3.0,3.0,3.0,3.0,3.0,3.0,5.0,5.0,3.0,3.0,3.0,3.0,3.0,3.0,3.0,3.0,3.0,3.0,3.0,3.0,3.0,3.0,3.0,3.0,3.0,3.0,3.0,3.0,3.0,3.0,3.0,3.0,2.0,3.0,3.0,3.0,3.0,3.0,3.0,3.0,3.0,3.0,3.0,3.0,3.0,3.0,3.0,3.0,3.0,3.0,3.0,3.0,3.0,3.0,3.0,3.0,3.0,3.0,3.0,3.0,3.0,3.0,3.0,3.0,3.0,3.0,3.0,3.0,3.0,3.0,3.0,3.0,3.0,3.0,3.0,3.0,3.0,3.0,3.0,3.0,3.0,3.0,3.0,2.0,0.0,0.0,3.0,3.0,3.0,3.0,3.0,3.0,3.0,0.0,0.0,0.0,0.0,0.0,0.0,0.0,0.0,2.0,0.0,0.0,0.0,0.0,0.0,0.0,2.0,2.0,2.0,0.0,0.0,0.0,0.0,0.0,0.0,0.0,0.0,0.0,0.0,0.0,0.0,0.0,0.0,0.0,5.0,0.0,0.0,0.0,0.0,2.0,2.0,2.0,2.0,2.0,2.0,2.0,0.0,2.0,0.0,2.0,5.0,0.0,0.0,2.0,5.0,3.0,0.0,5.0,0.0,0.0,2.0,0.0,2.0,0.0,0.0,2.0,0.0,0.0,0.0,0.0,0.0,0.0,0.0,0.0,0.0,0.0,0.0,0.0,0.0,1.0,5.0,0.0,0.0,0.0,2.0,2.0,2.0,3.0,3.0,3.0,3.0,3.0,3.0,3.0,3.0,3.0,3.0,3.0,3.0,3.0,3.0,3.0,3.0,3.0,3.0,3.0,3.0,3.0,3.0,3.0,3.0,3.0,3.0,3.0,3.0,3.0,3.0,3.0,3.0,3.0,3.0,3.0,3.0,3.0,3.0,3.0,3.0,3.0,3.0,3.0,3.0,3.0,3.0,3.0,3.0,3.0,3.0,3.0,3.0,3.0,3.0,3.0,3.0,3.0,3.0,3.0,3.0,3.0,3.0,3.0,3.0,3.0,3.0,3.0,3.0,3.0,3.0,3.0,3.0,3.0,3.0,3.0,3.0,3.0,3.0,3.0,3.0,3.0,3.0,3.0,3.0,3.0,3.0,3.0,3.0,3.0,3.0,3.0,3.0,3.0,3.0,3.0,3.0,3.0,3.0,3.0,3.0,3.0,3.0,3.0,3.0,3.0,3.0,3.0,3.0,3.0,3.0,3.0,3.0,3.0,3.0,3.0,3.0,3.0,3.0,3.0,3.0,3.0,3.0,3.0,3.0,3.0,3.0,3.0,3.0,3.0,3.0,3.0,3.0,3.0,3.0,3.0,3.0,3.0,3.0,3.0,3.0,3.0,3.0,3.0,3.0,3.0,3.0,3.0,3.0,3.0,3.0,3.0,3.0,3.0,3.0,3.0,3.0,3.0,3.0,3.0,3.0,3.0,3.0,3.0,3.0,3.0,3.0,3.0,3.0,3.0,3.0,3.0,3.0,3.0,3.0,3.0,3.0,3.0,3.0,3.0,3.0,3.0,3.0,3.0,3.0,3.0,3.0,3.0,3.0,3.0,3.0,3.0,3.0,3.0,3.0,3.0,3.0,3.0,3.0,3.0,3.0,3.0,3.0,3.0,3.0,3.0,3.0,3.0,3.0,3.0,3.0,3.0,3.0,3.0,3.0,3.0,3.0,3.0,3.0,3.0,3.0,3.0,3.0,3.0,3.0,3.0,3.0,3.0,5.0,3.0,5.0,3.0,3.0,3.0,3.0,3.0,3.0,3.0,3.0,3.0,3.0,2.0,1.0,5.0,0.0,5.0,2.0,5.0,0.0,0.0,0.0,0.0,0.0,0.0,0.0,0.0,2.0,2.0,0.0,0.0,0.0,3.0,3.0,3.0,3.0,3.0,3.0,3.0,3.0,3.0,3.0,3.0,3.0,3.0,3.0,3.0,3.0,3.0,3.0,3.0,3.0,3.0,3.0,3.0,3.0,3.0,3.0,3.0,3.0,3.0,3.0,3.0,3.0,3.0,3.0,3.0,3.0,3.0,3.0,3.0,3.0,3.0,3.0,3.0,3.0,3.0,3.0,3.0,3.0,3.0,3.0,3.0,3.0,3.0,3.0,3.0,3.0,3.0,3.0,3.0,3.0,3.0,3.0,3.0,3.0,3.0,3.0,3.0,3.0,3.0,3.0,3.0,3.0,3.0,3.0,3.0,3.0,3.0,3.0,3.0,3.0,3.0,3.0,3.0,3.0,3.0,3.0,3.0,3.0,3.0,3.0,3.0,3.0,3.0,3.0,3.0,3.0,3.0,3.0,3.0,3.0,3.0,3.0,3.0,3.0,3.0,3.0,3.0,3.0,3.0,3.0,3.0,3.0,3.0,3.0,3.0,3.0,3.0,3.0,3.0,3.0,3.0,3.0,3.0,3.0,3.0,3.0,3.0,3.0,3.0,3.0,3.0,3.0,3.0,3.0,3.0,3.0,3.0,3.0,3.0,3.0,3.0,3.0,3.0,3.0,3.0,3.0,3.0,3.0,3.0,3.0,3.0,3.0,3.0,3.0,3.0,3.0,3.0,3.0,3.0,3.0,3.0,3.0,0.0,0.0,0.0,0.0,4.0,0.0,0.0,0.0,0.0,0.0,0.0,0.0,0.0,3.0,3.0,3.0,3.0,3.0,3.0,3.0,3.0,3.0,3.0,3.0,3.0,3.0,3.0,3.0,3.0,3.0,3.0,3.0,3.0,3.0,3.0,3.0,3.0,3.0,3.0,3.0,3.0,3.0,3.0,3.0,3.0,3.0,3.0,3.0,3.0,3.0,3.0,3.0,3.0,3.0,3.0,3.0,3.0,3.0,3.0,3.0,3.0,3.0,3.0,3.0,3.0,3.0,3.0,3.0,3.0,3.0,3.0,3.0,3.0,3.0,3.0,3.0,3.0,3.0,3.0,3.0,3.0,3.0,3.0,3.0,3.0,3.0,3.0,3.0,3.0,3.0,3.0,3.0,3.0,3.0,3.0,3.0,3.0,3.0,3.0,3.0,3.0,3.0,3.0,3.0,3.0,3.0,3.0,3.0,3.0,3.0,3.0,3.0,3.0,3.0,3.0,3.0,3.0,3.0,3.0,3.0,3.0,3.0,3.0,3.0,3.0,3.0,3.0,3.0,3.0,3.0,3.0,3.0,3.0,3.0,3.0,3.0,3.0,3.0,3.0,3.0,3.0,3.0,3.0,3.0,3.0,3.0,3.0,3.0,3.0,3.0,3.0,3.0,3.0,3.0,3.0,3.0,3.0,3.0,3.0,3.0,3.0,3.0,3.0,3.0,3.0,3.0,3.0,3.0,3.0,3.0,3.0,3.0,3.0,3.0,3.0,3.0,3.0,3.0,3.0,3.0,3.0,3.0,3.0,3.0,3.0,3.0,3.0,3.0,3.0,3.0,3.0,3.0,3.0,3.0,3.0,3.0,3.0,3.0,3.0,3.0,3.0,3.0,3.0,3.0,3.0,3.0,3.0,3.0,3.0,3.0,3.0,3.0,3.0,3.0,3.0,3.0,3.0,3.0,3.0,3.0,3.0,3.0,3.0,3.0,3.0,3.0,3.0,3.0,3.0,3.0,3.0,3.0,3.0,3.0,3.0,3.0,3.0,3.0,3.0,3.0,0.0,0.0,1.0,0.0,0.0,0.0,0.0,0.0,5.0,2.0,0.0,0.0,0.0,5.0,0.0,0.0,0.0,0.0,0.0,1.0,0.0,0.0,0.0,1.0,0.0,0.0,0.0,0.0,0.0,0.0,2.0,3.0,1.0,3.0,3.0,3.0,3.0,3.0,3.0,3.0,3.0],\"y0\":\" \",\"yaxis\":\"y\",\"type\":\"box\"}],                        {\"template\":{\"data\":{\"histogram2dcontour\":[{\"type\":\"histogram2dcontour\",\"colorbar\":{\"outlinewidth\":0,\"ticks\":\"\"},\"colorscale\":[[0.0,\"#0d0887\"],[0.1111111111111111,\"#46039f\"],[0.2222222222222222,\"#7201a8\"],[0.3333333333333333,\"#9c179e\"],[0.4444444444444444,\"#bd3786\"],[0.5555555555555556,\"#d8576b\"],[0.6666666666666666,\"#ed7953\"],[0.7777777777777778,\"#fb9f3a\"],[0.8888888888888888,\"#fdca26\"],[1.0,\"#f0f921\"]]}],\"choropleth\":[{\"type\":\"choropleth\",\"colorbar\":{\"outlinewidth\":0,\"ticks\":\"\"}}],\"histogram2d\":[{\"type\":\"histogram2d\",\"colorbar\":{\"outlinewidth\":0,\"ticks\":\"\"},\"colorscale\":[[0.0,\"#0d0887\"],[0.1111111111111111,\"#46039f\"],[0.2222222222222222,\"#7201a8\"],[0.3333333333333333,\"#9c179e\"],[0.4444444444444444,\"#bd3786\"],[0.5555555555555556,\"#d8576b\"],[0.6666666666666666,\"#ed7953\"],[0.7777777777777778,\"#fb9f3a\"],[0.8888888888888888,\"#fdca26\"],[1.0,\"#f0f921\"]]}],\"heatmap\":[{\"type\":\"heatmap\",\"colorbar\":{\"outlinewidth\":0,\"ticks\":\"\"},\"colorscale\":[[0.0,\"#0d0887\"],[0.1111111111111111,\"#46039f\"],[0.2222222222222222,\"#7201a8\"],[0.3333333333333333,\"#9c179e\"],[0.4444444444444444,\"#bd3786\"],[0.5555555555555556,\"#d8576b\"],[0.6666666666666666,\"#ed7953\"],[0.7777777777777778,\"#fb9f3a\"],[0.8888888888888888,\"#fdca26\"],[1.0,\"#f0f921\"]]}],\"heatmapgl\":[{\"type\":\"heatmapgl\",\"colorbar\":{\"outlinewidth\":0,\"ticks\":\"\"},\"colorscale\":[[0.0,\"#0d0887\"],[0.1111111111111111,\"#46039f\"],[0.2222222222222222,\"#7201a8\"],[0.3333333333333333,\"#9c179e\"],[0.4444444444444444,\"#bd3786\"],[0.5555555555555556,\"#d8576b\"],[0.6666666666666666,\"#ed7953\"],[0.7777777777777778,\"#fb9f3a\"],[0.8888888888888888,\"#fdca26\"],[1.0,\"#f0f921\"]]}],\"contourcarpet\":[{\"type\":\"contourcarpet\",\"colorbar\":{\"outlinewidth\":0,\"ticks\":\"\"}}],\"contour\":[{\"type\":\"contour\",\"colorbar\":{\"outlinewidth\":0,\"ticks\":\"\"},\"colorscale\":[[0.0,\"#0d0887\"],[0.1111111111111111,\"#46039f\"],[0.2222222222222222,\"#7201a8\"],[0.3333333333333333,\"#9c179e\"],[0.4444444444444444,\"#bd3786\"],[0.5555555555555556,\"#d8576b\"],[0.6666666666666666,\"#ed7953\"],[0.7777777777777778,\"#fb9f3a\"],[0.8888888888888888,\"#fdca26\"],[1.0,\"#f0f921\"]]}],\"surface\":[{\"type\":\"surface\",\"colorbar\":{\"outlinewidth\":0,\"ticks\":\"\"},\"colorscale\":[[0.0,\"#0d0887\"],[0.1111111111111111,\"#46039f\"],[0.2222222222222222,\"#7201a8\"],[0.3333333333333333,\"#9c179e\"],[0.4444444444444444,\"#bd3786\"],[0.5555555555555556,\"#d8576b\"],[0.6666666666666666,\"#ed7953\"],[0.7777777777777778,\"#fb9f3a\"],[0.8888888888888888,\"#fdca26\"],[1.0,\"#f0f921\"]]}],\"mesh3d\":[{\"type\":\"mesh3d\",\"colorbar\":{\"outlinewidth\":0,\"ticks\":\"\"}}],\"scatter\":[{\"fillpattern\":{\"fillmode\":\"overlay\",\"size\":10,\"solidity\":0.2},\"type\":\"scatter\"}],\"parcoords\":[{\"type\":\"parcoords\",\"line\":{\"colorbar\":{\"outlinewidth\":0,\"ticks\":\"\"}}}],\"scatterpolargl\":[{\"type\":\"scatterpolargl\",\"marker\":{\"colorbar\":{\"outlinewidth\":0,\"ticks\":\"\"}}}],\"bar\":[{\"error_x\":{\"color\":\"#2a3f5f\"},\"error_y\":{\"color\":\"#2a3f5f\"},\"marker\":{\"line\":{\"color\":\"#E5ECF6\",\"width\":0.5},\"pattern\":{\"fillmode\":\"overlay\",\"size\":10,\"solidity\":0.2}},\"type\":\"bar\"}],\"scattergeo\":[{\"type\":\"scattergeo\",\"marker\":{\"colorbar\":{\"outlinewidth\":0,\"ticks\":\"\"}}}],\"scatterpolar\":[{\"type\":\"scatterpolar\",\"marker\":{\"colorbar\":{\"outlinewidth\":0,\"ticks\":\"\"}}}],\"histogram\":[{\"marker\":{\"pattern\":{\"fillmode\":\"overlay\",\"size\":10,\"solidity\":0.2}},\"type\":\"histogram\"}],\"scattergl\":[{\"type\":\"scattergl\",\"marker\":{\"colorbar\":{\"outlinewidth\":0,\"ticks\":\"\"}}}],\"scatter3d\":[{\"type\":\"scatter3d\",\"line\":{\"colorbar\":{\"outlinewidth\":0,\"ticks\":\"\"}},\"marker\":{\"colorbar\":{\"outlinewidth\":0,\"ticks\":\"\"}}}],\"scattermapbox\":[{\"type\":\"scattermapbox\",\"marker\":{\"colorbar\":{\"outlinewidth\":0,\"ticks\":\"\"}}}],\"scatterternary\":[{\"type\":\"scatterternary\",\"marker\":{\"colorbar\":{\"outlinewidth\":0,\"ticks\":\"\"}}}],\"scattercarpet\":[{\"type\":\"scattercarpet\",\"marker\":{\"colorbar\":{\"outlinewidth\":0,\"ticks\":\"\"}}}],\"carpet\":[{\"aaxis\":{\"endlinecolor\":\"#2a3f5f\",\"gridcolor\":\"white\",\"linecolor\":\"white\",\"minorgridcolor\":\"white\",\"startlinecolor\":\"#2a3f5f\"},\"baxis\":{\"endlinecolor\":\"#2a3f5f\",\"gridcolor\":\"white\",\"linecolor\":\"white\",\"minorgridcolor\":\"white\",\"startlinecolor\":\"#2a3f5f\"},\"type\":\"carpet\"}],\"table\":[{\"cells\":{\"fill\":{\"color\":\"#EBF0F8\"},\"line\":{\"color\":\"white\"}},\"header\":{\"fill\":{\"color\":\"#C8D4E3\"},\"line\":{\"color\":\"white\"}},\"type\":\"table\"}],\"barpolar\":[{\"marker\":{\"line\":{\"color\":\"#E5ECF6\",\"width\":0.5},\"pattern\":{\"fillmode\":\"overlay\",\"size\":10,\"solidity\":0.2}},\"type\":\"barpolar\"}],\"pie\":[{\"automargin\":true,\"type\":\"pie\"}]},\"layout\":{\"autotypenumbers\":\"strict\",\"colorway\":[\"#636efa\",\"#EF553B\",\"#00cc96\",\"#ab63fa\",\"#FFA15A\",\"#19d3f3\",\"#FF6692\",\"#B6E880\",\"#FF97FF\",\"#FECB52\"],\"font\":{\"color\":\"#2a3f5f\"},\"hovermode\":\"closest\",\"hoverlabel\":{\"align\":\"left\"},\"paper_bgcolor\":\"white\",\"plot_bgcolor\":\"#E5ECF6\",\"polar\":{\"bgcolor\":\"#E5ECF6\",\"angularaxis\":{\"gridcolor\":\"white\",\"linecolor\":\"white\",\"ticks\":\"\"},\"radialaxis\":{\"gridcolor\":\"white\",\"linecolor\":\"white\",\"ticks\":\"\"}},\"ternary\":{\"bgcolor\":\"#E5ECF6\",\"aaxis\":{\"gridcolor\":\"white\",\"linecolor\":\"white\",\"ticks\":\"\"},\"baxis\":{\"gridcolor\":\"white\",\"linecolor\":\"white\",\"ticks\":\"\"},\"caxis\":{\"gridcolor\":\"white\",\"linecolor\":\"white\",\"ticks\":\"\"}},\"coloraxis\":{\"colorbar\":{\"outlinewidth\":0,\"ticks\":\"\"}},\"colorscale\":{\"sequential\":[[0.0,\"#0d0887\"],[0.1111111111111111,\"#46039f\"],[0.2222222222222222,\"#7201a8\"],[0.3333333333333333,\"#9c179e\"],[0.4444444444444444,\"#bd3786\"],[0.5555555555555556,\"#d8576b\"],[0.6666666666666666,\"#ed7953\"],[0.7777777777777778,\"#fb9f3a\"],[0.8888888888888888,\"#fdca26\"],[1.0,\"#f0f921\"]],\"sequentialminus\":[[0.0,\"#0d0887\"],[0.1111111111111111,\"#46039f\"],[0.2222222222222222,\"#7201a8\"],[0.3333333333333333,\"#9c179e\"],[0.4444444444444444,\"#bd3786\"],[0.5555555555555556,\"#d8576b\"],[0.6666666666666666,\"#ed7953\"],[0.7777777777777778,\"#fb9f3a\"],[0.8888888888888888,\"#fdca26\"],[1.0,\"#f0f921\"]],\"diverging\":[[0,\"#8e0152\"],[0.1,\"#c51b7d\"],[0.2,\"#de77ae\"],[0.3,\"#f1b6da\"],[0.4,\"#fde0ef\"],[0.5,\"#f7f7f7\"],[0.6,\"#e6f5d0\"],[0.7,\"#b8e186\"],[0.8,\"#7fbc41\"],[0.9,\"#4d9221\"],[1,\"#276419\"]]},\"xaxis\":{\"gridcolor\":\"white\",\"linecolor\":\"white\",\"ticks\":\"\",\"title\":{\"standoff\":15},\"zerolinecolor\":\"white\",\"automargin\":true,\"zerolinewidth\":2},\"yaxis\":{\"gridcolor\":\"white\",\"linecolor\":\"white\",\"ticks\":\"\",\"title\":{\"standoff\":15},\"zerolinecolor\":\"white\",\"automargin\":true,\"zerolinewidth\":2},\"scene\":{\"xaxis\":{\"backgroundcolor\":\"#E5ECF6\",\"gridcolor\":\"white\",\"linecolor\":\"white\",\"showbackground\":true,\"ticks\":\"\",\"zerolinecolor\":\"white\",\"gridwidth\":2},\"yaxis\":{\"backgroundcolor\":\"#E5ECF6\",\"gridcolor\":\"white\",\"linecolor\":\"white\",\"showbackground\":true,\"ticks\":\"\",\"zerolinecolor\":\"white\",\"gridwidth\":2},\"zaxis\":{\"backgroundcolor\":\"#E5ECF6\",\"gridcolor\":\"white\",\"linecolor\":\"white\",\"showbackground\":true,\"ticks\":\"\",\"zerolinecolor\":\"white\",\"gridwidth\":2}},\"shapedefaults\":{\"line\":{\"color\":\"#2a3f5f\"}},\"annotationdefaults\":{\"arrowcolor\":\"#2a3f5f\",\"arrowhead\":0,\"arrowwidth\":1},\"geo\":{\"bgcolor\":\"white\",\"landcolor\":\"#E5ECF6\",\"subunitcolor\":\"white\",\"showland\":true,\"showlakes\":true,\"lakecolor\":\"white\"},\"title\":{\"x\":0.05},\"mapbox\":{\"style\":\"light\"}}},\"xaxis\":{\"anchor\":\"y\",\"domain\":[0.0,1.0],\"title\":{\"text\":\"variable\"}},\"yaxis\":{\"anchor\":\"x\",\"domain\":[0.0,1.0],\"title\":{\"text\":\"value\"}},\"legend\":{\"tracegroupgap\":0},\"margin\":{\"t\":60},\"boxmode\":\"group\"},                        {\"responsive\": true}                    ).then(function(){\n",
              "                            \n",
              "var gd = document.getElementById('d806e63a-8293-4748-9ce2-9543997eef50');\n",
              "var x = new MutationObserver(function (mutations, observer) {{\n",
              "        var display = window.getComputedStyle(gd).display;\n",
              "        if (!display || display === 'none') {{\n",
              "            console.log([gd, 'removed!']);\n",
              "            Plotly.purge(gd);\n",
              "            observer.disconnect();\n",
              "        }}\n",
              "}});\n",
              "\n",
              "// Listen for the removal of the full notebook cells\n",
              "var notebookContainer = gd.closest('#notebook-container');\n",
              "if (notebookContainer) {{\n",
              "    x.observe(notebookContainer, {childList: true});\n",
              "}}\n",
              "\n",
              "// Listen for the clearing of the current output cell\n",
              "var outputEl = gd.closest('.output');\n",
              "if (outputEl) {{\n",
              "    x.observe(outputEl, {childList: true});\n",
              "}}\n",
              "\n",
              "                        })                };                            </script>        </div>\n",
              "</body>\n",
              "</html>"
            ]
          },
          "metadata": {}
        }
      ],
      "source": [
        "px.box(data)"
      ]
    },
    {
      "cell_type": "code",
      "execution_count": null,
      "id": "02f80b25",
      "metadata": {
        "colab": {
          "base_uri": "https://localhost:8080/",
          "height": 542
        },
        "id": "02f80b25",
        "outputId": "fc1d4312-2f63-488e-c19d-e7aad0b31e20"
      },
      "outputs": [
        {
          "output_type": "display_data",
          "data": {
            "text/html": [
              "<html>\n",
              "<head><meta charset=\"utf-8\" /></head>\n",
              "<body>\n",
              "    <div>            <script src=\"https://cdnjs.cloudflare.com/ajax/libs/mathjax/2.7.5/MathJax.js?config=TeX-AMS-MML_SVG\"></script><script type=\"text/javascript\">if (window.MathJax && window.MathJax.Hub && window.MathJax.Hub.Config) {window.MathJax.Hub.Config({SVG: {font: \"STIX-Web\"}});}</script>                <script type=\"text/javascript\">window.PlotlyConfig = {MathJaxConfig: 'local'};</script>\n",
              "        <script charset=\"utf-8\" src=\"https://cdn.plot.ly/plotly-2.24.1.min.js\"></script>                <div id=\"d66a5ac5-b1d3-46f4-8e40-1d6f58b796ea\" class=\"plotly-graph-div\" style=\"height:525px; width:100%;\"></div>            <script type=\"text/javascript\">                                    window.PLOTLYENV=window.PLOTLYENV || {};                                    if (document.getElementById(\"d66a5ac5-b1d3-46f4-8e40-1d6f58b796ea\")) {                    Plotly.newPlot(                        \"d66a5ac5-b1d3-46f4-8e40-1d6f58b796ea\",                        [{\"alignmentgroup\":\"True\",\"hovertemplate\":\"Facing=%{x}\\u003cextra\\u003e\\u003c\\u002fextra\\u003e\",\"legendgroup\":\"\",\"marker\":{\"color\":\"#636efa\"},\"name\":\"\",\"notched\":false,\"offsetgroup\":\"\",\"orientation\":\"h\",\"showlegend\":false,\"x\":[1,1,1,1,1,1,1,1,0,1,1,1,1,1,1,1,1,0,1,0,0,1,1,1,0,0,0,0,1,4,0,0,8,1,1,8,1,0,0,0,0,0,1,8,1,1,1,1,1,8,0,0,0,3,0,0,1,1,0,1,1,1,0,1,1,1,1,1,1,0,0,0,1,1,0,1,1,1,0,1,1,1,1,1,1,1,1,1,1,1,1,1,1,1,0,0,2,1,1,1,1,1,1,1,1,1,1,1,1,1,1,1,1,1,1,1,1,1,1,1,0,0,0,2,2,0,8,0,3,3,3,0,3,3,3,0,0,0,0,0,0,0,0,0,0,0,0,1,0,0,3,0,0,8,0,0,0,1,1,0,8,0,1,8,3,3,8,1,1,0,0,0,8,8,8,6,8,8,8,3,0,0,8,0,0,0,8,1,0,8,0,0,0,8,8,0,3,0,8,0,8,1,1,1,1,1,1,1,1,1,1,1,1,1,1,1,1,1,1,1,1,1,1,1,1,1,1,1,1,1,0,1,1,1,1,1,1,1,1,1,1,1,1,1,1,1,1,1,1,1,1,1,1,1,1,1,1,1,1,1,1,1,1,1,1,1,0,1,1,1,1,1,1,1,1,1,1,1,1,1,1,1,1,1,1,1,1,1,1,1,1,1,1,1,1,1,1,1,0,0,5,4,3,0,1,0,8,5,3,0,0,3,4,2,3,0,2,0,8,5,3,6,3,2,0,5,1,1,0,0,1,1,8,0,0,8,8,0,3,8,3,8,5,2,0,3,0,0,0,3,3,3,0,3,8,1,0,3,1,5,2,0,8,8,5,2,0,5,8,2,0,3,0,8,2,8,2,0,1,8,0,2,2,8,8,5,0,0,8,5,2,2,8,5,0,0,8,5,2,2,4,4,4,4,4,4,3,3,3,3,0,3,0,0,8,1,3,1,5,2,0,8,8,5,2,0,5,2,2,8,8,5,0,0,8,5,2,2,8,5,8,0,2,5,8,0,7,6,4,3,4,8,5,1,8,8,8,8,8,8,5,2,2,2,2,2,2,8,8,8,1,2,8,8,0,8,2,2,2,2,0,0,1,0,0,0,0,0,0,0,0,0,0,0,7,4,4,4,4,4,8,8,0,8,2,2,2,2,2,2,2,0,8,2,8,5,2,0,5,2,2,2,0,0,5,3,3,3,3,0,8,8,0,3,0,0,1,1,1,1,1,1,1,1,1,1,1,1,1,1,1,1,1,1,1,1,0,0,1,0,0,0,1,1,4,4,4,0,1,1,1,8,8,1,0,1,0,1,8,0,8,0,0,1,1,1,1,8,8,8,8,1,8,8,8,1,8,8,8,1,1,0,0,1,1,0,0,0,2,3,0,0,0,0,3,3,3,3,3,3,8,8,8,8,8,8,4,0,8,0,8,8,1,8,8,8,0,0,0,0,0,0,8,8,0,0,0,0,0,1,0,0,1,1,0,0,0,2,3,0,1,1,1,0,1,1,0,0,1,0,0,1,1,1,8,1,1,8,0,1,8,8,1,3,1,1,1,1,1,1,8,1,1,8,1,1,0,1,1,0,0,8,0,1,0,1,1,1,1,1,0,2,8,8,0,1,0,0,1,1,1,1,1,1,1,1,1,1,1,1,0,1,0,8,8,0,8,7,0,0,0,0,0,8,7,1,1,1,0,0,0,0,0,8,0,0,0,0,0,8,3,0,0,0,8,8,8,0,0,0,8,8,0,1,1,0,0,1,0,0,0,0,1,0,0,8,0,2,0,2,1,0,0,8,8,8,8,0,0,8,8,8,8,8,0,0,8,0,1,8,8,8,3,8,8,2,8,8,8,2,2,0,8,0,1,8,0,0,1,0,1,8,4,8,8,1,1,8,0,3,4,0,4,4,8,4,8,4,0,8,0,7,8,7,8,7,0,8,8,8,1,6,6,6,0,1,4,0,4,4,8,4,8,4,0,8,0,7,8,7,8,7,8,7,0,8,8,8,8,7,8,8,0,8,8,0,0,8,8,1,8,0,0,0,0,0,8,0,0,0,0,1,0,1,0,0,8,0,8,0,0,0,0,1,0,8,0,0,0,1,8,0,1,1,1,1,1,1,1,1,1,1,1,1,1,1,1,1,1,1,1,1,1,1,0,0,8,1,1,1,1,0,1,1,1,1,1,1,1,1,1,1,1,1,1,1,1,1,1,1,1,1,1,1,1,1,1,1,0,0,4,1,1,0,1,4,8,8,8,0,0,0,0],\"x0\":\" \",\"xaxis\":\"x\",\"y0\":\" \",\"yaxis\":\"y\",\"type\":\"box\"}],                        {\"template\":{\"data\":{\"histogram2dcontour\":[{\"type\":\"histogram2dcontour\",\"colorbar\":{\"outlinewidth\":0,\"ticks\":\"\"},\"colorscale\":[[0.0,\"#0d0887\"],[0.1111111111111111,\"#46039f\"],[0.2222222222222222,\"#7201a8\"],[0.3333333333333333,\"#9c179e\"],[0.4444444444444444,\"#bd3786\"],[0.5555555555555556,\"#d8576b\"],[0.6666666666666666,\"#ed7953\"],[0.7777777777777778,\"#fb9f3a\"],[0.8888888888888888,\"#fdca26\"],[1.0,\"#f0f921\"]]}],\"choropleth\":[{\"type\":\"choropleth\",\"colorbar\":{\"outlinewidth\":0,\"ticks\":\"\"}}],\"histogram2d\":[{\"type\":\"histogram2d\",\"colorbar\":{\"outlinewidth\":0,\"ticks\":\"\"},\"colorscale\":[[0.0,\"#0d0887\"],[0.1111111111111111,\"#46039f\"],[0.2222222222222222,\"#7201a8\"],[0.3333333333333333,\"#9c179e\"],[0.4444444444444444,\"#bd3786\"],[0.5555555555555556,\"#d8576b\"],[0.6666666666666666,\"#ed7953\"],[0.7777777777777778,\"#fb9f3a\"],[0.8888888888888888,\"#fdca26\"],[1.0,\"#f0f921\"]]}],\"heatmap\":[{\"type\":\"heatmap\",\"colorbar\":{\"outlinewidth\":0,\"ticks\":\"\"},\"colorscale\":[[0.0,\"#0d0887\"],[0.1111111111111111,\"#46039f\"],[0.2222222222222222,\"#7201a8\"],[0.3333333333333333,\"#9c179e\"],[0.4444444444444444,\"#bd3786\"],[0.5555555555555556,\"#d8576b\"],[0.6666666666666666,\"#ed7953\"],[0.7777777777777778,\"#fb9f3a\"],[0.8888888888888888,\"#fdca26\"],[1.0,\"#f0f921\"]]}],\"heatmapgl\":[{\"type\":\"heatmapgl\",\"colorbar\":{\"outlinewidth\":0,\"ticks\":\"\"},\"colorscale\":[[0.0,\"#0d0887\"],[0.1111111111111111,\"#46039f\"],[0.2222222222222222,\"#7201a8\"],[0.3333333333333333,\"#9c179e\"],[0.4444444444444444,\"#bd3786\"],[0.5555555555555556,\"#d8576b\"],[0.6666666666666666,\"#ed7953\"],[0.7777777777777778,\"#fb9f3a\"],[0.8888888888888888,\"#fdca26\"],[1.0,\"#f0f921\"]]}],\"contourcarpet\":[{\"type\":\"contourcarpet\",\"colorbar\":{\"outlinewidth\":0,\"ticks\":\"\"}}],\"contour\":[{\"type\":\"contour\",\"colorbar\":{\"outlinewidth\":0,\"ticks\":\"\"},\"colorscale\":[[0.0,\"#0d0887\"],[0.1111111111111111,\"#46039f\"],[0.2222222222222222,\"#7201a8\"],[0.3333333333333333,\"#9c179e\"],[0.4444444444444444,\"#bd3786\"],[0.5555555555555556,\"#d8576b\"],[0.6666666666666666,\"#ed7953\"],[0.7777777777777778,\"#fb9f3a\"],[0.8888888888888888,\"#fdca26\"],[1.0,\"#f0f921\"]]}],\"surface\":[{\"type\":\"surface\",\"colorbar\":{\"outlinewidth\":0,\"ticks\":\"\"},\"colorscale\":[[0.0,\"#0d0887\"],[0.1111111111111111,\"#46039f\"],[0.2222222222222222,\"#7201a8\"],[0.3333333333333333,\"#9c179e\"],[0.4444444444444444,\"#bd3786\"],[0.5555555555555556,\"#d8576b\"],[0.6666666666666666,\"#ed7953\"],[0.7777777777777778,\"#fb9f3a\"],[0.8888888888888888,\"#fdca26\"],[1.0,\"#f0f921\"]]}],\"mesh3d\":[{\"type\":\"mesh3d\",\"colorbar\":{\"outlinewidth\":0,\"ticks\":\"\"}}],\"scatter\":[{\"fillpattern\":{\"fillmode\":\"overlay\",\"size\":10,\"solidity\":0.2},\"type\":\"scatter\"}],\"parcoords\":[{\"type\":\"parcoords\",\"line\":{\"colorbar\":{\"outlinewidth\":0,\"ticks\":\"\"}}}],\"scatterpolargl\":[{\"type\":\"scatterpolargl\",\"marker\":{\"colorbar\":{\"outlinewidth\":0,\"ticks\":\"\"}}}],\"bar\":[{\"error_x\":{\"color\":\"#2a3f5f\"},\"error_y\":{\"color\":\"#2a3f5f\"},\"marker\":{\"line\":{\"color\":\"#E5ECF6\",\"width\":0.5},\"pattern\":{\"fillmode\":\"overlay\",\"size\":10,\"solidity\":0.2}},\"type\":\"bar\"}],\"scattergeo\":[{\"type\":\"scattergeo\",\"marker\":{\"colorbar\":{\"outlinewidth\":0,\"ticks\":\"\"}}}],\"scatterpolar\":[{\"type\":\"scatterpolar\",\"marker\":{\"colorbar\":{\"outlinewidth\":0,\"ticks\":\"\"}}}],\"histogram\":[{\"marker\":{\"pattern\":{\"fillmode\":\"overlay\",\"size\":10,\"solidity\":0.2}},\"type\":\"histogram\"}],\"scattergl\":[{\"type\":\"scattergl\",\"marker\":{\"colorbar\":{\"outlinewidth\":0,\"ticks\":\"\"}}}],\"scatter3d\":[{\"type\":\"scatter3d\",\"line\":{\"colorbar\":{\"outlinewidth\":0,\"ticks\":\"\"}},\"marker\":{\"colorbar\":{\"outlinewidth\":0,\"ticks\":\"\"}}}],\"scattermapbox\":[{\"type\":\"scattermapbox\",\"marker\":{\"colorbar\":{\"outlinewidth\":0,\"ticks\":\"\"}}}],\"scatterternary\":[{\"type\":\"scatterternary\",\"marker\":{\"colorbar\":{\"outlinewidth\":0,\"ticks\":\"\"}}}],\"scattercarpet\":[{\"type\":\"scattercarpet\",\"marker\":{\"colorbar\":{\"outlinewidth\":0,\"ticks\":\"\"}}}],\"carpet\":[{\"aaxis\":{\"endlinecolor\":\"#2a3f5f\",\"gridcolor\":\"white\",\"linecolor\":\"white\",\"minorgridcolor\":\"white\",\"startlinecolor\":\"#2a3f5f\"},\"baxis\":{\"endlinecolor\":\"#2a3f5f\",\"gridcolor\":\"white\",\"linecolor\":\"white\",\"minorgridcolor\":\"white\",\"startlinecolor\":\"#2a3f5f\"},\"type\":\"carpet\"}],\"table\":[{\"cells\":{\"fill\":{\"color\":\"#EBF0F8\"},\"line\":{\"color\":\"white\"}},\"header\":{\"fill\":{\"color\":\"#C8D4E3\"},\"line\":{\"color\":\"white\"}},\"type\":\"table\"}],\"barpolar\":[{\"marker\":{\"line\":{\"color\":\"#E5ECF6\",\"width\":0.5},\"pattern\":{\"fillmode\":\"overlay\",\"size\":10,\"solidity\":0.2}},\"type\":\"barpolar\"}],\"pie\":[{\"automargin\":true,\"type\":\"pie\"}]},\"layout\":{\"autotypenumbers\":\"strict\",\"colorway\":[\"#636efa\",\"#EF553B\",\"#00cc96\",\"#ab63fa\",\"#FFA15A\",\"#19d3f3\",\"#FF6692\",\"#B6E880\",\"#FF97FF\",\"#FECB52\"],\"font\":{\"color\":\"#2a3f5f\"},\"hovermode\":\"closest\",\"hoverlabel\":{\"align\":\"left\"},\"paper_bgcolor\":\"white\",\"plot_bgcolor\":\"#E5ECF6\",\"polar\":{\"bgcolor\":\"#E5ECF6\",\"angularaxis\":{\"gridcolor\":\"white\",\"linecolor\":\"white\",\"ticks\":\"\"},\"radialaxis\":{\"gridcolor\":\"white\",\"linecolor\":\"white\",\"ticks\":\"\"}},\"ternary\":{\"bgcolor\":\"#E5ECF6\",\"aaxis\":{\"gridcolor\":\"white\",\"linecolor\":\"white\",\"ticks\":\"\"},\"baxis\":{\"gridcolor\":\"white\",\"linecolor\":\"white\",\"ticks\":\"\"},\"caxis\":{\"gridcolor\":\"white\",\"linecolor\":\"white\",\"ticks\":\"\"}},\"coloraxis\":{\"colorbar\":{\"outlinewidth\":0,\"ticks\":\"\"}},\"colorscale\":{\"sequential\":[[0.0,\"#0d0887\"],[0.1111111111111111,\"#46039f\"],[0.2222222222222222,\"#7201a8\"],[0.3333333333333333,\"#9c179e\"],[0.4444444444444444,\"#bd3786\"],[0.5555555555555556,\"#d8576b\"],[0.6666666666666666,\"#ed7953\"],[0.7777777777777778,\"#fb9f3a\"],[0.8888888888888888,\"#fdca26\"],[1.0,\"#f0f921\"]],\"sequentialminus\":[[0.0,\"#0d0887\"],[0.1111111111111111,\"#46039f\"],[0.2222222222222222,\"#7201a8\"],[0.3333333333333333,\"#9c179e\"],[0.4444444444444444,\"#bd3786\"],[0.5555555555555556,\"#d8576b\"],[0.6666666666666666,\"#ed7953\"],[0.7777777777777778,\"#fb9f3a\"],[0.8888888888888888,\"#fdca26\"],[1.0,\"#f0f921\"]],\"diverging\":[[0,\"#8e0152\"],[0.1,\"#c51b7d\"],[0.2,\"#de77ae\"],[0.3,\"#f1b6da\"],[0.4,\"#fde0ef\"],[0.5,\"#f7f7f7\"],[0.6,\"#e6f5d0\"],[0.7,\"#b8e186\"],[0.8,\"#7fbc41\"],[0.9,\"#4d9221\"],[1,\"#276419\"]]},\"xaxis\":{\"gridcolor\":\"white\",\"linecolor\":\"white\",\"ticks\":\"\",\"title\":{\"standoff\":15},\"zerolinecolor\":\"white\",\"automargin\":true,\"zerolinewidth\":2},\"yaxis\":{\"gridcolor\":\"white\",\"linecolor\":\"white\",\"ticks\":\"\",\"title\":{\"standoff\":15},\"zerolinecolor\":\"white\",\"automargin\":true,\"zerolinewidth\":2},\"scene\":{\"xaxis\":{\"backgroundcolor\":\"#E5ECF6\",\"gridcolor\":\"white\",\"linecolor\":\"white\",\"showbackground\":true,\"ticks\":\"\",\"zerolinecolor\":\"white\",\"gridwidth\":2},\"yaxis\":{\"backgroundcolor\":\"#E5ECF6\",\"gridcolor\":\"white\",\"linecolor\":\"white\",\"showbackground\":true,\"ticks\":\"\",\"zerolinecolor\":\"white\",\"gridwidth\":2},\"zaxis\":{\"backgroundcolor\":\"#E5ECF6\",\"gridcolor\":\"white\",\"linecolor\":\"white\",\"showbackground\":true,\"ticks\":\"\",\"zerolinecolor\":\"white\",\"gridwidth\":2}},\"shapedefaults\":{\"line\":{\"color\":\"#2a3f5f\"}},\"annotationdefaults\":{\"arrowcolor\":\"#2a3f5f\",\"arrowhead\":0,\"arrowwidth\":1},\"geo\":{\"bgcolor\":\"white\",\"landcolor\":\"#E5ECF6\",\"subunitcolor\":\"white\",\"showland\":true,\"showlakes\":true,\"lakecolor\":\"white\"},\"title\":{\"x\":0.05},\"mapbox\":{\"style\":\"light\"}}},\"xaxis\":{\"anchor\":\"y\",\"domain\":[0.0,1.0],\"title\":{\"text\":\"Facing\"}},\"yaxis\":{\"anchor\":\"x\",\"domain\":[0.0,1.0]},\"legend\":{\"tracegroupgap\":0},\"margin\":{\"t\":60},\"boxmode\":\"group\"},                        {\"responsive\": true}                    ).then(function(){\n",
              "                            \n",
              "var gd = document.getElementById('d66a5ac5-b1d3-46f4-8e40-1d6f58b796ea');\n",
              "var x = new MutationObserver(function (mutations, observer) {{\n",
              "        var display = window.getComputedStyle(gd).display;\n",
              "        if (!display || display === 'none') {{\n",
              "            console.log([gd, 'removed!']);\n",
              "            Plotly.purge(gd);\n",
              "            observer.disconnect();\n",
              "        }}\n",
              "}});\n",
              "\n",
              "// Listen for the removal of the full notebook cells\n",
              "var notebookContainer = gd.closest('#notebook-container');\n",
              "if (notebookContainer) {{\n",
              "    x.observe(notebookContainer, {childList: true});\n",
              "}}\n",
              "\n",
              "// Listen for the clearing of the current output cell\n",
              "var outputEl = gd.closest('.output');\n",
              "if (outputEl) {{\n",
              "    x.observe(outputEl, {childList: true});\n",
              "}}\n",
              "\n",
              "                        })                };                            </script>        </div>\n",
              "</body>\n",
              "</html>"
            ]
          },
          "metadata": {}
        }
      ],
      "source": [
        "#data.info()\n",
        "px.box(data,x='Facing')"
      ]
    },
    {
      "cell_type": "code",
      "execution_count": null,
      "id": "cca3f94a",
      "metadata": {
        "id": "cca3f94a"
      },
      "outputs": [],
      "source": [
        "#Removing Outliers from the dataframe -->we will create a final dataframe\n",
        "def remove_outliers(df, threshold=3):\n",
        "    df_cleaned = df.copy() #copy of dataframe\n",
        "    #The threshold value determines how far from the first and third quartiles a data point must be to be considered an outlier\n",
        "    for col in df_cleaned.select_dtypes(include=['int64',\n",
        "                                               'float64']).columns:\n",
        "        Q1 = df_cleaned[col].quantile(0.25) #25th percentile\n",
        "        Q3 = df_cleaned[col].quantile(0.75) #75th percentile\n",
        "        IQR = Q3 - Q1 #InterQuantile Range\n",
        "        lower_bound = Q1 - threshold * IQR\n",
        "        upper_bound = Q3 + threshold * IQR\n",
        "\n",
        "        #Filter the DataFrame to keep only the rows where the\n",
        "        #column values are within the calculated bounds,\n",
        "        #effectively removing outliers\n",
        "        df_cleaned = df_cleaned[\n",
        "            (df_cleaned[col] >= lower_bound) &\n",
        "            (df_cleaned[col] <= upper_bound)\n",
        "        ]\n",
        "    return df_cleaned"
      ]
    },
    {
      "cell_type": "code",
      "execution_count": null,
      "id": "314c3cf2",
      "metadata": {
        "id": "314c3cf2"
      },
      "outputs": [],
      "source": [
        "def remove_outliers(df, threshold=3):\n",
        "    df_cleaned = df.copy()\n",
        "\n",
        "    total_outliers = 0  # Initialize a variable to count total outliers.\n",
        "\n",
        "    for col in df_cleaned.select_dtypes(include=['int64', 'float64']).columns:\n",
        "        Q1 = df_cleaned[col].quantile(0.25)\n",
        "        Q3 = df_cleaned[col].quantile(0.75)\n",
        "\n",
        "        IQR = Q3 - Q1\n",
        "\n",
        "        lower_bound = Q1 - threshold * IQR\n",
        "        upper_bound = Q3 + threshold * IQR\n",
        "\n",
        "        outliers = (df_cleaned[col] < lower_bound) | (df_cleaned[col] > upper_bound)\n",
        "\n",
        "        total_outliers += outliers.sum()  # Count outliers in the current column.\n",
        "\n",
        "        df_cleaned = df_cleaned[~outliers]\n",
        "\n",
        "    percentage_outliers = (total_outliers / df.shape[0]) * 100  # Calculate the percentage of outliers.\n",
        "\n",
        "    return df_cleaned, percentage_outliers\n"
      ]
    },
    {
      "cell_type": "code",
      "execution_count": null,
      "id": "5ea0fe11",
      "metadata": {
        "id": "5ea0fe11",
        "outputId": "f0c16c5b-a226-4d18-a91d-13f0bf31240a"
      },
      "outputs": [
        {
          "data": {
            "text/html": [
              "<div>\n",
              "<style scoped>\n",
              "    .dataframe tbody tr th:only-of-type {\n",
              "        vertical-align: middle;\n",
              "    }\n",
              "\n",
              "    .dataframe tbody tr th {\n",
              "        vertical-align: top;\n",
              "    }\n",
              "\n",
              "    .dataframe thead th {\n",
              "        text-align: right;\n",
              "    }\n",
              "</style>\n",
              "<table border=\"1\" class=\"dataframe\">\n",
              "  <thead>\n",
              "    <tr style=\"text-align: right;\">\n",
              "      <th></th>\n",
              "      <th>Bedrooms</th>\n",
              "      <th>Bathrooms</th>\n",
              "      <th>Status</th>\n",
              "      <th>Size</th>\n",
              "      <th>Location</th>\n",
              "      <th>Price</th>\n",
              "      <th>Facing</th>\n",
              "      <th>Type</th>\n",
              "    </tr>\n",
              "  </thead>\n",
              "  <tbody>\n",
              "    <tr>\n",
              "      <th>0</th>\n",
              "      <td>2</td>\n",
              "      <td>0</td>\n",
              "      <td>1</td>\n",
              "      <td>1175</td>\n",
              "      <td>33</td>\n",
              "      <td>35.83</td>\n",
              "      <td>1</td>\n",
              "      <td>0</td>\n",
              "    </tr>\n",
              "    <tr>\n",
              "      <th>1</th>\n",
              "      <td>2</td>\n",
              "      <td>0</td>\n",
              "      <td>1</td>\n",
              "      <td>1221</td>\n",
              "      <td>33</td>\n",
              "      <td>37.24</td>\n",
              "      <td>1</td>\n",
              "      <td>0</td>\n",
              "    </tr>\n",
              "    <tr>\n",
              "      <th>2</th>\n",
              "      <td>2</td>\n",
              "      <td>0</td>\n",
              "      <td>1</td>\n",
              "      <td>1191</td>\n",
              "      <td>33</td>\n",
              "      <td>36.32</td>\n",
              "      <td>1</td>\n",
              "      <td>0</td>\n",
              "    </tr>\n",
              "    <tr>\n",
              "      <th>3</th>\n",
              "      <td>3</td>\n",
              "      <td>3</td>\n",
              "      <td>1</td>\n",
              "      <td>1587</td>\n",
              "      <td>55</td>\n",
              "      <td>55.50</td>\n",
              "      <td>8</td>\n",
              "      <td>0</td>\n",
              "    </tr>\n",
              "    <tr>\n",
              "      <th>4</th>\n",
              "      <td>0</td>\n",
              "      <td>0</td>\n",
              "      <td>2</td>\n",
              "      <td>1560</td>\n",
              "      <td>31</td>\n",
              "      <td>15.50</td>\n",
              "      <td>0</td>\n",
              "      <td>3</td>\n",
              "    </tr>\n",
              "    <tr>\n",
              "      <th>...</th>\n",
              "      <td>...</td>\n",
              "      <td>...</td>\n",
              "      <td>...</td>\n",
              "      <td>...</td>\n",
              "      <td>...</td>\n",
              "      <td>...</td>\n",
              "      <td>...</td>\n",
              "      <td>...</td>\n",
              "    </tr>\n",
              "    <tr>\n",
              "      <th>1053</th>\n",
              "      <td>0</td>\n",
              "      <td>0</td>\n",
              "      <td>2</td>\n",
              "      <td>1314</td>\n",
              "      <td>2</td>\n",
              "      <td>45.26</td>\n",
              "      <td>8</td>\n",
              "      <td>3</td>\n",
              "    </tr>\n",
              "    <tr>\n",
              "      <th>1055</th>\n",
              "      <td>0</td>\n",
              "      <td>0</td>\n",
              "      <td>2</td>\n",
              "      <td>1728</td>\n",
              "      <td>13</td>\n",
              "      <td>30.72</td>\n",
              "      <td>0</td>\n",
              "      <td>3</td>\n",
              "    </tr>\n",
              "    <tr>\n",
              "      <th>1056</th>\n",
              "      <td>0</td>\n",
              "      <td>0</td>\n",
              "      <td>0</td>\n",
              "      <td>25</td>\n",
              "      <td>7</td>\n",
              "      <td>8.00</td>\n",
              "      <td>1</td>\n",
              "      <td>3</td>\n",
              "    </tr>\n",
              "    <tr>\n",
              "      <th>1057</th>\n",
              "      <td>0</td>\n",
              "      <td>0</td>\n",
              "      <td>2</td>\n",
              "      <td>1287</td>\n",
              "      <td>31</td>\n",
              "      <td>14.00</td>\n",
              "      <td>1</td>\n",
              "      <td>3</td>\n",
              "    </tr>\n",
              "    <tr>\n",
              "      <th>1058</th>\n",
              "      <td>0</td>\n",
              "      <td>0</td>\n",
              "      <td>2</td>\n",
              "      <td>2060</td>\n",
              "      <td>4</td>\n",
              "      <td>85.00</td>\n",
              "      <td>1</td>\n",
              "      <td>3</td>\n",
              "    </tr>\n",
              "  </tbody>\n",
              "</table>\n",
              "<p>935 rows × 8 columns</p>\n",
              "</div>"
            ],
            "text/plain": [
              "      Bedrooms  Bathrooms  Status  Size  Location  Price  Facing  Type\n",
              "0            2          0       1  1175        33  35.83       1     0\n",
              "1            2          0       1  1221        33  37.24       1     0\n",
              "2            2          0       1  1191        33  36.32       1     0\n",
              "3            3          3       1  1587        55  55.50       8     0\n",
              "4            0          0       2  1560        31  15.50       0     3\n",
              "...        ...        ...     ...   ...       ...    ...     ...   ...\n",
              "1053         0          0       2  1314         2  45.26       8     3\n",
              "1055         0          0       2  1728        13  30.72       0     3\n",
              "1056         0          0       0    25         7   8.00       1     3\n",
              "1057         0          0       2  1287        31  14.00       1     3\n",
              "1058         0          0       2  2060         4  85.00       1     3\n",
              "\n",
              "[935 rows x 8 columns]"
            ]
          },
          "execution_count": 102,
          "metadata": {},
          "output_type": "execute_result"
        }
      ],
      "source": [
        "df = remove_outliers(data)\n",
        "df"
      ]
    },
    {
      "cell_type": "code",
      "execution_count": null,
      "id": "d2b80e86",
      "metadata": {
        "id": "d2b80e86",
        "outputId": "7f16e378-2d81-44e8-c0f7-0d88601d5f41"
      },
      "outputs": [
        {
          "name": "stdout",
          "output_type": "stream",
          "text": [
            "<class 'pandas.core.frame.DataFrame'>\n",
            "Int64Index: 935 entries, 0 to 1058\n",
            "Data columns (total 8 columns):\n",
            " #   Column     Non-Null Count  Dtype  \n",
            "---  ------     --------------  -----  \n",
            " 0   Bedrooms   935 non-null    int64  \n",
            " 1   Bathrooms  935 non-null    int64  \n",
            " 2   Status     935 non-null    int32  \n",
            " 3   Size       935 non-null    int64  \n",
            " 4   Location   935 non-null    int32  \n",
            " 5   Price      935 non-null    float64\n",
            " 6   Facing     935 non-null    int32  \n",
            " 7   Type       935 non-null    int32  \n",
            "dtypes: float64(1), int32(4), int64(3)\n",
            "memory usage: 51.1 KB\n"
          ]
        }
      ],
      "source": [
        "#We will create a csv file from the above data\n",
        "#df.info()\n",
        "df.to_csv(\"House.csv\")\n",
        "df.info()"
      ]
    },
    {
      "cell_type": "code",
      "execution_count": null,
      "id": "d42ce305",
      "metadata": {
        "id": "d42ce305"
      },
      "outputs": [],
      "source": [
        "df['Bathrooms'] = df['Bathrooms'].astype('int64')"
      ]
    },
    {
      "cell_type": "code",
      "execution_count": null,
      "id": "68f915c0",
      "metadata": {
        "id": "68f915c0",
        "outputId": "d0462e74-5112-46b4-9eb4-602b5c55928a"
      },
      "outputs": [
        {
          "name": "stdout",
          "output_type": "stream",
          "text": [
            "<class 'pandas.core.frame.DataFrame'>\n",
            "Int64Index: 935 entries, 0 to 1058\n",
            "Data columns (total 8 columns):\n",
            " #   Column     Non-Null Count  Dtype  \n",
            "---  ------     --------------  -----  \n",
            " 0   Bedrooms   935 non-null    int64  \n",
            " 1   Bathrooms  935 non-null    int64  \n",
            " 2   Status     935 non-null    int32  \n",
            " 3   Size       935 non-null    int64  \n",
            " 4   Location   935 non-null    int32  \n",
            " 5   Price      935 non-null    float64\n",
            " 6   Facing     935 non-null    int32  \n",
            " 7   Type       935 non-null    int32  \n",
            "dtypes: float64(1), int32(4), int64(3)\n",
            "memory usage: 51.1 KB\n"
          ]
        }
      ],
      "source": [
        "df.info()"
      ]
    },
    {
      "cell_type": "code",
      "execution_count": null,
      "id": "71ecabd1",
      "metadata": {
        "id": "71ecabd1",
        "outputId": "06141955-c2b9-447e-99d0-39b16e362dc8"
      },
      "outputs": [
        {
          "data": {
            "text/plain": [
              "Index(['Unnamed: 0', 'Bedrooms', 'Bathrooms', 'Status', 'Size', 'Location',\n",
              "       'Price', 'Facing', 'Type'],\n",
              "      dtype='object')"
            ]
          },
          "execution_count": 117,
          "metadata": {},
          "output_type": "execute_result"
        }
      ],
      "source": [
        "data = pd.read_csv('House.csv')\n",
        "#data\n",
        "data.columns"
      ]
    },
    {
      "cell_type": "code",
      "execution_count": null,
      "id": "be33c002",
      "metadata": {
        "id": "be33c002"
      },
      "outputs": [],
      "source": [
        "data.drop(columns=['Unnamed: 0'],inplace=True)"
      ]
    },
    {
      "cell_type": "code",
      "execution_count": null,
      "id": "1aed1856",
      "metadata": {
        "id": "1aed1856",
        "outputId": "63b2dc00-bcb8-4da1-f9ea-bca8f1939124"
      },
      "outputs": [
        {
          "name": "stdout",
          "output_type": "stream",
          "text": [
            "<class 'pandas.core.frame.DataFrame'>\n",
            "RangeIndex: 935 entries, 0 to 934\n",
            "Data columns (total 8 columns):\n",
            " #   Column     Non-Null Count  Dtype  \n",
            "---  ------     --------------  -----  \n",
            " 0   Bedrooms   935 non-null    int64  \n",
            " 1   Bathrooms  935 non-null    int64  \n",
            " 2   Status     935 non-null    int64  \n",
            " 3   Size       935 non-null    int64  \n",
            " 4   Location   935 non-null    int64  \n",
            " 5   Price      935 non-null    float64\n",
            " 6   Facing     935 non-null    int64  \n",
            " 7   Type       935 non-null    int64  \n",
            "dtypes: float64(1), int64(7)\n",
            "memory usage: 58.6 KB\n"
          ]
        }
      ],
      "source": [
        "data.info()"
      ]
    },
    {
      "cell_type": "code",
      "execution_count": null,
      "id": "c5578b0b",
      "metadata": {
        "id": "c5578b0b"
      },
      "outputs": [],
      "source": [
        "#We will get into Modelling\n",
        "from sklearn.model_selection import train_test_split\n",
        "from sklearn.linear_model import LinearRegression"
      ]
    },
    {
      "cell_type": "code",
      "execution_count": null,
      "id": "1c66fc43",
      "metadata": {
        "id": "1c66fc43"
      },
      "outputs": [],
      "source": [
        "#divide our data into dependent and independent variables\n",
        "x = data.drop(columns=['Price'])\n",
        "y = data['Price']"
      ]
    },
    {
      "cell_type": "code",
      "execution_count": null,
      "id": "195c0679",
      "metadata": {
        "id": "195c0679"
      },
      "outputs": [],
      "source": [
        "#let's understand about splitting the data by understanding\n",
        "#below example\n",
        "import numpy as np\n",
        "a,b = np.arange(10).reshape(5,2),range(5)"
      ]
    },
    {
      "cell_type": "code",
      "execution_count": null,
      "id": "f93f4850",
      "metadata": {
        "id": "f93f4850"
      },
      "outputs": [],
      "source": [
        "#print(a)\n",
        "#print(b)"
      ]
    },
    {
      "cell_type": "code",
      "execution_count": null,
      "id": "3ea07c93",
      "metadata": {
        "id": "3ea07c93",
        "outputId": "51d13190-b78c-4051-bceb-563a99108b4e"
      },
      "outputs": [
        {
          "name": "stdout",
          "output_type": "stream",
          "text": [
            "[[2 3]\n",
            " [8 9]\n",
            " [4 5]]\n",
            "[[0 1]\n",
            " [6 7]]\n",
            "[1, 4, 2]\n",
            "[0, 3]\n"
          ]
        }
      ],
      "source": [
        "w,x,y,z=train_test_split(a,b) #as there is no consistency in data\n",
        "print(w)\n",
        "print(x)\n",
        "print(y)\n",
        "print(z)"
      ]
    },
    {
      "cell_type": "code",
      "execution_count": null,
      "id": "38259c5d",
      "metadata": {
        "id": "38259c5d",
        "outputId": "39b268cf-5a5c-4ffa-e2db-c38269136bed"
      },
      "outputs": [
        {
          "name": "stdout",
          "output_type": "stream",
          "text": [
            "[[8 9]\n",
            " [0 1]\n",
            " [6 7]]\n",
            "[[4 5]\n",
            " [2 3]]\n",
            "[4, 0, 3]\n",
            "[2, 1]\n"
          ]
        }
      ],
      "source": [
        "w,x,y,z=train_test_split(a,b,random_state=1) # now there is consistency in data\n",
        "print(w)\n",
        "print(x)\n",
        "print(y)\n",
        "print(z)"
      ]
    },
    {
      "cell_type": "code",
      "execution_count": null,
      "id": "3dc04646",
      "metadata": {
        "id": "3dc04646"
      },
      "outputs": [],
      "source": [
        "x_train,x_test,y_train,y_test = train_test_split(x,y,test_size=0.3,\n",
        "                                                random_state=3)"
      ]
    },
    {
      "cell_type": "code",
      "execution_count": null,
      "id": "5b4c18d1",
      "metadata": {
        "id": "5b4c18d1",
        "outputId": "83f34a84-a16d-49b9-d486-5d5b44f5c749"
      },
      "outputs": [
        {
          "name": "stdout",
          "output_type": "stream",
          "text": [
            "654\n",
            "281\n"
          ]
        }
      ],
      "source": [
        "print(len(x_train))\n",
        "print(len(x_test))"
      ]
    },
    {
      "cell_type": "code",
      "execution_count": null,
      "id": "c9ad4629",
      "metadata": {
        "id": "c9ad4629"
      },
      "outputs": [],
      "source": [
        "#x_train"
      ]
    },
    {
      "cell_type": "code",
      "execution_count": null,
      "id": "db3a9505",
      "metadata": {
        "id": "db3a9505"
      },
      "outputs": [],
      "source": [
        "#model creation\n",
        "model = LinearRegression()"
      ]
    },
    {
      "cell_type": "code",
      "execution_count": null,
      "id": "10566ab2",
      "metadata": {
        "id": "10566ab2",
        "outputId": "e8a22a9f-05fb-47d5-d08d-00b5776cc85f"
      },
      "outputs": [
        {
          "data": {
            "text/plain": [
              "LinearRegression()"
            ]
          },
          "execution_count": 167,
          "metadata": {},
          "output_type": "execute_result"
        }
      ],
      "source": [
        "#fit the data to the model(training data)\n",
        "model.fit(x_train,y_train)"
      ]
    },
    {
      "cell_type": "code",
      "execution_count": null,
      "id": "9b4bb9f5",
      "metadata": {
        "id": "9b4bb9f5"
      },
      "outputs": [],
      "source": [
        "#we will check the performance metrics -->R-SQuared value,mean_squared erro\n",
        "from sklearn.metrics import mean_squared_error,r2_score"
      ]
    },
    {
      "cell_type": "code",
      "execution_count": null,
      "id": "20acdacb",
      "metadata": {
        "id": "20acdacb"
      },
      "outputs": [],
      "source": [
        "#before checking the scores let's evaluate the coefficients\n",
        "#print(dir(model))\n",
        "linear_coeffs = pd.DataFrame({'Features':x.columns,\n",
        "                             'Coefficients':model.coef_})\n",
        "#linear_coeffs"
      ]
    },
    {
      "cell_type": "code",
      "execution_count": null,
      "id": "5c856510",
      "metadata": {
        "id": "5c856510"
      },
      "outputs": [],
      "source": [
        "#checking for predictions and performance metrics\n",
        "y_pred = model.predict(x_test)"
      ]
    },
    {
      "cell_type": "code",
      "execution_count": null,
      "id": "b08243ac",
      "metadata": {
        "id": "b08243ac",
        "outputId": "ebee64bc-e512-42dc-b335-01f965794666"
      },
      "outputs": [
        {
          "name": "stdout",
          "output_type": "stream",
          "text": [
            "Linear Regression Metrics:\n",
            "R-Squared value is 0.6202750302170772\n",
            "Mean Squared Error is 242.45139702292877\n"
          ]
        }
      ],
      "source": [
        "print(\"Linear Regression Metrics:\")\n",
        "print(\"R-Squared value is\",r2_score(y_test,y_pred))\n",
        "print(\"Mean Squared Error is\",mean_squared_error(y_test,y_pred))"
      ]
    },
    {
      "cell_type": "code",
      "execution_count": null,
      "id": "99045769",
      "metadata": {
        "id": "99045769",
        "outputId": "d939a853-c77a-4ab9-8cdf-4d6caff55f6c"
      },
      "outputs": [
        {
          "name": "stdout",
          "output_type": "stream",
          "text": [
            "<class 'pandas.core.frame.DataFrame'>\n",
            "RangeIndex: 935 entries, 0 to 934\n",
            "Data columns (total 8 columns):\n",
            " #   Column     Non-Null Count  Dtype  \n",
            "---  ------     --------------  -----  \n",
            " 0   Bedrooms   935 non-null    int64  \n",
            " 1   Bathrooms  935 non-null    int64  \n",
            " 2   Status     935 non-null    int64  \n",
            " 3   Size       935 non-null    int64  \n",
            " 4   Location   935 non-null    int64  \n",
            " 5   Price      935 non-null    float64\n",
            " 6   Facing     935 non-null    int64  \n",
            " 7   Type       935 non-null    int64  \n",
            "dtypes: float64(1), int64(7)\n",
            "memory usage: 58.6 KB\n"
          ]
        }
      ],
      "source": [
        "data.info()"
      ]
    },
    {
      "cell_type": "code",
      "execution_count": null,
      "id": "7b8200d0",
      "metadata": {
        "id": "7b8200d0",
        "outputId": "f43a8e6d-a258-4fad-9720-8bf2799a3942"
      },
      "outputs": [
        {
          "name": "stdout",
          "output_type": "stream",
          "text": [
            "Enter no of bedrooms:2\n",
            "Enter no of bathrooms:2\n",
            "Enter Location:0\n",
            "Enter size:1200\n",
            "Enter status:1\n",
            "Enter facing:1\n",
            "Enter Type:0\n"
          ]
        }
      ],
      "source": [
        "#let's pass some inputs and validate it then will create pickle file\n",
        "#from our finetuned model\n",
        "bed = int(input('Enter no of bedrooms:'))\n",
        "bath = int(input('Enter no of bathrooms:'))\n",
        "loc = int(input('Enter Location:'))\n",
        "size = int(input('Enter size:'))\n",
        "status = int(input('Enter status:'))\n",
        "facing = int(input('Enter facing:'))\n",
        "Type = int(input('Enter Type:'))"
      ]
    },
    {
      "cell_type": "code",
      "execution_count": null,
      "id": "2f7a42f9",
      "metadata": {
        "id": "2f7a42f9",
        "outputId": "06714d11-3374-4df6-b31a-7c53db85be71"
      },
      "outputs": [
        {
          "name": "stdout",
          "output_type": "stream",
          "text": [
            "House Price Predicted is 43.31681065071236 Lakhs\n"
          ]
        },
        {
          "name": "stderr",
          "output_type": "stream",
          "text": [
            "C:\\Users\\codeg\\AppData\\Local\\Programs\\Python\\Python310\\lib\\site-packages\\sklearn\\base.py:450: UserWarning:\n",
            "\n",
            "X does not have valid feature names, but LinearRegression was fitted with feature names\n",
            "\n"
          ]
        }
      ],
      "source": [
        "#now we will test for the above data\n",
        "import numpy as np\n",
        "input_data = np.array([[bed,bath,loc,size,status,facing,Type]])\n",
        "result = model.predict(input_data)[0]\n",
        "print(f'House Price Predicted is {result} Lakhs')"
      ]
    },
    {
      "cell_type": "code",
      "execution_count": null,
      "id": "d2da1617",
      "metadata": {
        "id": "d2da1617"
      },
      "outputs": [],
      "source": [
        "#we will create a pickle file for our finally trained model\n",
        "import pickle"
      ]
    },
    {
      "cell_type": "code",
      "execution_count": null,
      "id": "006f9707",
      "metadata": {
        "id": "006f9707"
      },
      "outputs": [],
      "source": [
        "#open() function for creating our new files and also reading\n",
        "with open(\"House.pkl\",'wb') as f:\n",
        "    pickle.dump(model,f)"
      ]
    },
    {
      "cell_type": "code",
      "execution_count": null,
      "id": "9ee4b445",
      "metadata": {
        "id": "9ee4b445"
      },
      "outputs": [],
      "source": [
        "#we will use our pickle file for predictions\n",
        "predicted_model = pickle.load(open('House.pkl','rb'))"
      ]
    },
    {
      "cell_type": "code",
      "execution_count": null,
      "id": "a7f0dea7",
      "metadata": {
        "id": "a7f0dea7",
        "outputId": "a7a618f4-51fa-4f49-f841-7d2cd7a9d906"
      },
      "outputs": [
        {
          "name": "stderr",
          "output_type": "stream",
          "text": [
            "C:\\Users\\codeg\\AppData\\Local\\Programs\\Python\\Python310\\lib\\site-packages\\sklearn\\base.py:450: UserWarning:\n",
            "\n",
            "X does not have valid feature names, but LinearRegression was fitted with feature names\n",
            "\n"
          ]
        },
        {
          "data": {
            "text/plain": [
              "array([43.31681065])"
            ]
          },
          "execution_count": 187,
          "metadata": {},
          "output_type": "execute_result"
        }
      ],
      "source": [
        "predicted_model.predict(input_data)"
      ]
    },
    {
      "cell_type": "code",
      "execution_count": null,
      "id": "41e1c7af",
      "metadata": {
        "id": "41e1c7af",
        "outputId": "d2611d31-397b-4601-d7c9-7b170b12a7fe"
      },
      "outputs": [
        {
          "name": "stdout",
          "output_type": "stream",
          "text": [
            "Collecting streamlit"
          ]
        },
        {
          "name": "stderr",
          "output_type": "stream",
          "text": [
            "\n",
            "[notice] A new release of pip is available: 23.2.1 -> 23.3.1\n",
            "[notice] To update, run: python.exe -m pip install --upgrade pip\n"
          ]
        },
        {
          "name": "stdout",
          "output_type": "stream",
          "text": [
            "\n",
            "  Obtaining dependency information for streamlit from https://files.pythonhosted.org/packages/df/e2/e1c8e3abce0e819a4ef3c6a5af4ddbb1eadbca0cf2ebd5e58853edcd58bd/streamlit-1.28.1-py2.py3-none-any.whl.metadata\n",
            "  Downloading streamlit-1.28.1-py2.py3-none-any.whl.metadata (8.1 kB)\n",
            "Collecting altair<6,>=4.0 (from streamlit)\n",
            "  Obtaining dependency information for altair<6,>=4.0 from https://files.pythonhosted.org/packages/17/16/b12fca347ff9d062e3c44ad9641d2ec50364570a059f3078ada3a5119d7a/altair-5.1.2-py3-none-any.whl.metadata\n",
            "  Downloading altair-5.1.2-py3-none-any.whl.metadata (8.6 kB)\n",
            "Collecting blinker<2,>=1.0.0 (from streamlit)\n",
            "  Obtaining dependency information for blinker<2,>=1.0.0 from https://files.pythonhosted.org/packages/fa/2a/7f3714cbc6356a0efec525ce7a0613d581072ed6eb53eb7b9754f33db807/blinker-1.7.0-py3-none-any.whl.metadata\n",
            "  Using cached blinker-1.7.0-py3-none-any.whl.metadata (1.9 kB)\n",
            "Collecting cachetools<6,>=4.0 (from streamlit)\n",
            "  Obtaining dependency information for cachetools<6,>=4.0 from https://files.pythonhosted.org/packages/a2/91/2d843adb9fbd911e0da45fbf6f18ca89d07a087c3daa23e955584f90ebf4/cachetools-5.3.2-py3-none-any.whl.metadata\n",
            "  Downloading cachetools-5.3.2-py3-none-any.whl.metadata (5.2 kB)\n",
            "Collecting click<9,>=7.0 (from streamlit)\n",
            "  Obtaining dependency information for click<9,>=7.0 from https://files.pythonhosted.org/packages/00/2e/d53fa4befbf2cfa713304affc7ca780ce4fc1fd8710527771b58311a3229/click-8.1.7-py3-none-any.whl.metadata\n",
            "  Using cached click-8.1.7-py3-none-any.whl.metadata (3.0 kB)\n",
            "Collecting importlib-metadata<7,>=1.4 (from streamlit)\n",
            "  Obtaining dependency information for importlib-metadata<7,>=1.4 from https://files.pythonhosted.org/packages/cc/37/db7ba97e676af155f5fcb1a35466f446eadc9104e25b83366e8088c9c926/importlib_metadata-6.8.0-py3-none-any.whl.metadata\n",
            "  Downloading importlib_metadata-6.8.0-py3-none-any.whl.metadata (5.1 kB)\n",
            "Requirement already satisfied: numpy<2,>=1.19.3 in c:\\users\\codeg\\desktop\\nbkr\\saketh\\lib\\site-packages (from streamlit) (1.26.1)\n",
            "Requirement already satisfied: packaging<24,>=16.8 in c:\\users\\codeg\\desktop\\nbkr\\saketh\\lib\\site-packages (from streamlit) (23.2)\n",
            "Requirement already satisfied: pandas<3,>=1.3.0 in c:\\users\\codeg\\desktop\\nbkr\\saketh\\lib\\site-packages (from streamlit) (2.1.2)\n",
            "Requirement already satisfied: pillow<11,>=7.1.0 in c:\\users\\codeg\\desktop\\nbkr\\saketh\\lib\\site-packages (from streamlit) (10.1.0)\n",
            "Collecting protobuf<5,>=3.20 (from streamlit)\n",
            "  Obtaining dependency information for protobuf<5,>=3.20 from https://files.pythonhosted.org/packages/72/eb/a07cc36ed9b119062886935a8371da8a977dda30b19cf57fe9162589b6f7/protobuf-4.25.0-cp310-abi3-win_amd64.whl.metadata\n",
            "  Downloading protobuf-4.25.0-cp310-abi3-win_amd64.whl.metadata (541 bytes)\n",
            "Collecting pyarrow>=6.0 (from streamlit)\n",
            "  Obtaining dependency information for pyarrow>=6.0 from https://files.pythonhosted.org/packages/7f/ab/2c69e9ac0a7629e0787fc1bf8dbe9064c6de814077810e62311f564863a6/pyarrow-14.0.1-cp310-cp310-win_amd64.whl.metadata\n",
            "  Downloading pyarrow-14.0.1-cp310-cp310-win_amd64.whl.metadata (3.1 kB)\n",
            "Requirement already satisfied: python-dateutil<3,>=2.7.3 in c:\\users\\codeg\\desktop\\nbkr\\saketh\\lib\\site-packages (from streamlit) (2.8.2)\n",
            "Requirement already satisfied: requests<3,>=2.27 in c:\\users\\codeg\\desktop\\nbkr\\saketh\\lib\\site-packages (from streamlit) (2.31.0)\n",
            "Collecting rich<14,>=10.14.0 (from streamlit)\n",
            "  Obtaining dependency information for rich<14,>=10.14.0 from https://files.pythonhosted.org/packages/be/2a/4e62ff633612f746f88618852a626bbe24226eba5e7ac90e91dcfd6a414e/rich-13.6.0-py3-none-any.whl.metadata\n",
            "  Downloading rich-13.6.0-py3-none-any.whl.metadata (18 kB)\n",
            "Requirement already satisfied: tenacity<9,>=8.1.0 in c:\\users\\codeg\\desktop\\nbkr\\saketh\\lib\\site-packages (from streamlit) (8.2.3)\n",
            "Collecting toml<2,>=0.10.1 (from streamlit)\n",
            "  Using cached toml-0.10.2-py2.py3-none-any.whl (16 kB)\n",
            "Requirement already satisfied: typing-extensions<5,>=4.3.0 in c:\\users\\codeg\\desktop\\nbkr\\saketh\\lib\\site-packages (from streamlit) (4.8.0)\n",
            "Collecting tzlocal<6,>=1.1 (from streamlit)\n",
            "  Obtaining dependency information for tzlocal<6,>=1.1 from https://files.pythonhosted.org/packages/97/3f/c4c51c55ff8487f2e6d0e618dba917e3c3ee2caae6cf0fbb59c9b1876f2e/tzlocal-5.2-py3-none-any.whl.metadata\n",
            "  Downloading tzlocal-5.2-py3-none-any.whl.metadata (7.8 kB)\n",
            "Collecting validators<1,>=0.2 (from streamlit)\n",
            "  Obtaining dependency information for validators<1,>=0.2 from https://files.pythonhosted.org/packages/3a/0c/785d317eea99c3739821718f118c70537639aa43f96bfa1d83a71f68eaf6/validators-0.22.0-py3-none-any.whl.metadata\n",
            "  Downloading validators-0.22.0-py3-none-any.whl.metadata (4.7 kB)\n",
            "Collecting gitpython!=3.1.19,<4,>=3.0.7 (from streamlit)\n",
            "  Obtaining dependency information for gitpython!=3.1.19,<4,>=3.0.7 from https://files.pythonhosted.org/packages/8d/c4/82b858fb6483dfb5e338123c154d19c043305b01726a67d89532b8f8f01b/GitPython-3.1.40-py3-none-any.whl.metadata\n",
            "  Downloading GitPython-3.1.40-py3-none-any.whl.metadata (12 kB)\n",
            "Collecting pydeck<1,>=0.8.0b4 (from streamlit)\n",
            "  Downloading pydeck-0.8.1b0-py2.py3-none-any.whl (4.8 MB)\n",
            "     ---------------------------------------- 4.8/4.8 MB 9.6 MB/s eta 0:00:00\n",
            "Requirement already satisfied: tornado<7,>=6.0.3 in c:\\users\\codeg\\desktop\\nbkr\\saketh\\lib\\site-packages (from streamlit) (6.3.3)\n",
            "Collecting watchdog>=2.1.5 (from streamlit)\n",
            "  Downloading watchdog-3.0.0-py3-none-win_amd64.whl (82 kB)\n",
            "     ---------------------------------------- 82.0/82.0 kB 4.5 MB/s eta 0:00:00\n",
            "Collecting jinja2 (from altair<6,>=4.0->streamlit)\n",
            "  Using cached Jinja2-3.1.2-py3-none-any.whl (133 kB)\n",
            "Collecting jsonschema>=3.0 (from altair<6,>=4.0->streamlit)\n",
            "  Obtaining dependency information for jsonschema>=3.0 from https://files.pythonhosted.org/packages/ce/aa/d1bd0b5ec568a903cc3ebcb6b096ab65c1d971c8a01ca3bf3cf788c3c646/jsonschema-4.19.2-py3-none-any.whl.metadata\n",
            "  Using cached jsonschema-4.19.2-py3-none-any.whl.metadata (7.9 kB)\n",
            "Collecting toolz (from altair<6,>=4.0->streamlit)\n",
            "  Using cached toolz-0.12.0-py3-none-any.whl (55 kB)\n",
            "Requirement already satisfied: colorama in c:\\users\\codeg\\desktop\\nbkr\\saketh\\lib\\site-packages (from click<9,>=7.0->streamlit) (0.4.6)\n",
            "Collecting gitdb<5,>=4.0.1 (from gitpython!=3.1.19,<4,>=3.0.7->streamlit)\n",
            "  Obtaining dependency information for gitdb<5,>=4.0.1 from https://files.pythonhosted.org/packages/fd/5b/8f0c4a5bb9fd491c277c21eff7ccae71b47d43c4446c9d0c6cff2fe8c2c4/gitdb-4.0.11-py3-none-any.whl.metadata\n",
            "  Downloading gitdb-4.0.11-py3-none-any.whl.metadata (1.2 kB)\n",
            "Collecting zipp>=0.5 (from importlib-metadata<7,>=1.4->streamlit)\n",
            "  Obtaining dependency information for zipp>=0.5 from https://files.pythonhosted.org/packages/d9/66/48866fc6b158c81cc2bfecc04c480f105c6040e8b077bc54c634b4a67926/zipp-3.17.0-py3-none-any.whl.metadata\n",
            "  Downloading zipp-3.17.0-py3-none-any.whl.metadata (3.7 kB)\n",
            "Requirement already satisfied: pytz>=2020.1 in c:\\users\\codeg\\desktop\\nbkr\\saketh\\lib\\site-packages (from pandas<3,>=1.3.0->streamlit) (2023.3.post1)\n",
            "Requirement already satisfied: tzdata>=2022.1 in c:\\users\\codeg\\desktop\\nbkr\\saketh\\lib\\site-packages (from pandas<3,>=1.3.0->streamlit) (2023.3)\n",
            "Requirement already satisfied: six>=1.5 in c:\\users\\codeg\\desktop\\nbkr\\saketh\\lib\\site-packages (from python-dateutil<3,>=2.7.3->streamlit) (1.16.0)\n",
            "Requirement already satisfied: charset-normalizer<4,>=2 in c:\\users\\codeg\\desktop\\nbkr\\saketh\\lib\\site-packages (from requests<3,>=2.27->streamlit) (3.3.2)\n",
            "Requirement already satisfied: idna<4,>=2.5 in c:\\users\\codeg\\desktop\\nbkr\\saketh\\lib\\site-packages (from requests<3,>=2.27->streamlit) (3.4)\n",
            "Requirement already satisfied: urllib3<3,>=1.21.1 in c:\\users\\codeg\\desktop\\nbkr\\saketh\\lib\\site-packages (from requests<3,>=2.27->streamlit) (2.0.7)\n",
            "Requirement already satisfied: certifi>=2017.4.17 in c:\\users\\codeg\\desktop\\nbkr\\saketh\\lib\\site-packages (from requests<3,>=2.27->streamlit) (2023.7.22)\n",
            "Collecting markdown-it-py>=2.2.0 (from rich<14,>=10.14.0->streamlit)\n",
            "  Obtaining dependency information for markdown-it-py>=2.2.0 from https://files.pythonhosted.org/packages/42/d7/1ec15b46af6af88f19b8e5ffea08fa375d433c998b8a7639e76935c14f1f/markdown_it_py-3.0.0-py3-none-any.whl.metadata\n",
            "  Downloading markdown_it_py-3.0.0-py3-none-any.whl.metadata (6.9 kB)\n",
            "Requirement already satisfied: pygments<3.0.0,>=2.13.0 in c:\\users\\codeg\\desktop\\nbkr\\saketh\\lib\\site-packages (from rich<14,>=10.14.0->streamlit) (2.16.1)\n",
            "Collecting smmap<6,>=3.0.1 (from gitdb<5,>=4.0.1->gitpython!=3.1.19,<4,>=3.0.7->streamlit)\n",
            "  Obtaining dependency information for smmap<6,>=3.0.1 from https://files.pythonhosted.org/packages/a7/a5/10f97f73544edcdef54409f1d839f6049a0d79df68adbc1ceb24d1aaca42/smmap-5.0.1-py3-none-any.whl.metadata\n",
            "  Downloading smmap-5.0.1-py3-none-any.whl.metadata (4.3 kB)\n",
            "Requirement already satisfied: MarkupSafe>=2.0 in c:\\users\\codeg\\desktop\\nbkr\\saketh\\lib\\site-packages (from jinja2->altair<6,>=4.0->streamlit) (2.1.3)\n",
            "Collecting attrs>=22.2.0 (from jsonschema>=3.0->altair<6,>=4.0->streamlit)\n",
            "  Using cached attrs-23.1.0-py3-none-any.whl (61 kB)\n",
            "Collecting jsonschema-specifications>=2023.03.6 (from jsonschema>=3.0->altair<6,>=4.0->streamlit)\n",
            "  Obtaining dependency information for jsonschema-specifications>=2023.03.6 from https://files.pythonhosted.org/packages/1c/24/83349ac2189cc2435e84da3f69ba3c97314d3c0622628e55171c6798ed80/jsonschema_specifications-2023.7.1-py3-none-any.whl.metadata\n",
            "  Using cached jsonschema_specifications-2023.7.1-py3-none-any.whl.metadata (2.8 kB)\n",
            "Collecting referencing>=0.28.4 (from jsonschema>=3.0->altair<6,>=4.0->streamlit)\n",
            "  Obtaining dependency information for referencing>=0.28.4 from https://files.pythonhosted.org/packages/be/8e/56d6f1e2d591f4d6cbcba446cac4a1b0dc4f584537e2071d9bcee8eeab6b/referencing-0.30.2-py3-none-any.whl.metadata\n",
            "  Using cached referencing-0.30.2-py3-none-any.whl.metadata (2.6 kB)\n",
            "Requirement already satisfied: rpds-py>=0.7.1 in c:\\users\\codeg\\desktop\\nbkr\\saketh\\lib\\site-packages (from jsonschema>=3.0->altair<6,>=4.0->streamlit) (0.12.0)\n",
            "Collecting mdurl~=0.1 (from markdown-it-py>=2.2.0->rich<14,>=10.14.0->streamlit)\n",
            "  Downloading mdurl-0.1.2-py3-none-any.whl (10.0 kB)\n",
            "Downloading streamlit-1.28.1-py2.py3-none-any.whl (8.4 MB)\n",
            "   ---------------------------------------- 8.4/8.4 MB 20.7 MB/s eta 0:00:00\n",
            "Downloading altair-5.1.2-py3-none-any.whl (516 kB)\n",
            "   --------------------------------------- 516.2/516.2 kB 15.8 MB/s eta 0:00:00\n",
            "Using cached blinker-1.7.0-py3-none-any.whl (13 kB)\n",
            "Downloading cachetools-5.3.2-py3-none-any.whl (9.3 kB)\n",
            "Using cached click-8.1.7-py3-none-any.whl (97 kB)\n",
            "Downloading GitPython-3.1.40-py3-none-any.whl (190 kB)\n",
            "   --------------------------------------- 190.6/190.6 kB 11.3 MB/s eta 0:00:00\n",
            "Downloading importlib_metadata-6.8.0-py3-none-any.whl (22 kB)\n",
            "Downloading protobuf-4.25.0-cp310-abi3-win_amd64.whl (413 kB)\n",
            "   --------------------------------------- 413.2/413.2 kB 26.9 MB/s eta 0:00:00\n",
            "Downloading pyarrow-14.0.1-cp310-cp310-win_amd64.whl (24.6 MB)\n",
            "   ---------------------------------------- 24.6/24.6 MB 24.2 MB/s eta 0:00:00\n",
            "Downloading rich-13.6.0-py3-none-any.whl (239 kB)\n",
            "   --------------------------------------- 239.8/239.8 kB 14.3 MB/s eta 0:00:00\n",
            "Downloading tzlocal-5.2-py3-none-any.whl (17 kB)\n",
            "Downloading validators-0.22.0-py3-none-any.whl (26 kB)\n",
            "Downloading gitdb-4.0.11-py3-none-any.whl (62 kB)\n",
            "   ---------------------------------------- 62.7/62.7 kB 3.3 MB/s eta 0:00:00\n",
            "Using cached jsonschema-4.19.2-py3-none-any.whl (83 kB)\n",
            "Downloading markdown_it_py-3.0.0-py3-none-any.whl (87 kB)\n",
            "   ---------------------------------------- 87.5/87.5 kB 5.2 MB/s eta 0:00:00\n",
            "Downloading zipp-3.17.0-py3-none-any.whl (7.4 kB)\n",
            "Using cached jsonschema_specifications-2023.7.1-py3-none-any.whl (17 kB)\n",
            "Using cached referencing-0.30.2-py3-none-any.whl (25 kB)\n",
            "Downloading smmap-5.0.1-py3-none-any.whl (24 kB)\n",
            "Installing collected packages: zipp, watchdog, validators, tzlocal, toolz, toml, smmap, pyarrow, protobuf, mdurl, jinja2, click, cachetools, blinker, attrs, referencing, pydeck, markdown-it-py, importlib-metadata, gitdb, rich, jsonschema-specifications, gitpython, jsonschema, altair, streamlit\n",
            "Successfully installed altair-5.1.2 attrs-23.1.0 blinker-1.7.0 cachetools-5.3.2 click-8.1.7 gitdb-4.0.11 gitpython-3.1.40 importlib-metadata-6.8.0 jinja2-3.1.2 jsonschema-4.19.2 jsonschema-specifications-2023.7.1 markdown-it-py-3.0.0 mdurl-0.1.2 protobuf-4.25.0 pyarrow-14.0.1 pydeck-0.8.1b0 referencing-0.30.2 rich-13.6.0 smmap-5.0.1 streamlit-1.28.1 toml-0.10.2 toolz-0.12.0 tzlocal-5.2 validators-0.22.0 watchdog-3.0.0 zipp-3.17.0\n"
          ]
        }
      ],
      "source": [
        "#No Free Lunch Theorem -->No one model perfectly fits the data\n",
        "#Finally we will present our model-->we can use flask as webservice -->AWS,Pythonanywhere\n",
        "#House Price Prediction-->  Streamlit directly\n",
        "!pip install streamlit"
      ]
    },
    {
      "cell_type": "code",
      "execution_count": null,
      "id": "64a9d9f6",
      "metadata": {
        "id": "64a9d9f6"
      },
      "outputs": [],
      "source": []
    }
  ],
  "metadata": {
    "kernelspec": {
      "display_name": "Python 3 (ipykernel)",
      "language": "python",
      "name": "python3"
    },
    "language_info": {
      "codemirror_mode": {
        "name": "ipython",
        "version": 3
      },
      "file_extension": ".py",
      "mimetype": "text/x-python",
      "name": "python",
      "nbconvert_exporter": "python",
      "pygments_lexer": "ipython3",
      "version": "3.10.7"
    },
    "colab": {
      "provenance": []
    }
  },
  "nbformat": 4,
  "nbformat_minor": 5
}